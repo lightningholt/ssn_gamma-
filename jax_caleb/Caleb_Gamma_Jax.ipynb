{
 "cells": [
  {
   "cell_type": "code",
   "execution_count": 1,
   "metadata": {},
   "outputs": [
    {
     "data": {
      "text/plain": [
       "<module 'make_plot' from '/Users/cholt/Google Drive/Python/torch_SSN/jax_caleb/make_plot.py'>"
      ]
     },
     "execution_count": 1,
     "metadata": {},
     "output_type": "execute_result"
    }
   ],
   "source": [
    "import jax.numpy as np\n",
    "from jax import grad, value_and_grad, jit, ops\n",
    "\n",
    "import matplotlib.pyplot as plt\n",
    "%matplotlib inline \n",
    "from scipy.optimize import minimize\n",
    "import numpy as onp\n",
    "\n",
    "import SSN_classes\n",
    "import SSN_power_spec\n",
    "import gamma_SSN_losses as losses\n",
    "import make_plot\n",
    "from util import sigmoid_params\n",
    "\n",
    "from importlib import reload\n",
    "reload(SSN_classes)\n",
    "reload(SSN_power_spec)\n",
    "reload(losses)\n",
    "reload(make_plot)"
   ]
  },
  {
   "cell_type": "code",
   "execution_count": 2,
   "metadata": {},
   "outputs": [
    {
     "name": "stderr",
     "output_type": "stream",
     "text": [
      "/Users/cholt/Google Drive/Python/torch_SSN/jax/jax/lib/xla_bridge.py:109: UserWarning: No GPU/TPU found, falling back to CPU.\n",
      "  warnings.warn('No GPU/TPU found, falling back to CPU.')\n"
     ]
    }
   ],
   "source": [
    "#the constant (non-optimized) parameters:\n",
    "\n",
    "#fixed point algorithm:\n",
    "dt = 1\n",
    "xtol = 1e-6\n",
    "Tmax = 500\n",
    "\n",
    "#power spectrum resolution and range\n",
    "fnums = 30\n",
    "freq_range = [15,100]\n",
    "\n",
    "#SSN parameters\n",
    "n = 2\n",
    "k = 0.04\n",
    "tauE = 20 # in ms\n",
    "tauI = 10 # in ms\n",
    "psi = 0.774\n",
    "\n",
    "t_scale = 1\n",
    "tau_s = np.array([3, 5, 100])*t_scale #in ms, AMPA, GABA, NMDA current decay time constants\n",
    "# NMDAratio = 0.4 #NMDA strength as a fraction of E synapse weight"
   ]
  },
  {
   "cell_type": "code",
   "execution_count": 13,
   "metadata": {},
   "outputs": [],
   "source": [
    "def ssn_PS(pos_params, contrasts):\n",
    "    params = sigmoid_params(pos_params)\n",
    "    \n",
    "    #unpack parameters\n",
    "    Jee = params[0] * np.pi * psi\n",
    "    Jei = params[1] * np.pi * psi\n",
    "    Jie = params[2] * np.pi * psi\n",
    "    Jii = params[3] * np.pi * psi\n",
    "    \n",
    "    if len(params) < 6:\n",
    "        i2e = params[4]\n",
    "        gE = 1\n",
    "        gI = 1\n",
    "        NMDAratio = 0.4\n",
    "    else:\n",
    "        i2e = 1\n",
    "        gE = params[4]\n",
    "        gI = params[5]\n",
    "        NMDAratio = params[6]\n",
    "    \n",
    "    \n",
    "    cons = len(contrasts)\n",
    "\n",
    "    #J2x2 = np.array([[Jee, -Jei], [Jie,  -Jii]]) * np.pi * psi #np.array([[2.5, -1.3], [2.4,  -1.0]]) * np.pi * psi\n",
    "    #ssn = SSN_classes.SSN_2D_AMPAGABA(tau_s, NMDAratio, n,k,tauE,tauI, *np.abs(J2x2).ravel())\n",
    "\n",
    "    ssn = SSN_classes.SSN_2D_AMPAGABA(tau_s, NMDAratio, n,k, tauE, tauI, Jee, Jei, Jie, Jii)\n",
    "    \n",
    "    r_init = np.zeros([ssn.N, len(contrasts)])\n",
    "    inp_vec = np.array([[gE], [gI*i2e]]) * contrasts\n",
    "    \n",
    "    r_fp, CONVG = ssn.fixed_point_r(inp_vec, r_init=r_init, Tmax=Tmax, dt=dt, xtol=xtol)\n",
    "    \n",
    "    spect, fs, f0, _ = SSN_power_spec.linear_PS_sameTime(ssn, r_fp, SSN_power_spec.NoisePars(), freq_range, fnums, cons)\n",
    "    \n",
    "    return spect, fs, f0, r_fp, CONVG\n",
    "\n",
    "\n",
    "#@jit\n",
    "def loss(params):\n",
    "    contrasts = np.array([0, 25, 50, 100])\n",
    "    spect, fs, f0, r_fp, CONVG = ssn_PS(params, contrasts)\n",
    "    \n",
    "    if CONVG:\n",
    "    \n",
    "        if np.max(np.abs(np.imag(spect))) > 0.01:\n",
    "            print(\"Spectrum is dangerously imaginary\")\n",
    "\n",
    "    #     spect_loss = losses.loss_spect_contrasts(fs, np.real(spect))\n",
    "    #     rates_loss = losses.loss_rates_contrasts(r_fp)\n",
    "    #     param_loss = losses.loss_params(params)\n",
    "\n",
    "        #half_width_rates = 20 # basin around acceptable rates \n",
    "        #lower_bound_rates = 5 # needs to be > 0, valley will start lower_bound, 5 is a nice value with kink_control = 5\n",
    "        #upper_bound_rates = 80 # valley ends at upper_bound, keeps rates from blowing up\n",
    "        #kink_control = 1 # how quickly log(1 + exp(x)) goes to ~x, where x = target_rates - found_rates\n",
    "\n",
    "        cons = len(contrasts)\n",
    "        lower_bound_rates = -5 * np.ones([2, cons-1])\n",
    "        upper_bound_rates = np.vstack((70*np.ones(cons-1), 100*np.ones(cons-1)))\n",
    "        kink_control = 1 # how quickly log(1 + exp(x)) goes to ~x, where x = target_rates - found_rates    \n",
    "\n",
    "        prefact_rates = 1\n",
    "        prefact_params = 10\n",
    "\n",
    "        fs_loss_inds = np.arange(0 , len(fs))\n",
    "#         fs_loss_inds = np.array([freq for freq in fs_loss_inds if fs[freq] >20])\n",
    "#         spect_loss = losses.loss_spect_nonzero_contrasts(fs[fs_loss_inds], spect[fs_loss_inds,:])\n",
    "\n",
    "        spect_loss = losses.loss_spect_contrasts(fs, np.real(spect))\n",
    "        #rates_loss = prefact_rates * losses.loss_rates_contrasts(r_fp[:,1:], lower_bound_rates, upper_bound_rates, kink_control) #fourth arg is slope which is set to 1 normally\n",
    "        #param_loss = prefact_params * losses.loss_params(params)\n",
    "\n",
    "\n",
    "    #     if spect_loss/rates_loss < 1:\n",
    "    #         print('rates loss is greater than spect loss')\n",
    "    #     print(spect_loss/rates_loss) \n",
    "\n",
    "        return spect_loss #+ rates_loss + param_loss\n",
    "    else:\n",
    "        return np.inf\n",
    "    \n",
    "#         return losses.loss_SSN_2D_contrast(fs, np.real(spect))\n",
    "        \n",
    "#         return losses.loss_SSN_2D_contrast(fs, np.real(spect))\n",
    "\n",
    "def sigmoid_jee(pos_params):\n",
    "    J_max = 3\n",
    "    Jee = J_max * logistic_sig(pos_params[0])\n",
    "    Jei = J_max * logistic_sig(pos_params[1])\n",
    "    Jie = J_max * logistic_sig(pos_params[2])\n",
    "    Jii = J_max * logistic_sig(pos_params[3])\n",
    "    \n",
    "    if len(pos_params) < 6:\n",
    "        i2e = logistic_sigig(pos_params[4])\n",
    "        gE = 1\n",
    "        gI = 1\n",
    "        NMDAratio = 0.4\n",
    "    else:\n",
    "        i2e = 1\n",
    "        gE = params[4]\n",
    "        gI = params[5]\n",
    "        NMDAratio = params[6]\n",
    "    \n",
    "    params = np.hstack((Jee, Jei, Jie, Jii, pos_params[4:]))\n",
    "    \n",
    "    return params\n",
    "\n",
    "def logistic_sig(x):\n",
    "    return 1/(1 + np.exp(-x))\n",
    "\n",
    "\n",
    "# def ssn_PS_v(params, contrasts):\n",
    "#     #unpack parameters\n",
    "#     Jee = params[0]\n",
    "#     Jei = params[1]\n",
    "#     Jie = params[2]\n",
    "#     Jii = params[3]\n",
    "#     i2e = params[4]\n",
    "\n",
    "#     J2x2 = np.array([[Jee, -Jei], [Jie,  -Jii]]) * np.pi * psi #np.array([[2.5, -1.3], [2.4,  -1.0]]) * np.pi * psi\n",
    "#     ssn = SSN_classes.SSN_2D_AMPAGABA(tau_s, NMDAratio, n,k,tauE,tauI, *np.abs(J2x2).ravel())\n",
    "    \n",
    "#     spect = []\n",
    "#     v_init = np.zeros(ssn.dim)\n",
    "#     for con in contrasts:\n",
    "#         inp_vec = np.array([1,i2e]) * con\n",
    "#         v_fp = ssn.fixed_point(inp_vec, x_init=v_init, Tmax=Tmax, dt=dt, xtol=xtol)\n",
    "#         v_init = v_fp\n",
    "#         r_fp = ssn.powlaw( v_fp.reshape((ssn.num_rcpt, ssn.N)).sum(axis=0) )\n",
    "\n",
    "#         powspecE, fs, _ = SSN_power_spec.linear_power_spect(ssn, r_fp, SSN_power_spec.NoisePars(), freq_range=freq_range, fnums=fnums)\n",
    "#         spect.append(powspecE)\n",
    "    \n",
    "#     spect = np.array(spect).T\n",
    "#     return spect, fs"
   ]
  },
  {
   "cell_type": "code",
   "execution_count": 12,
   "metadata": {},
   "outputs": [],
   "source": [
    "# NEED TAKA's HELP\n",
    "\n",
    "# def make_loss_with_state_update():\n",
    "    \n",
    "#     r_init = np.zeros([ssn.N, len(contrasts)]) #initial states in Taka's code\n",
    "#     prev_solutions = np.zeros([ssn.N, len(contrasts)])\n",
    "    \n",
    "    \n",
    "#     def loss(params):\n",
    "#         contrasts = np.array([0, 25, 50, 100])\n",
    "\n",
    "#         #unpack parameters\n",
    "#         params = sigmoid_jee(pos_params)\n",
    "\n",
    "#         psi = 0.774\n",
    "#         Jee = params[0] * np.pi * psi  \n",
    "#         Jei = params[1] * np.pi * psi  \n",
    "#         Jie = params[2] * np.pi * psi  \n",
    "#         Jii = params[3] * np.pi * psi  \n",
    "\n",
    "#         if len(params) < 6:\n",
    "#             i2e = params[4]\n",
    "#             gE = 1\n",
    "#             gI = 1\n",
    "#             NMDAratio = 0.4\n",
    "#         else:\n",
    "#             i2e = 1\n",
    "#             gE = params[4]\n",
    "#             gI = params[5]\n",
    "#             NMDAratio = params[6]\n",
    "\n",
    "# #         lower_bound_rates = -5 * np.ones([2, cons-1])\n",
    "#         lower_bound_rates = -5 * np.ones([2, cons-1])\n",
    "#         upper_bound_rates = np.vstack((70*np.ones(cons-1), 100*np.ones(cons-1)))\n",
    "#         kink_control = 1 # how quickly log(1 + exp(x)) goes to ~x, where x = target_rates - found_rates    \n",
    "#         prefact_rates = 1\n",
    "#         prefact_params = 10\n",
    "#         fs_loss_inds = np.arange(0 , len(fs))\n",
    "#         fs_loss_inds = np.array([freq for freq in fs_loss_inds if fs[freq] >20])#np.where(fs > 0, fs_loss_inds, )\n",
    "\n",
    "#         cons = len(contrasts)\n",
    "\n",
    "#         ssn = SSN_classes.SSN_2D_AMPAGABA(tau_s, NMDAratio, n,k,tauE,tauI, Jee, Jei, Jie, Jii)\n",
    "\n",
    "#         inp_vec = np.array([[gE], [gI*i2e]]) * contrasts\n",
    "\n",
    "#         r_fp = ssn.fixed_point_r(inp_vec, r_init=r_init, Tmax=Tmax, dt=dt, xtol=xtol)\n",
    "#         @jax.custom_gradient\n",
    "#         def no_grad(f):\n",
    "#             return f(), lambda g: ()\n",
    "        \n",
    "#         @no_grad\n",
    "#         def _():\n",
    "#             prev_solutions = r_fp #store the last\n",
    "            \n",
    "#         spect, fs, f0, _ = SSN_power_spec.linear_PS_sameTime(ssn, r_fp, SSN_power_spec.NoisePars(), freq_range, fnums, cons)\n",
    "        \n",
    "#         spect_loss = losses.loss_spect_contrasts(fs[fs_loss_inds], np.real(spect[fs_loss_inds, :]))\n",
    "#         rates_loss = prefact_rates * losses.loss_rates_contrasts(r_fp, lower_bound_rates, upper_bound_rates, kink_control) #fourth arg is slope which is set to 1 normally\n",
    "#         param_loss = prefact_params * losses.loss_params(params)\n",
    "        \n",
    "#         if spect_loss/rates_loss < 1:\n",
    "#             print('rates loss is greater than spect loss')\n",
    "        \n",
    "#         return spect_loss + param_loss + rates_loss\n",
    "    \n",
    "#     return loss, r_init, prev_solutions\n",
    "\n",
    "# def make_callback(r_init, prev_solutions):\n",
    "#     def callback(_):\n",
    "#         r_init = prev_solutions\n",
    "\n",
    "# loss, r_init, prev_solutions = make_loss_with_state_update()\n",
    "# callback = make_callback(r_init, prev_solutions)\n",
    "\n",
    "# grad_loss = grad(loss)    "
   ]
  },
  {
   "cell_type": "code",
   "execution_count": 14,
   "metadata": {},
   "outputs": [
    {
     "name": "stdout",
     "output_type": "stream",
     "text": [
      "run time: 0.6719810962677002\n"
     ]
    },
    {
     "name": "stderr",
     "output_type": "stream",
     "text": [
      "/Users/cholt/miniconda3/envs/juC/lib/python3.7/site-packages/numpy/core/numeric.py:538: ComplexWarning: Casting complex values to real discards the imaginary part\n",
      "  return array(a, dtype, copy=False, order=order)\n"
     ]
    },
    {
     "data": {
      "text/plain": [
       "Text(0.5, 0, 'frequency (Hz)')"
      ]
     },
     "execution_count": 14,
     "metadata": {},
     "output_type": "execute_result"
    },
    {
     "data": {
      "image/png": "[encoded data removed]",
      "text/plain": [
       "<Figure size 432x288 with 1 Axes>"
      ]
     },
     "metadata": {
      "needs_background": "light"
     },
     "output_type": "display_data"
    }
   ],
   "source": [
    "# params_init = np.array([2.5, 1.3, 2.4,  1.0, 1.0]) # [Jee, Jei, Jie, Jii, i2e]\n",
    "# params_init = np.array([1.7, 1.25, 2.2,  1.5, 1.2]) # [Jee, Jei, Jie, Jii, i2e]\n",
    "params_init = np.array([2.5, 1.3, 2.4, 1.0, 1.0, 1.0, 0.6]) # ground_truth init parameters that converged -- no sigmoid! \n",
    "params_init= np.array([ 1.60943794, -0.26826397,  1.38629436, -0.69314718, -0., -0.69314718,  0.40546507]) # parameters that when sigmoided yield the above line\n",
    "test_contrasts = np.array([0, 25, 50, 100])\n",
    "\n",
    "## Ground truth Parameters\n",
    "# ideal_params = [1.7, 1.525, 1.7, -0.5, 0.6]\n",
    "\n",
    "import time\n",
    "t0 = time.time()\n",
    "init_spect, fs, f0, init_r_fp, _ = ssn_PS(params_init, test_contrasts)\n",
    "tt = time.time()-t0\n",
    "print(\"run time:\", tt)\n",
    "\n",
    "target_PS = losses.get_target_spect(fs, ground_truth=True)\n",
    "\n",
    "\n",
    "fig, ax = plt.subplots(1,1)\n",
    "ax.plot(fs, target_PS, \"--\")\n",
    "ax.set_prop_cycle(None)\n",
    "ax.plot(fs, init_spect/np.mean(init_spect))\n",
    "ax.set_title('pre gradienct descent')\n",
    "ax.set_ylabel('power spectrum (a.u.)')\n",
    "ax.set_xlabel('frequency (Hz)')"
   ]
  },
  {
   "cell_type": "code",
   "execution_count": 7,
   "metadata": {},
   "outputs": [
    {
     "name": "stdout",
     "output_type": "stream",
     "text": [
      "0.4787612\n"
     ]
    },
    {
     "data": {
      "image/png": "[encoded data removed]",
      "text/plain": [
       "<Figure size 432x288 with 1 Axes>"
      ]
     },
     "metadata": {
      "needs_background": "light"
     },
     "output_type": "display_data"
    }
   ],
   "source": [
    "target_f0 = np.array(SSN_power_spec.find_peak_freq(fs, target_PS, len(test_contrasts)))\n",
    "obs_f0 = np.array(SSN_power_spec.find_peak_freq(fs, init_spect, len(test_contrasts)))\n",
    "color_order = ['tab:orange', 'tab:green', 'tab:red']\n",
    "ind=0\n",
    "\n",
    "\n",
    "fig, ax = plt.subplots(1,1)\n",
    "ax.plot(fs, target_PS, \"--\")\n",
    "ax.legend({'C = 0', 'C = 25', 'C = 50', 'C = 100'})\n",
    "for ff in target_f0:\n",
    "    ax.axvline(x=ff, color=color_order[ind] , ls=':')\n",
    "    ind += 1\n",
    "ax.set_prop_cycle(None)\n",
    "ax.plot(fs, init_spect/np.mean(init_spect))\n",
    "ind=0\n",
    "for ff in obs_f0:\n",
    "    ax.axvline(x=ff, color=color_order[ind] , ls='-.')\n",
    "    ind += 1\n",
    "\n",
    "ax.set_title('pre gradienct descent')\n",
    "ax.set_ylabel('power spectrum (a.u.)')\n",
    "ax.set_xlabel('frequency (Hz)')\n",
    "\n",
    "\n",
    "# plt.plot(fs[0:20], target_PS[0:20, :])\n",
    "# ind = 0\n",
    "# plt.legend({'C = 0', 'C = 25', 'C = 50', 'C = 100'})\n",
    "\n",
    "\n",
    "\n",
    "\n",
    "    \n",
    "print(losses.loss_peak_freq(obs_f0, target_f0))"
   ]
  },
  {
   "cell_type": "markdown",
   "metadata": {},
   "source": [
    "# Run Gradient Descent"
   ]
  },
  {
   "cell_type": "code",
   "execution_count": 37,
   "metadata": {},
   "outputs": [
    {
     "name": "stdout",
     "output_type": "stream",
     "text": [
      "G.D. step  1\n"
     ]
    },
    {
     "name": "stderr",
     "output_type": "stream",
     "text": [
      "/Users/cholt/Google Drive/Python/torch_SSN/jax/jax/lax/lax.py:328: ComplexWarning: Casting complex values to real discards the imaginary part\n",
      "  warnings.warn(msg, onp.ComplexWarning)\n"
     ]
    },
    {
     "name": "stdout",
     "output_type": "stream",
     "text": [
      "G.D. step  2\n",
      "G.D. step  3\n",
      "G.D. step  4\n",
      "G.D. step  5\n",
      "G.D. step  6\n",
      "G.D. step  7\n",
      "G.D. step  8\n",
      "G.D. step  9\n",
      "G.D. step  10\n",
      "10 GD steps took 43.37426996231079 seconds.\n",
      "fit [Jee, Jei, Jie, Jii, gE, gI, NMDAratio] =  [2.493169   1.3191355  2.4041247  0.98356503 0.97700363 1.0240897\n",
      " 0.6175825 ]\n"
     ]
    }
   ],
   "source": [
    "#dloss = grad(loss)\n",
    "dloss = value_and_grad(loss)\n",
    "\n",
    "gd_iters = 10\n",
    "eta = .001 #learning rate\n",
    "\n",
    "params = params_init\n",
    "loss_t = []\n",
    "t0 = time.time()\n",
    "for ii in range(gd_iters):\n",
    "    print(\"G.D. step \", ii+1)\n",
    "    L, dL = dloss(params)\n",
    "    params = params - eta * dL #dloss(params)\n",
    "    loss_t.append(L)\n",
    "\n",
    "print(\"{} GD steps took {} seconds.\".format(gd_iters, time.time()-t0))\n",
    "if len(params) < 6:\n",
    "    print(\"fit [Jee, Jei, Jie, Jii, i2e] = \", params)\n",
    "else:\n",
    "    print(\"fit [Jee, Jei, Jie, Jii, gE, gI, NMDAratio] = \", params)"
   ]
  },
  {
   "cell_type": "code",
   "execution_count": null,
   "metadata": {},
   "outputs": [
    {
     "name": "stdout",
     "output_type": "stream",
     "text": [
      "\n",
      " Warning 1: reached Tmax=500, before convergence to fixed point.\n",
      "       max(abs(dx./max(abs(xvec), 1.0))) = nan,   xtol=1e-06.\n",
      "\n",
      "Did not reach fixed point.\n",
      "\n",
      " Warning 1: reached Tmax=500, before convergence to fixed point.\n",
      "       max(abs(dx./max(abs(xvec), 1.0))) = Traced<ConcreteArray(nan)>with<JVPTrace(level=1/0)>,   xtol=1e-06.\n",
      "\n",
      "Did not reach fixed point.\n",
      "\n",
      " Warning 1: reached Tmax=500, before convergence to fixed point.\n",
      "       max(abs(dx./max(abs(xvec), 1.0))) = nan,   xtol=1e-06.\n",
      "\n",
      "Did not reach fixed point.\n",
      "\n",
      " Warning 1: reached Tmax=500, before convergence to fixed point.\n",
      "       max(abs(dx./max(abs(xvec), 1.0))) = nan,   xtol=1e-06.\n",
      "\n",
      "Did not reach fixed point.\n"
     ]
    },
    {
     "name": "stderr",
     "output_type": "stream",
     "text": [
      "/Users/cholt/Google Drive/Python/torch_SSN/jax/jax/lax/lax.py:328: ComplexWarning: Casting complex values to real discards the imaginary part\n",
      "  warnings.warn(msg, onp.ComplexWarning)\n",
      "/Users/cholt/Google Drive/Python/torch_SSN/jax/jax/lax/lax.py:328: ComplexWarning: Casting complex values to real discards the imaginary part\n",
      "  warnings.warn(msg, onp.ComplexWarning)\n"
     ]
    }
   ],
   "source": [
    "## minimize instead\n",
    "dloss = grad(loss)\n",
    "# dloss = value_and_grad(loss)\n",
    "\n",
    "def jac_dloss(params):\n",
    "    gradient = onp.asarray(dloss(params))\n",
    "    norm_grad.append(onp.linalg.norm(gradient))\n",
    "    return gradient\n",
    "\n",
    "def loss_hist(params):\n",
    "    ll = onp.asarray(loss(params))\n",
    "    loss_t.append(ll)\n",
    "    return ll\n",
    "\n",
    "# gd_iters = 1000\n",
    "gd_iters = 10\n",
    "eta = .001 #learning rate\n",
    "\n",
    "params = params_init\n",
    "loss_t = []\n",
    "norm_grad = []\n",
    "\n",
    "def c_back(xk):\n",
    "    loss_t.append(xk.fun)\n",
    "    norm_grad.append(np.norm(xk.jac))\n",
    "\n",
    "\n",
    "t0 = time.time()\n",
    "\n",
    "res = minimize(loss_hist, params, method='BFGS', jac=jac_dloss, options={'disp':True})#, 'maxiter':gd_iters})\n",
    "\n",
    "params = res.x\n",
    "\n",
    "print(\"{} GD steps took {} seconds.\".format(gd_iters, time.time()-t0))\n",
    "print(\"fit [Jee, Jei, Jie, Jii, i2e] = \", sigmoid_params(params))"
   ]
  },
  {
   "cell_type": "code",
   "execution_count": null,
   "metadata": {},
   "outputs": [],
   "source": [
    "obs_spect, fs, f0, obs_rates, _ = ssn_PS(params, test_contrasts)\n",
    "obs_spect = np.real(obs_spect/np.mean(np.real(obs_spect)))\n",
    "init_spect = np.real(init_spect/np.mean(np.real(init_spect)))\n",
    "cons = len(test_contrasts)\n",
    "target_rates = losses.get_target_rates()\n",
    "lower_bound_rates = -5 * np.ones([2, cons-1])\n",
    "upper_bound_rates = np.vstack((70*np.ones(cons-1), 100*np.ones(cons-1)))\n",
    "\n",
    "make_plot.power_spect_rates_plot(fs, obs_spect, target_PS, test_contrasts, obs_rates.T, target_rates.T, init_spect, init_r_fp.T, lower_bound_rates, upper_bound_rates)"
   ]
  },
  {
   "cell_type": "code",
   "execution_count": 10,
   "metadata": {},
   "outputs": [
    {
     "data": {
      "text/plain": [
       "DeviceArray([2.18886566, 0.72473621, 2.5256443, 0.58229268, 0.63058102,\n",
       "             0.72763097, 0.387306 ], dtype=float32)"
      ]
     },
     "execution_count": 10,
     "metadata": {},
     "output_type": "execute_result"
    }
   ],
   "source": [
    "sigmoid_params(params)"
   ]
  },
  {
   "cell_type": "code",
   "execution_count": 21,
   "metadata": {},
   "outputs": [
    {
     "name": "stderr",
     "output_type": "stream",
     "text": [
      "/Users/cholt/Google Drive/Python/torch_SSN/jax/jax/lax/lax.py:328: ComplexWarning: Casting complex values to real discards the imaginary part\n",
      "  warnings.warn(msg, onp.ComplexWarning)\n"
     ]
    },
    {
     "data": {
      "text/plain": [
       "[<matplotlib.lines.Line2D at 0x1471683d0>]"
      ]
     },
     "execution_count": 21,
     "metadata": {},
     "output_type": "execute_result"
    },
    {
     "data": {
      "image/png": "[encoded data removed]",
      "text/plain": [
       "<Figure size 432x288 with 1 Axes>"
      ]
     },
     "metadata": {
      "needs_background": "light"
     },
     "output_type": "display_data"
    }
   ],
   "source": [
    "gradient_init = dloss(params_init)\n",
    "gradient_init = gradient_init/np.linalg.norm(gradient_init)\n",
    "\n",
    "x = np.linspace(0, 0.15, 200)\n",
    "loss_grad = []\n",
    "for ii in x:\n",
    "    loss_grad.append(loss(params_init - ii*gradient_init))\n",
    "plt.plot(x, loss_grad)"
   ]
  },
  {
   "cell_type": "code",
   "execution_count": 20,
   "metadata": {},
   "outputs": [
    {
     "data": {
      "text/plain": [
       "[DeviceArray(0.62683094, dtype=float32),\n",
       " DeviceArray(0.62196666, dtype=float32),\n",
       " DeviceArray(0.61711526, dtype=float32),\n",
       " DeviceArray(0.612277, dtype=float32),\n",
       " DeviceArray(0.6074532, dtype=float32),\n",
       " DeviceArray(0.60264635, dtype=float32),\n",
       " DeviceArray(0.59785736, dtype=float32),\n",
       " DeviceArray(0.5930869, dtype=float32),\n",
       " DeviceArray(0.5883384, dtype=float32),\n",
       " DeviceArray(0.58361405, dtype=float32),\n",
       " DeviceArray(0.57891566, dtype=float32),\n",
       " DeviceArray(0.5742459, dtype=float32),\n",
       " DeviceArray(0.5696074, dtype=float32),\n",
       " DeviceArray(0.5650044, dtype=float32),\n",
       " DeviceArray(0.5604401, dtype=float32),\n",
       " DeviceArray(0.55591565, dtype=float32),\n",
       " DeviceArray(0.5514391, dtype=float32),\n",
       " DeviceArray(0.54701275, dtype=float32),\n",
       " DeviceArray(0.5426423, dtype=float32),\n",
       " DeviceArray(0.5383323, dtype=float32),\n",
       " DeviceArray(0.53408784, dtype=float32),\n",
       " DeviceArray(0.5299167, dtype=float32),\n",
       " DeviceArray(0.52582574, dtype=float32),\n",
       " DeviceArray(0.5218206, dtype=float32),\n",
       " DeviceArray(0.5179099, dtype=float32),\n",
       " DeviceArray(0.514102, dtype=float32),\n",
       " DeviceArray(0.510407, dtype=float32),\n",
       " DeviceArray(0.5068343, dtype=float32),\n",
       " DeviceArray(0.50339305, dtype=float32),\n",
       " DeviceArray(0.50009716, dtype=float32),\n",
       " DeviceArray(0.49695823, dtype=float32),\n",
       " DeviceArray(0.4939896, dtype=float32),\n",
       " DeviceArray(0.4912048, dtype=float32),\n",
       " DeviceArray(0.4886207, dtype=float32),\n",
       " DeviceArray(0.48625436, dtype=float32),\n",
       " DeviceArray(0.48412243, dtype=float32),\n",
       " DeviceArray(0.48224455, dtype=float32),\n",
       " DeviceArray(0.48064172, dtype=float32),\n",
       " DeviceArray(0.4793364, dtype=float32),\n",
       " DeviceArray(0.47835177, dtype=float32),\n",
       " DeviceArray(0.47771445, dtype=float32),\n",
       " DeviceArray(0.47745124, dtype=float32),\n",
       " DeviceArray(0.47759145, dtype=float32),\n",
       " DeviceArray(0.47816625, dtype=float32),\n",
       " DeviceArray(0.47920868, dtype=float32),\n",
       " DeviceArray(0.4807549, dtype=float32),\n",
       " DeviceArray(0.48284295, dtype=float32),\n",
       " DeviceArray(0.485513, dtype=float32),\n",
       " DeviceArray(0.48880628, dtype=float32),\n",
       " DeviceArray(0.49277073, dtype=float32),\n",
       " DeviceArray(0.4974517, dtype=float32),\n",
       " DeviceArray(0.5028997, dtype=float32),\n",
       " DeviceArray(0.50916815, dtype=float32),\n",
       " DeviceArray(0.51631343, dtype=float32),\n",
       " DeviceArray(0.5243907, dtype=float32),\n",
       " DeviceArray(0.53346264, dtype=float32),\n",
       " DeviceArray(0.54359066, dtype=float32),\n",
       " DeviceArray(0.55483615, dtype=float32),\n",
       " DeviceArray(0.5672638, dtype=float32),\n",
       " DeviceArray(0.58094215, dtype=float32),\n",
       " DeviceArray(0.59593064, dtype=float32),\n",
       " DeviceArray(0.61229813, dtype=float32),\n",
       " DeviceArray(0.6300969, dtype=float32),\n",
       " DeviceArray(0.6493802, dtype=float32),\n",
       " DeviceArray(0.67020404, dtype=float32),\n",
       " DeviceArray(0.69259846, dtype=float32),\n",
       " DeviceArray(0.71657664, dtype=float32),\n",
       " DeviceArray(0.74214715, dtype=float32),\n",
       " DeviceArray(0.76926965, dtype=float32),\n",
       " DeviceArray(0.797894, dtype=float32),\n",
       " DeviceArray(0.8279082, dtype=float32),\n",
       " DeviceArray(0.85913414, dtype=float32),\n",
       " DeviceArray(0.89132, dtype=float32),\n",
       " DeviceArray(0.9241536, dtype=float32),\n",
       " DeviceArray(0.9571868, dtype=float32),\n",
       " DeviceArray(0.9898574, dtype=float32),\n",
       " DeviceArray(1.0214702, dtype=float32),\n",
       " DeviceArray(1.0511998, dtype=float32),\n",
       " DeviceArray(1.0781059, dtype=float32),\n",
       " DeviceArray(1.1011736, dtype=float32),\n",
       " DeviceArray(1.1194092, dtype=float32),\n",
       " DeviceArray(1.1319079, dtype=float32),\n",
       " DeviceArray(1.1379569, dtype=float32),\n",
       " DeviceArray(1.1372174, dtype=float32),\n",
       " DeviceArray(1.1297209, dtype=float32),\n",
       " DeviceArray(1.1159611, dtype=float32),\n",
       " DeviceArray(1.0967844, dtype=float32),\n",
       " DeviceArray(1.0733219, dtype=float32),\n",
       " DeviceArray(1.0468392, dtype=float32),\n",
       " DeviceArray(1.0186278, dtype=float32),\n",
       " DeviceArray(0.98982, dtype=float32),\n",
       " DeviceArray(0.9614048, dtype=float32),\n",
       " DeviceArray(0.9341332, dtype=float32),\n",
       " DeviceArray(0.9085638, dtype=float32),\n",
       " DeviceArray(0.88504183, dtype=float32),\n",
       " DeviceArray(0.86378527, dtype=float32),\n",
       " DeviceArray(0.8448689, dtype=float32),\n",
       " DeviceArray(0.8282963, dtype=float32),\n",
       " DeviceArray(0.8139863, dtype=float32),\n",
       " DeviceArray(0.8018454, dtype=float32),\n",
       " DeviceArray(0.7917283, dtype=float32),\n",
       " DeviceArray(0.78349805, dtype=float32),\n",
       " DeviceArray(0.77702314, dtype=float32),\n",
       " DeviceArray(0.7721374, dtype=float32),\n",
       " DeviceArray(0.768703, dtype=float32),\n",
       " DeviceArray(0.7665936, dtype=float32),\n",
       " DeviceArray(0.76567113, dtype=float32),\n",
       " DeviceArray(0.7658232, dtype=float32),\n",
       " DeviceArray(0.7669393, dtype=float32),\n",
       " DeviceArray(0.76890826, dtype=float32),\n",
       " DeviceArray(0.7716401, dtype=float32),\n",
       " DeviceArray(0.631779, dtype=float32),\n",
       " DeviceArray(0.7199693, dtype=float32),\n",
       " DeviceArray(0.742476, dtype=float32),\n",
       " DeviceArray(0.9455301, dtype=float32),\n",
       " DeviceArray(nan, dtype=float32),\n",
       " DeviceArray(nan, dtype=float32),\n",
       " DeviceArray(nan, dtype=float32),\n",
       " DeviceArray(nan, dtype=float32),\n",
       " DeviceArray(nan, dtype=float32),\n",
       " DeviceArray(nan, dtype=float32),\n",
       " DeviceArray(nan, dtype=float32),\n",
       " DeviceArray(nan, dtype=float32),\n",
       " DeviceArray(nan, dtype=float32),\n",
       " DeviceArray(nan, dtype=float32),\n",
       " DeviceArray(nan, dtype=float32),\n",
       " DeviceArray(nan, dtype=float32),\n",
       " DeviceArray(nan, dtype=float32),\n",
       " DeviceArray(nan, dtype=float32),\n",
       " DeviceArray(nan, dtype=float32),\n",
       " DeviceArray(nan, dtype=float32),\n",
       " DeviceArray(nan, dtype=float32),\n",
       " DeviceArray(nan, dtype=float32),\n",
       " DeviceArray(nan, dtype=float32),\n",
       " DeviceArray(nan, dtype=float32),\n",
       " DeviceArray(nan, dtype=float32),\n",
       " DeviceArray(nan, dtype=float32),\n",
       " DeviceArray(nan, dtype=float32),\n",
       " DeviceArray(nan, dtype=float32),\n",
       " DeviceArray(nan, dtype=float32),\n",
       " DeviceArray(nan, dtype=float32),\n",
       " DeviceArray(nan, dtype=float32),\n",
       " DeviceArray(nan, dtype=float32),\n",
       " DeviceArray(nan, dtype=float32),\n",
       " DeviceArray(nan, dtype=float32),\n",
       " DeviceArray(nan, dtype=float32),\n",
       " DeviceArray(nan, dtype=float32),\n",
       " DeviceArray(nan, dtype=float32),\n",
       " DeviceArray(nan, dtype=float32),\n",
       " DeviceArray(nan, dtype=float32),\n",
       " DeviceArray(nan, dtype=float32),\n",
       " DeviceArray(nan, dtype=float32),\n",
       " DeviceArray(nan, dtype=float32),\n",
       " DeviceArray(nan, dtype=float32),\n",
       " DeviceArray(nan, dtype=float32),\n",
       " DeviceArray(nan, dtype=float32),\n",
       " DeviceArray(nan, dtype=float32),\n",
       " DeviceArray(nan, dtype=float32),\n",
       " DeviceArray(nan, dtype=float32),\n",
       " DeviceArray(nan, dtype=float32),\n",
       " DeviceArray(nan, dtype=float32),\n",
       " DeviceArray(nan, dtype=float32),\n",
       " DeviceArray(nan, dtype=float32),\n",
       " DeviceArray(nan, dtype=float32),\n",
       " DeviceArray(nan, dtype=float32),\n",
       " DeviceArray(nan, dtype=float32),\n",
       " DeviceArray(nan, dtype=float32),\n",
       " DeviceArray(nan, dtype=float32),\n",
       " DeviceArray(nan, dtype=float32),\n",
       " DeviceArray(nan, dtype=float32),\n",
       " DeviceArray(nan, dtype=float32),\n",
       " DeviceArray(nan, dtype=float32),\n",
       " DeviceArray(nan, dtype=float32),\n",
       " DeviceArray(nan, dtype=float32),\n",
       " DeviceArray(nan, dtype=float32),\n",
       " DeviceArray(nan, dtype=float32),\n",
       " DeviceArray(nan, dtype=float32),\n",
       " DeviceArray(nan, dtype=float32),\n",
       " DeviceArray(nan, dtype=float32),\n",
       " DeviceArray(nan, dtype=float32),\n",
       " DeviceArray(nan, dtype=float32),\n",
       " DeviceArray(nan, dtype=float32),\n",
       " DeviceArray(nan, dtype=float32),\n",
       " DeviceArray(nan, dtype=float32),\n",
       " DeviceArray(nan, dtype=float32),\n",
       " DeviceArray(nan, dtype=float32),\n",
       " DeviceArray(nan, dtype=float32),\n",
       " DeviceArray(nan, dtype=float32),\n",
       " DeviceArray(nan, dtype=float32),\n",
       " DeviceArray(nan, dtype=float32),\n",
       " DeviceArray(nan, dtype=float32),\n",
       " DeviceArray(nan, dtype=float32),\n",
       " DeviceArray(nan, dtype=float32),\n",
       " DeviceArray(nan, dtype=float32),\n",
       " DeviceArray(nan, dtype=float32),\n",
       " DeviceArray(nan, dtype=float32),\n",
       " DeviceArray(nan, dtype=float32),\n",
       " DeviceArray(nan, dtype=float32),\n",
       " DeviceArray(nan, dtype=float32),\n",
       " DeviceArray(nan, dtype=float32)]"
      ]
     },
     "execution_count": 20,
     "metadata": {},
     "output_type": "execute_result"
    }
   ],
   "source": [
    "loss_grad"
   ]
  },
  {
   "cell_type": "code",
   "execution_count": 24,
   "metadata": {},
   "outputs": [
    {
     "name": "stdout",
     "output_type": "stream",
     "text": [
      "\n",
      " Warning 1: reached Tmax=500, before convergence to fixed point.\n",
      "       max(abs(dx./max(abs(xvec), 1.0))) = nan,   xtol=1e-06.\n",
      "\n",
      "Did not reach fixed point.\n"
     ]
    },
    {
     "name": "stderr",
     "output_type": "stream",
     "text": [
      "/Users/cholt/miniconda3/envs/juC/lib/python3.7/site-packages/numpy/core/numeric.py:538: ComplexWarning: Casting complex values to real discards the imaginary part\n",
      "  return array(a, dtype, copy=False, order=order)\n"
     ]
    },
    {
     "data": {
      "text/plain": [
       "Text(0.5, 0, 'frequency (Hz)')"
      ]
     },
     "execution_count": 24,
     "metadata": {},
     "output_type": "execute_result"
    },
    {
     "data": {
      "image/png": "[encoded data removed]",
      "text/plain": [
       "<Figure size 432x288 with 1 Axes>"
      ]
     },
     "metadata": {
      "needs_background": "light"
     },
     "output_type": "display_data"
    }
   ],
   "source": [
    "spect, fs, f0, r_fp = ssn_PS(params, test_contrasts)\n",
    "spect = spect/np.mean(spect)\n",
    "\n",
    "fig, ax = plt.subplots(1,1)\n",
    "ax.plot(fs, target_PS, \"--\")\n",
    "#colrs = ax.get_color_cycle()\n",
    "ax.set_prop_cycle(None)\n",
    "ax.plot(fs, spect)\n",
    "ax.set_title('post gradient descent')\n",
    "ax.set_ylabel('power spectrum (a.u.)')\n",
    "ax.set_xlabel('frequency (Hz)')"
   ]
  },
  {
   "cell_type": "code",
   "execution_count": 7,
   "metadata": {},
   "outputs": [
    {
     "ename": "NameError",
     "evalue": "name 'params' is not defined",
     "output_type": "error",
     "traceback": [
      "\u001b[0;31m---------------------------------------------------------------------------\u001b[0m",
      "\u001b[0;31mNameError\u001b[0m                                 Traceback (most recent call last)",
      "\u001b[0;32m<ipython-input-7-b490d600121f>\u001b[0m in \u001b[0;36m<module>\u001b[0;34m\u001b[0m\n\u001b[0;32m----> 1\u001b[0;31m \u001b[0mspect\u001b[0m\u001b[0;34m,\u001b[0m \u001b[0mfs\u001b[0m\u001b[0;34m,\u001b[0m \u001b[0mr_fp\u001b[0m \u001b[0;34m=\u001b[0m \u001b[0mssn_PS\u001b[0m\u001b[0;34m(\u001b[0m\u001b[0mparams\u001b[0m\u001b[0;34m,\u001b[0m \u001b[0mtest_contrasts\u001b[0m\u001b[0;34m)\u001b[0m\u001b[0;34m\u001b[0m\u001b[0;34m\u001b[0m\u001b[0m\n\u001b[0m\u001b[1;32m      2\u001b[0m \u001b[0mspect\u001b[0m \u001b[0;34m=\u001b[0m \u001b[0mspect\u001b[0m\u001b[0;34m/\u001b[0m\u001b[0mnp\u001b[0m\u001b[0;34m.\u001b[0m\u001b[0mmean\u001b[0m\u001b[0;34m(\u001b[0m\u001b[0mspect\u001b[0m\u001b[0;34m)\u001b[0m\u001b[0;34m\u001b[0m\u001b[0;34m\u001b[0m\u001b[0m\n\u001b[1;32m      3\u001b[0m \u001b[0;34m\u001b[0m\u001b[0m\n\u001b[1;32m      4\u001b[0m \u001b[0mfig\u001b[0m\u001b[0;34m,\u001b[0m \u001b[0max\u001b[0m \u001b[0;34m=\u001b[0m \u001b[0mplt\u001b[0m\u001b[0;34m.\u001b[0m\u001b[0msubplots\u001b[0m\u001b[0;34m(\u001b[0m\u001b[0;36m1\u001b[0m\u001b[0;34m,\u001b[0m\u001b[0;36m1\u001b[0m\u001b[0;34m)\u001b[0m\u001b[0;34m\u001b[0m\u001b[0;34m\u001b[0m\u001b[0m\n\u001b[1;32m      5\u001b[0m \u001b[0max\u001b[0m\u001b[0;34m.\u001b[0m\u001b[0mplot\u001b[0m\u001b[0;34m(\u001b[0m\u001b[0mfs\u001b[0m\u001b[0;34m,\u001b[0m \u001b[0mtarget_PS\u001b[0m\u001b[0;34m,\u001b[0m \u001b[0;34m\"--\"\u001b[0m\u001b[0;34m)\u001b[0m\u001b[0;34m\u001b[0m\u001b[0;34m\u001b[0m\u001b[0m\n",
      "\u001b[0;31mNameError\u001b[0m: name 'params' is not defined"
     ]
    }
   ],
   "source": [
    "spect, fs, r_fp = ssn_PS(params, test_contrasts)\n",
    "spect = spect/np.mean(spect)\n",
    "\n",
    "fig, ax = plt.subplots(1,1)\n",
    "ax.plot(fs, target_PS, \"--\")\n",
    "#colrs = ax.get_color_cycle()\n",
    "ax.set_prop_cycle(None)\n",
    "ax.plot(fs, spect)\n",
    "ax.set_title('post gradienct descent')\n",
    "ax.set_ylabel('power spectrum (a.u.)')\n",
    "ax.set_xlabel('frequency (Hz)')"
   ]
  },
  {
   "cell_type": "code",
   "execution_count": 7,
   "metadata": {},
   "outputs": [
    {
     "name": "stdout",
     "output_type": "stream",
     "text": [
      "0.03629179\n",
      "0.0\n",
      "0.630738\n"
     ]
    }
   ],
   "source": [
    "half_width_rates = 20 # basin around acceptable rates \n",
    "lower_bound_rates = 5\n",
    "upper_bound_rates = 80\n",
    "kink_control = 1\n",
    "\n",
    "print(losses.loss_rates_contrasts(r_fp, lower_bound_rates, upper_bound_rates, kink_control))\n",
    "print(losses.loss_params(params))\n",
    "print(losses.loss_spect_contrasts(fs, np.real(spect)))"
   ]
  },
  {
   "cell_type": "code",
   "execution_count": 156,
   "metadata": {},
   "outputs": [
    {
     "data": {
      "text/plain": [
       "Text(0.5, 0, 'Contrast')"
      ]
     },
     "execution_count": 156,
     "metadata": {},
     "output_type": "execute_result"
    },
    {
     "data": {
      "image/png": "[encoded data removed]",
      "text/plain": [
       "<Figure size 432x288 with 1 Axes>"
      ]
     },
     "metadata": {
      "needs_background": "light"
     },
     "output_type": "display_data"
    }
   ],
   "source": [
    "target_rates = losses.get_target_rates()\n",
    "rates_error = target_rates - r_fp\n",
    "# lower_bound_rates = losses.myReLu(half_width_rates/kink_control)\n",
    "# upper_bound_rates = losses.myReLu(-half_width_rates/kink_control)\n",
    "\n",
    "fig_rates, ax_rates = plt.subplots(1,1)\n",
    "ax_rates.plot(test_contrasts, target_rates.T, \"--\")\n",
    "#colrs = ax.get_color_cycle()\n",
    "ax_rates.set_prop_cycle(None)\n",
    "# ax_rates.plot(test_contrasts, r_fp.T)\n",
    "ax_rates.set_prop_cycle(None)\n",
    "# ax_rates.plot(test_contrasts, lower_bound_rates.T, '^')\n",
    "# ax_rates.set_prop_cycle(None)\n",
    "# ax_rates.plot(test_contrasts, upper_bound_rates.T, '^')\n",
    "# ax_rates.errorbar(test_contrasts, r_fp[0,:].T, np.array([[upper_bound_rates[0,:]], [lower_bound_rates[0,:]]]) )\n",
    "plt.errorbar(test_contrasts,r_fp[0,:], yerr=(e_error), fmt='')\n",
    "ax_rates.set_title('post gradient descent')\n",
    "ax_rates.set_ylabel('Firing Rate (Hz)')\n",
    "ax_rates.set_xlabel('Contrast')\n",
    "\n",
    "# plt.plot(test_contrasts,r_fp.T)"
   ]
  },
  {
   "cell_type": "code",
   "execution_count": 203,
   "metadata": {},
   "outputs": [
    {
     "data": {
      "text/plain": [
       "[<matplotlib.lines.Line2D at 0x13be53a10>,\n",
       " <matplotlib.lines.Line2D at 0x13c05ef90>]"
      ]
     },
     "execution_count": 203,
     "metadata": {},
     "output_type": "execute_result"
    },
    {
     "data": {
      "image/png": "[encoded data removed]",
      "text/plain": [
       "<Figure size 432x288 with 1 Axes>"
      ]
     },
     "metadata": {
      "needs_background": "light"
     },
     "output_type": "display_data"
    }
   ],
   "source": [
    "import numpy as onp\n",
    "\n",
    "x = np.linspace(-30, 30, 10000)\n",
    "cons = len(test_contrasts)\n",
    "upper_bound_rates = onp.zeros((2, cons))\n",
    "lower_bound_rates = onp.zeros((2, cons))\n",
    "\n",
    "\n",
    "rates_range = np.linspace(-30, 100, 1000)\n",
    "for ei in [0,1]:\n",
    "    for con in np.arange(cons):\n",
    "        error_range = target_rates[ei, con] - rates_range\n",
    "        if target_rates[ei, con] - half_width_rates < 0:\n",
    "            lower_half_width = target_rates[ei, con]\n",
    "        else:\n",
    "             lower_half_width = half_width_rates\n",
    "        \n",
    "        lower_curve = losses.myReLu((error_range - lower_half_width)/kink_control)\n",
    "        higher_curve = losses.myReLu((-error_range - half_width_rates)/kink_control)\n",
    "        \n",
    "        upper_bound_rates[ei, con] = np.max(rates_range[higher_curve+lower_curve < 0.5])\n",
    "        lower_bound_rates[ei, con] = np.min(rates_range[higher_curve+lower_curve < 0.5])\n",
    "\n",
    "        \n",
    "\n",
    "# upper_bound = losses.myReLu((error_range - half_width_rates)/kink_control)\n",
    "# lower_bound = losses.myReLu((-error_range - half_width_rates)/kink_control)\n",
    "\n",
    "e_error = np.vstack(([-lower_bound_rates[0,:]], [upper_bound_rates[0,:]])) \n",
    "i_error = np.vstack(([-lower_bound_rates[1,:]], [upper_bound_rates[1,:]])) \n",
    "\n",
    "# plt.plot(rates_range, upper_bound + lower_bound)\n",
    "# plt.plot(x, yy)\n",
    "fig, ax = plt.subplots(1,1)\n",
    "ax.plot(test_contrasts, upper_bound_rates.T)\n",
    "ax.set_prop_cycle(None)\n",
    "ax.plot(test_contrasts, lower_bound_rates.T)\n"
   ]
  },
  {
   "cell_type": "code",
   "execution_count": 204,
   "metadata": {},
   "outputs": [
    {
     "data": {
      "text/plain": [
       "[<matplotlib.lines.Line2D at 0x13cb874d0>]"
      ]
     },
     "execution_count": 204,
     "metadata": {},
     "output_type": "execute_result"
    },
    {
     "data": {
      "image/png": "[encoded data removed]",
      "text/plain": [
       "<Figure size 432x288 with 1 Axes>"
      ]
     },
     "metadata": {
      "needs_background": "light"
     },
     "output_type": "display_data"
    }
   ],
   "source": [
    "plt.plot(rates_range, lower_curve + higher_curve)"
   ]
  },
  {
   "cell_type": "code",
   "execution_count": 208,
   "metadata": {},
   "outputs": [
    {
     "data": {
      "text/plain": [
       "Text(0.5, 1.0, 'I Rates')"
      ]
     },
     "execution_count": 208,
     "metadata": {},
     "output_type": "execute_result"
    },
    {
     "data": {
      "image/png": "[encoded data removed]",
      "text/plain": [
       "<Figure size 432x288 with 2 Axes>"
      ]
     },
     "metadata": {
      "needs_background": "light"
     },
     "output_type": "display_data"
    }
   ],
   "source": [
    "fig_split, (ax1, ax2) = plt.subplots(1,2)\n",
    "ax1.plot(test_contrasts, target_rates[0,:], \"r--\")\n",
    "ax1.set_prop_cycle(None)\n",
    "ax1.plot(test_contrasts, r_fp[0,:],\"r\")\n",
    "# ax1.fill_between(test_contrasts, r_fp[0,:] + e_error[1,:], r_fp[0,:] - np.abs(e_error[0,:]), color='r', alpha=0.3)\n",
    "ax1.fill_between(test_contrasts, target_rates[0,:] + e_error[1,:], 0, color='r', alpha=0.3)\n",
    "ax1.set_title('E Rates')\n",
    "\n",
    "ax2.plot(test_contrasts, target_rates[1,:], \"--\")\n",
    "ax2.set_prop_cycle(None)\n",
    "ax2.plot(test_contrasts, r_fp[1,:])\n",
    "# ax2.fill_between(test_contrasts, r_fp[1,:] + i_error[1,:], r_fp[1,:] - np.abs(i_error[0,:]), alpha=0.3)\n",
    "ax2.fill_between(test_contrasts, target_rates[1,:] + i_error[1,:], 0, alpha=0.3)\n",
    "ax2.set_title('I Rates')"
   ]
  },
  {
   "cell_type": "code",
   "execution_count": 8,
   "metadata": {},
   "outputs": [
    {
     "data": {
      "text/plain": [
       "(4,)"
      ]
     },
     "execution_count": 8,
     "metadata": {},
     "output_type": "execute_result"
    }
   ],
   "source": []
  },
  {
   "cell_type": "code",
   "execution_count": 190,
   "metadata": {},
   "outputs": [
    {
     "data": {
      "text/plain": [
       "DeviceArray([ 0.      , 10.20130444, 16.86116791, 30.71611214],\n",
       "            dtype=float32)"
      ]
     },
     "execution_count": 190,
     "metadata": {},
     "output_type": "execute_result"
    }
   ],
   "source": [
    "r_fp[1,:]"
   ]
  },
  {
   "cell_type": "code",
   "execution_count": 13,
   "metadata": {},
   "outputs": [
    {
     "data": {
      "text/plain": [
       "{'__header__': b'MATLAB 5.0 MAT-file Platform: posix, Created on: Mon Sep 23 15:32:59 2019',\n",
       " '__version__': '1.0',\n",
       " '__globals__': [],\n",
       " 'pyGf': array([[-1.5552526-0.28274333j,  0.       +0.j        ,\n",
       "         -2.5552526+0.j        ,  0.       +0.j        ,\n",
       "         -2.5552526+0.j        ,  0.       +0.j        ],\n",
       "        [-3.3067973+0.j        ,  1.       -0.28274333j,\n",
       "         -3.3067973+0.j        ,  0.       +0.j        ,\n",
       "         -3.3067973+0.j        ,  0.       +0.j        ],\n",
       "        [ 0.       +0.j        ,  4.385322 +0.j        ,\n",
       "          1.       -0.4712389j ,  4.385322 +0.j        ,\n",
       "          0.       +0.j        ,  4.385322 +0.j        ],\n",
       "        [ 0.       +0.j        ,  5.262387 +0.j        ,\n",
       "          0.       +0.j        ,  6.262387 -0.4712389j ,\n",
       "          0.       +0.j        ,  5.262387 +0.j        ],\n",
       "        [-1.7035017+0.j        ,  0.       +0.j        ,\n",
       "         -1.7035017+0.j        ,  0.       +0.j        ,\n",
       "         -0.7035017-9.424778j  ,  0.       +0.j        ],\n",
       "        [-2.2045317+0.j        ,  0.       +0.j        ,\n",
       "         -2.2045317+0.j        ,  0.       +0.j        ,\n",
       "         -2.2045317+0.j        ,  1.       -9.424778j  ]], dtype=complex64)}"
      ]
     },
     "execution_count": 13,
     "metadata": {},
     "output_type": "execute_result"
    }
   ],
   "source": [
    "import scipy.io as sio\n",
    "\n",
    "sio.loadmat(\"pyGf.mat\")"
   ]
  },
  {
   "cell_type": "code",
   "execution_count": 17,
   "metadata": {},
   "outputs": [
    {
     "name": "stdout",
     "output_type": "stream",
     "text": [
      "Parameter order is Jee, Jei, Jie, Jii, gE, gI, nmdaRatio\n",
      "Found Parameters  [2.282513   1.196063   2.4205072  1.108699   0.683061   0.7536516\n",
      " 0.33148643]\n",
      "Ground Truth Parameters  [ 1.7    1.525  1.7   -0.5    0.6  ]\n",
      "Ground Truth nmdaRatio  0.1\n"
     ]
    }
   ],
   "source": [
    "params = np.array([2.2825129 , 1.19606304, 2.42050719, 1.10869896, 0.683061  ,\n",
    "             0.75365162, 0.33148643])\n",
    "\n",
    "ideal_params = np.array([1.7, 1.525, 1.7, 0.5, 0.6])\n",
    "# print('Init Parameters ', params_ini)\n",
    "print('Parameter order is Jee, Jei, Jie, Jii, gE, gI, nmdaRatio')\n",
    "print('Found Parameters ', params)\n",
    "\n",
    "print('Ground Truth Parameters ', ideal_params)\n",
    "print('Ground Truth nmdaRatio ', 0.1)"
   ]
  },
  {
   "cell_type": "code",
   "execution_count": 11,
   "metadata": {},
   "outputs": [],
   "source": [
    "import scipy.io as sio"
   ]
  },
  {
   "cell_type": "code",
   "execution_count": 12,
   "metadata": {},
   "outputs": [],
   "source": [
    "Results = {'res': res, 'params':params, 'obs_spect':obs_spect, 'obs_rates':obs_rates, 'params_init':params_init, 'init_spect':init_spect, 'init_rates':init_r_fp}\n",
    "sio.savemat('BFGS_PS-GroundTruth-Conv.mat', Results)"
   ]
  },
  {
   "cell_type": "code",
   "execution_count": null,
   "metadata": {},
   "outputs": [],
   "source": []
  }
 ],
 "metadata": {
  "kernelspec": {
   "display_name": "Python 3",
   "language": "python",
   "name": "python3"
  },
  "language_info": {
   "codemirror_mode": {
    "name": "ipython",
    "version": 3
   },
   "file_extension": ".py",
   "mimetype": "text/x-python",
   "name": "python",
   "nbconvert_exporter": "python",
   "pygments_lexer": "ipython3",
   "version": "3.7.4"
  }
 },
 "nbformat": 4,
 "nbformat_minor": 4
}
