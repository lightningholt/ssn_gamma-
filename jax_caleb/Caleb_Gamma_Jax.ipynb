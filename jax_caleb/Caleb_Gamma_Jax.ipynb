{
 "cells": [
  {
   "cell_type": "code",
   "execution_count": 1,
   "metadata": {},
   "outputs": [
    {
     "data": {
      "text/plain": [
       "<module 'gamma_SSN_losses' from '/Users/cholt/Google Drive/Python/torch_SSN/jax_ssn/gamma_SSN_losses.py'>"
      ]
     },
     "execution_count": 1,
     "metadata": {},
     "output_type": "execute_result"
    }
   ],
   "source": [
    "import jax.numpy as np\n",
    "from jax import grad, value_and_grad, jit, ops\n",
    "\n",
    "import matplotlib.pyplot as plt\n",
    "%matplotlib inline \n",
    "\n",
    "import SSN_classes\n",
    "import SSN_power_spec\n",
    "import gamma_SSN_losses as losses\n",
    "\n",
    "from importlib import reload\n",
    "reload(SSN_classes)\n",
    "reload(SSN_power_spec)\n",
    "reload(losses)"
   ]
  },
  {
   "cell_type": "code",
   "execution_count": 3,
   "metadata": {},
   "outputs": [],
   "source": [
    "#the constant (non-optimized) parameters:\n",
    "\n",
    "#fixed point algorithm:\n",
    "dt = 1\n",
    "xtol = 1e-6\n",
    "Tmax = 500\n",
    "\n",
    "#power spectrum resolution and range\n",
    "fnums = 30\n",
    "freq_range = [15,100]\n",
    "\n",
    "#SSN parameters\n",
    "n = 2\n",
    "k = 0.04\n",
    "tauE = 20 # in ms\n",
    "tauI = 10 # in ms\n",
    "psi = 0.774\n",
    "\n",
    "t_scale = 1\n",
    "tau_s = np.array([4, 5, 100])*t_scale #in ms, AMPA, GABA, NMDA current decay time constants\n",
    "NMDAratio = 0.4 #NMDA strength as a fraction of E synapse weight"
   ]
  },
  {
   "cell_type": "code",
   "execution_count": 5,
   "metadata": {},
   "outputs": [],
   "source": [
    "def ssn_PS(params, contrasts):\n",
    "    #unpack parameters\n",
    "    Jee = params[0]\n",
    "    Jei = params[1]\n",
    "    Jie = params[2]\n",
    "    Jii = params[3]\n",
    "    i2e = params[4]\n",
    "    \n",
    "    cons = len(contrasts)\n",
    "\n",
    "    J2x2 = np.array([[Jee, -Jei], [Jie,  -Jii]]) * np.pi * psi #np.array([[2.5, -1.3], [2.4,  -1.0]]) * np.pi * psi\n",
    "    ssn = SSN_classes.SSN_2D_AMPAGABA(tau_s, NMDAratio, n,k,tauE,tauI, *np.abs(J2x2).ravel())\n",
    "    \n",
    "    r_init = np.zeros([ssn.N, len(contrasts)])\n",
    "    inp_vec = np.array([[1], [i2e]]) * contrasts\n",
    "    \n",
    "    r_fp = ssn.fixed_point_r(inp_vec, r_init=r_init, Tmax=Tmax, dt=dt, xtol=xtol)\n",
    "    \n",
    "    spect, fs, _ = SSN_power_spec.linear_PS_sameTime(ssn, r_fp, SSN_power_spec.NoisePars(), freq_range, fnums, cons)\n",
    "    \n",
    "    spect = np.array(spect).T\n",
    "    return spect, fs, r_fp\n",
    "\n",
    "\n",
    "#@jit\n",
    "def loss(params):\n",
    "    contrasts = np.array([0, 25, 50, 100])\n",
    "    spect, fs = ssn_PS(params, contrasts)\n",
    "    \n",
    "    return losses.loss_SSN_2D_contrast(fs, spect)\n",
    "\n",
    "\n",
    "\n",
    "# def ssn_PS_v(params, contrasts):\n",
    "#     #unpack parameters\n",
    "#     Jee = params[0]\n",
    "#     Jei = params[1]\n",
    "#     Jie = params[2]\n",
    "#     Jii = params[3]\n",
    "#     i2e = params[4]\n",
    "\n",
    "#     J2x2 = np.array([[Jee, -Jei], [Jie,  -Jii]]) * np.pi * psi #np.array([[2.5, -1.3], [2.4,  -1.0]]) * np.pi * psi\n",
    "#     ssn = SSN_classes.SSN_2D_AMPAGABA(tau_s, NMDAratio, n,k,tauE,tauI, *np.abs(J2x2).ravel())\n",
    "    \n",
    "#     spect = []\n",
    "#     v_init = np.zeros(ssn.dim)\n",
    "#     for con in contrasts:\n",
    "#         inp_vec = np.array([1,i2e]) * con\n",
    "#         v_fp = ssn.fixed_point(inp_vec, x_init=v_init, Tmax=Tmax, dt=dt, xtol=xtol)\n",
    "#         v_init = v_fp\n",
    "#         r_fp = ssn.powlaw( v_fp.reshape((ssn.num_rcpt, ssn.N)).sum(axis=0) )\n",
    "\n",
    "#         powspecE, fs, _ = SSN_power_spec.linear_power_spect(ssn, r_fp, SSN_power_spec.NoisePars(), freq_range=freq_range, fnums=fnums)\n",
    "#         spect.append(powspecE)\n",
    "    \n",
    "#     spect = np.array(spect).T\n",
    "#     return spect, fs"
   ]
  },
  {
   "cell_type": "code",
   "execution_count": 7,
   "metadata": {},
   "outputs": [
    {
     "name": "stdout",
     "output_type": "stream",
     "text": [
      "      converged to fixed point at iter=207,      as max(abs(dx./max(xvec,1.0))) < 1e-06 \n",
      "run time: 0.7191638946533203\n"
     ]
    }
   ],
   "source": [
    "params_init = np.array([2.5, 1.3, 2.4,  1.0, 1.0]) # [Jee, Jei, Jie, Jii, i2e]\n",
    "test_contrasts = np.array([0, 25, 50, 100])\n",
    "\n",
    "import time\n",
    "t0 = time.time()\n",
    "spect, fs, r_fp = ssn_PS(params_init, test_contrasts)\n",
    "tt = time.time()-t0\n",
    "print(\"run time:\", tt)"
   ]
  },
  {
   "cell_type": "code",
   "execution_count": null,
   "metadata": {},
   "outputs": [],
   "source": []
  }
 ],
 "metadata": {
  "kernelspec": {
   "display_name": "Python 3",
   "language": "python",
   "name": "python3"
  },
  "language_info": {
   "codemirror_mode": {
    "name": "ipython",
    "version": 3
   },
   "file_extension": ".py",
   "mimetype": "text/x-python",
   "name": "python",
   "nbconvert_exporter": "python",
   "pygments_lexer": "ipython3",
   "version": "3.7.4"
  }
 },
 "nbformat": 4,
 "nbformat_minor": 4
}
