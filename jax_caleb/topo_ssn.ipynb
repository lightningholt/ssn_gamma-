{
 "cells": [
  {
   "cell_type": "code",
   "execution_count": 1,
   "metadata": {},
   "outputs": [
    {
     "data": {
      "text/plain": [
       "<module 'make_plot' from '/Users/cholt/Google Drive/Python/torch_SSN/jax_caleb/make_plot.py'>"
      ]
     },
     "execution_count": 1,
     "metadata": {},
     "output_type": "execute_result"
    }
   ],
   "source": [
    "import jax.numpy as np\n",
    "from jax import grad, value_and_grad, jit, ops\n",
    "\n",
    "import matplotlib.pyplot as plt\n",
    "%matplotlib inline \n",
    "\n",
    "import SSN_classes\n",
    "import SSN_power_spec\n",
    "import gamma_SSN_losses as losses\n",
    "import make_plot\n",
    "import jax.random as random\n",
    "\n",
    "from importlib import reload\n",
    "reload(SSN_classes)\n",
    "reload(SSN_power_spec)\n",
    "reload(losses)\n",
    "reload(make_plot)"
   ]
  },
  {
   "cell_type": "code",
   "execution_count": 2,
   "metadata": {},
   "outputs": [
    {
     "name": "stderr",
     "output_type": "stream",
     "text": [
      "/Users/cholt/Google Drive/Python/torch_SSN/jax/jax/lib/xla_bridge.py:109: UserWarning: No GPU/TPU found, falling back to CPU.\n",
      "  warnings.warn('No GPU/TPU found, falling back to CPU.')\n"
     ]
    }
   ],
   "source": [
    "#the constant (non-optimized) parameters:\n",
    "\n",
    "#fixed point algorithm:\n",
    "dt = 1\n",
    "xtol = 1e-6\n",
    "Tmax = 500\n",
    "\n",
    "#power spectrum resolution and range\n",
    "fnums = 30\n",
    "freq_range = [15,100]\n",
    "\n",
    "#SSN parameters\n",
    "n = 2\n",
    "k = 0.04\n",
    "tauE = 20 # in ms\n",
    "tauI = 10 # in ms\n",
    "psi = 0.774\n",
    "\n",
    "t_scale = 1\n",
    "tau_s = np.array([3, 5, 100])*t_scale #in ms, AMPA, GABA, NMDA current decay time constants\n",
    "# NMDAratio = 0.4 #NMDA strength as a fraction of E synapse weight"
   ]
  },
  {
   "cell_type": "code",
   "execution_count": 3,
   "metadata": {},
   "outputs": [],
   "source": [
    "params = [1.95, 1.25, 2.45, 1.5, 1.25] #Jee, Jei, Jie, Jii, i2e --- Modelo that WORKED! w/ locality = 1\n",
    "Ne = 21 * 21\n",
    "Ni = Ne\n",
    "\n",
    "N = Ne + Ni #number of neurons in the grid."
   ]
  },
  {
   "cell_type": "code",
   "execution_count": 4,
   "metadata": {},
   "outputs": [],
   "source": [
    "#unpack parameters\n",
    "Jee = params[0]\n",
    "Jei = params[1]\n",
    "Jie = params[2]\n",
    "Jii = params[3]\n",
    "\n",
    "if len(params) < 6:\n",
    "    i2e = params[4]\n",
    "    gE = 1\n",
    "    gI = 1\n",
    "    NMDAratio = 0.4\n",
    "else:\n",
    "    i2e = 1\n",
    "    gE = params[4]\n",
    "    gI = params[5]\n",
    "    NMDAratio = params[6]\n",
    "    \n",
    "# cons = len(contrasts)\n",
    "\n",
    "J2x2 = np.array([[Jee, -Jei], [Jie,  -Jii]]) # * np.pi * psi #np.array([[2.5, -1.3], [2.4,  -1.0]]) * np.pi * psi\n",
    "# ssn = SSN_classes.SSN_AMPAGABA(tau_s, NMDAratio, n,k,tauE,tauI, *np.abs(J2x2).ravel())\n",
    "\n",
    "# r_init = np.zeros([ssn.N, len(contrasts)])\n",
    "# inp_vec = np.array([[gE], [gI*i2e]]) * contrasts\n",
    "\n",
    "# r_fp = ssn.fixed_point_r(inp_vec, r_init=r_init, Tmax=Tmax, dt=dt, xtol=xtol)\n",
    "\n",
    "# spect, fs, f0, _ = SSN_power_spec.linear_PS_sameTime(ssn, r_fp, SSN_power_spec.NoisePars(), freq_range, fnums, cons)\n",
    "\n"
   ]
  },
  {
   "cell_type": "code",
   "execution_count": 5,
   "metadata": {},
   "outputs": [],
   "source": [
    "hyper_col = 8 #this defines the hyper column. In the MATLAB code it's called lambdaC. \n",
    "\n",
    "gridperdeg = 5\n",
    "gridsizedeg = 4\n",
    "\n",
    "gridsize = (1 + round(gridperdeg * gridsizedeg))\n",
    "\n",
    "# length of the x/y directions in degress\n",
    "Lx = 4 # in degrees\\\n",
    "Ly = 4\n",
    "dx = Lx/(gridsize - 1)\n",
    "dy = Ly/(gridsize - 1)\n",
    "\n",
    "[X,Y] = np.meshgrid(np.arange(0, Lx+dx, dx),np.arange(0, Ly+dy, dy))\n"
   ]
  },
  {
   "cell_type": "code",
   "execution_count": 6,
   "metadata": {},
   "outputs": [],
   "source": [
    "kc = 2*np.pi/(hyper_col)\n",
    "\n",
    "z = np.zeros_like(X)\n",
    "nn = 30 #number of plane waves in ori map\n",
    "key = random.PRNGKey(0)\n",
    "subkey = key\n",
    "\n",
    "for j in range(nn):\n",
    "    kj = kc * np.array([np.cos(j * np.pi/nn), np.sin(j * np.pi/nn)])\n",
    "    \n",
    "    #this won't work, gotta remember how to do random numbers in jax. \n",
    "    sj = 2 * random.randint(subkey, shape=(), minval=1, maxval=3)-3 #random number that's either + or -1. \n",
    "    #randint inputs: PRNGkey, size tuple, minval (incl), maxval(excl)\n",
    "    \n",
    "    phij = random.uniform(subkey)*2*np.pi\n",
    "    \n",
    "    tmp = (X*kj[0] + Y*kj[1]) * sj + phij\n",
    "    \n",
    "    z = z + np.exp(1j * tmp)\n",
    "\n",
    "#     phij = rand()*2*pi;\n",
    "\n",
    "#     tmp = (X*kj(1)+Y*kj(2))*sj + phij;\n",
    "\n",
    "#     z = z + exp(1i * tmp);\n",
    "    \n",
    "    key, subkey = random.split(key)"
   ]
  },
  {
   "cell_type": "code",
   "execution_count": 7,
   "metadata": {},
   "outputs": [
    {
     "data": {
      "text/plain": [
       "<matplotlib.colorbar.Colorbar at 0x12ac656d0>"
      ]
     },
     "execution_count": 7,
     "metadata": {},
     "output_type": "execute_result"
    },
    {
     "data": {
      "image/png": "[encoded data removed]",
      "text/plain": [
       "<Figure size 432x288 with 2 Axes>"
      ]
     },
     "metadata": {
      "needs_background": "light"
     },
     "output_type": "display_data"
    }
   ],
   "source": [
    "OMap = np.angle(z)\n",
    "OMap = (OMap - np.min(OMap)) * 180/(2*np.pi)\n",
    "\n",
    "Len = OMap.shape\n",
    "Lm = Len[0]\n",
    "Nthetas = len(OMap.ravel())\n",
    "\n",
    "\n",
    "\n",
    "plt.imshow(OMap)\n",
    "plt.colorbar()"
   ]
  },
  {
   "cell_type": "code",
   "execution_count": 43,
   "metadata": {},
   "outputs": [],
   "source": [
    "sigRat = 0.7\n",
    "\n",
    "sigEE = 0.35 * np.sqrt(sigRat)\n",
    "sigEI = 0.35 / np.sqrt(sigRat)\n",
    "sigIE = 0.02 #small to enforce local I connections\n",
    "sigII = 0.02 \n",
    "\n",
    "sigOri = 45 #sigma for ori map. \n",
    "\n",
    "MinSyn = 1e-4\n",
    "PERIODIC = True\n",
    "\n",
    "indX, indY = np.meshgrid(np.arange(Lm),np.arange(Lm))\n",
    "indX = np.ravel(indX)\n",
    "indY = np.ravel(indY)\n"
   ]
  },
  {
   "cell_type": "code",
   "execution_count": 50,
   "metadata": {},
   "outputs": [],
   "source": [
    "XdMat = indX - indX[:,None]\n",
    "XDist = np.abs(XdMat - XdMat.T)\n",
    "\n",
    "YdMat = indY - indY[:,None]\n",
    "YDist = np.abs(YdMat - YdMat.T)\n",
    "\n",
    "OriPref = np.ravel(OMap)\n",
    "OridMat = OriPref - OriPref[:,None]\n",
    "OriDist = np.abs(OridMat - OridMat.T)\n",
    "\n",
    "if PERIODIC:\n",
    "    XDist= np.where( XDist > Len[0]/2, Len[0] - XDist, XDist) \n",
    "    YDist= np.where( YDist > Len[1]/2, Len[1] - YDist, YDist) \n",
    "#     XDist[boundary_inds] = Len[0] - XDist[boundary_inds]\n",
    "    \n",
    "#     boundary_inds = np.where(Ydist > Len[1]/2)\n",
    "#     YDist[boundary_inds] = Len[1] - YDist[boundary_inds]"
   ]
  },
  {
   "cell_type": "code",
   "execution_count": 51,
   "metadata": {},
   "outputs": [
    {
     "data": {
      "text/plain": [
       "<matplotlib.colorbar.Colorbar at 0x12fb65c10>"
      ]
     },
     "execution_count": 51,
     "metadata": {},
     "output_type": "execute_result"
    },
    {
     "data": {
      "image/png": "[encoded data removed]",
      "text/plain": [
       "<Figure size 432x288 with 2 Axes>"
      ]
     },
     "metadata": {
      "needs_background": "light"
     },
     "output_type": "display_data"
    }
   ],
   "source": [
    "plt.imshow(XDist)\n",
    "plt.colorbar()"
   ]
  },
  {
   "cell_type": "code",
   "execution_count": null,
   "metadata": {},
   "outputs": [],
   "source": []
  }
 ],
 "metadata": {
  "kernelspec": {
   "display_name": "Python 3",
   "language": "python",
   "name": "python3"
  },
  "language_info": {
   "codemirror_mode": {
    "name": "ipython",
    "version": 3
   },
   "file_extension": ".py",
   "mimetype": "text/x-python",
   "name": "python",
   "nbconvert_exporter": "python",
   "pygments_lexer": "ipython3",
   "version": "3.7.4"
  }
 },
 "nbformat": 4,
 "nbformat_minor": 4
}
