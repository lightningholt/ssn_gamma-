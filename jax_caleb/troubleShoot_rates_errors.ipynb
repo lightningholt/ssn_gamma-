{
 "cells": [
  {
   "cell_type": "code",
   "execution_count": 1,
   "metadata": {},
   "outputs": [
    {
     "ename": "SyntaxError",
     "evalue": "invalid syntax (gamma_SSN_losses.py, line 316)",
     "output_type": "error",
     "traceback": [
      "Traceback \u001b[0;36m(most recent call last)\u001b[0m:\n",
      "  File \u001b[1;32m\"/Users/cholt/miniconda3/envs/juC/lib/python3.7/site-packages/IPython/core/interactiveshell.py\"\u001b[0m, line \u001b[1;32m3326\u001b[0m, in \u001b[1;35mrun_code\u001b[0m\n    exec(code_obj, self.user_global_ns, self.user_ns)\n",
      "\u001b[0;36m  File \u001b[0;32m\"<ipython-input-1-5266ddeb150a>\"\u001b[0;36m, line \u001b[0;32m10\u001b[0;36m, in \u001b[0;35m<module>\u001b[0;36m\u001b[0m\n\u001b[0;31m    import gamma_SSN_losses as losses\u001b[0m\n",
      "\u001b[0;36m  File \u001b[0;32m\"/Users/cholt/Google Drive/Python/torch_SSN/jax_caleb/gamma_SSN_losses.py\"\u001b[0;36m, line \u001b[0;32m316\u001b[0m\n\u001b[0;31m    else:\u001b[0m\n\u001b[0m       ^\u001b[0m\n\u001b[0;31mSyntaxError\u001b[0m\u001b[0;31m:\u001b[0m invalid syntax\n"
     ]
    }
   ],
   "source": [
    "# import jax.numpy as np\n",
    "# from jax import grad, value_and_grad, jit, ops\n",
    "import numpy as np\n",
    "\n",
    "import matplotlib.pyplot as plt\n",
    "%matplotlib inline \n",
    "\n",
    "import SSN_classes\n",
    "import SSN_power_spec\n",
    "import gamma_SSN_losses as losses\n",
    "\n",
    "from importlib import reload\n",
    "reload(SSN_classes)\n",
    "reload(SSN_power_spec)\n",
    "reload(losses)"
   ]
  },
  {
   "cell_type": "code",
   "execution_count": null,
   "metadata": {},
   "outputs": [],
   "source": [
    "#the constant (non-optimized) parameters:\n",
    "\n",
    "#fixed point algorithm:\n",
    "dt = 1\n",
    "xtol = 1e-6\n",
    "Tmax = 500\n",
    "\n",
    "#power spectrum resolution and range\n",
    "fnums = 30\n",
    "freq_range = [15,100]\n",
    "\n",
    "#SSN parameters\n",
    "n = 2\n",
    "k = 0.04\n",
    "tauE = 20 # in ms\n",
    "tauI = 10 # in ms\n",
    "psi = 0.774\n",
    "\n",
    "t_scale = 1\n",
    "tau_s = np.array([3, 5, 100])*t_scale #in ms, AMPA, GABA, NMDA current decay time constants\n",
    "# NMDAratio = 0.4 #NMDA strength as a fraction of E synapse weight"
   ]
  },
  {
   "cell_type": "code",
   "execution_count": null,
   "metadata": {},
   "outputs": [],
   "source": [
    "def ssn_PS(params, contrasts):\n",
    "    #unpack parameters\n",
    "    Jee = params[0]\n",
    "    Jei = params[1]\n",
    "    Jie = params[2]\n",
    "    Jii = params[3]\n",
    "    \n",
    "    if len(params) < 6:\n",
    "        i2e = params[4]\n",
    "        gE = 1\n",
    "        gI = 1\n",
    "        NMDAratio = 0.4\n",
    "    else:\n",
    "        i2e = 1\n",
    "        gE = params[4]\n",
    "        gI = params[5]\n",
    "        NMDAratio = params[6]\n",
    "    \n",
    "    \n",
    "    cons = len(contrasts)\n",
    "\n",
    "    J2x2 = np.array([[Jee, -Jei], [Jie,  -Jii]]) * np.pi * psi #np.array([[2.5, -1.3], [2.4,  -1.0]]) * np.pi * psi\n",
    "    ssn = SSN_classes.SSN_2D_AMPAGABA(tau_s, NMDAratio, n,k,tauE,tauI, *np.abs(J2x2).ravel())\n",
    "    \n",
    "    r_init = np.zeros([ssn.N, len(contrasts)])\n",
    "    inp_vec = np.array([[gE], [gI*i2e]]) * contrasts\n",
    "    \n",
    "    r_fp = ssn.fixed_point_r(inp_vec, r_init=r_init, Tmax=Tmax, dt=dt, xtol=xtol)\n",
    "    \n",
    "    spect, fs, _ = SSN_power_spec.linear_PS_sameTime(ssn, r_fp, SSN_power_spec.NoisePars(), freq_range, fnums, cons)\n",
    "    \n",
    "    return spect, fs, r_fp"
   ]
  },
  {
   "cell_type": "code",
   "execution_count": null,
   "metadata": {},
   "outputs": [],
   "source": [
    "params_init = np.array([2.5, 1.3, 2.4,  1.0, 1.0]) # [Jee, Jei, Jie, Jii, i2e]\n",
    "# params_init = np.array([1.7, 1.25, 2.2,  1.5, 1.2]) # [Jee, Jei, Jie, Jii, i2e]\n",
    "params_init = np.array([2.5, 1.3, 2.4, 1.0, 1.0, 1.0, 0.6])\n",
    "test_contrasts = np.array([0, 25, 50, 100])\n",
    "\n",
    "import time\n",
    "t0 = time.time()\n",
    "spect, fs, r_fp = ssn_PS(params_init, test_contrasts)\n",
    "tt = time.time()-t0\n",
    "print(\"run time:\", tt)\n",
    "\n",
    "target_PS = losses.get_target_spect(fs)\n",
    "\n",
    "\n",
    "fig, ax = plt.subplots(1,1)\n",
    "ax.plot(fs, target_PS, \"--\")\n",
    "ax.set_prop_cycle(None)\n",
    "ax.plot(fs, spect/np.mean(spect))\n",
    "ax.set_title('pre gradienct descent')\n",
    "ax.set_ylabel('power spectrum (a.u.)')\n",
    "ax.set_xlabel('frequency (Hz)')"
   ]
  },
  {
   "cell_type": "code",
   "execution_count": null,
   "metadata": {},
   "outputs": [],
   "source": [
    "x = np.linspace(-20, 95, 1000)\n",
    "\n",
    "lower_bound = 5\n",
    "upper_bound = 80\n",
    "kink_control = 1\n",
    "\n",
    "ufx = losses.myReLu((x - upper_bound)/kink_control)\n",
    "lfx = losses.myReLu((-lower_bound -x)/ kink_control)\n",
    "\n",
    "# ufx = np.log(1 + np.exp((x - upper_bound)/kink_control)) \n",
    "# lfx = np.log(1 + np.exp((-x -lower_bound)/kink_control))\n",
    "plt.plot(x, lfx+ufx)"
   ]
  },
  {
   "cell_type": "code",
   "execution_count": null,
   "metadata": {},
   "outputs": [],
   "source": [
    "import numpy as onp\n",
    "\n",
    "x = np.linspace(-30, 30, 10000)\n",
    "cons = len(test_contrasts)\n",
    "target_rates = 5*onp.ones((2, cons))\n",
    "upper_bound_rates = onp.zeros((2, cons))\n",
    "lower_bound_rates = onp.zeros((2, cons))\n",
    "half_width_rates = 20\n",
    "kink_control = 5\n",
    "\n",
    "\n",
    "rates_range = np.linspace(-30, 100, 1000)\n",
    "for ei in [0,1]:\n",
    "    for con in np.arange(cons):\n",
    "        error_range = target_rates[ei, con] - rates_range\n",
    "        if target_rates[ei, con] - half_width_rates < 0:\n",
    "            lower_half_width = target_rates[ei, con]\n",
    "        else:\n",
    "             lower_half_width = half_width_rates\n",
    "        \n",
    "        lower_curve = losses.myReLu((error_range - lower_half_width)/kink_control)\n",
    "        higher_curve = losses.myReLu((-error_range - half_width_rates)/kink_control)\n",
    "        \n",
    "        upper_bound_rates[ei, con] = np.max(rates_range[higher_curve+lower_curve < 0.5])\n",
    "        lower_bound_rates[ei, con] = np.min(rates_range[higher_curve+lower_curve < 0.5])\n",
    "\n",
    "        \n",
    "\n",
    "# upper_bound = losses.myReLu((error_range - half_width_rates)/kink_control)\n",
    "# lower_bound = losses.myReLu((-error_range - half_width_rates)/kink_control)\n",
    "\n",
    "e_error = np.vstack(([-lower_bound_rates[0,:]], [upper_bound_rates[0,:]])) \n",
    "i_error = np.vstack(([-lower_bound_rates[1,:]], [upper_bound_rates[1,:]])) \n",
    "\n",
    "# plt.plot(rates_range, upper_bound + lower_bound)\n",
    "# plt.plot(x, yy)\n",
    "fig, ax = plt.subplots(1,1)\n",
    "ax.plot(test_contrasts, upper_bound_rates.T)\n",
    "ax.set_prop_cycle(None)\n",
    "ax.plot(test_contrasts, lower_bound_rates.T)\n",
    "\n"
   ]
  },
  {
   "cell_type": "code",
   "execution_count": null,
   "metadata": {},
   "outputs": [],
   "source": [
    "# target_rates = losses.get_target_rates()\n",
    "# rates_error = target_rates - r_fp\n",
    "# # lower_bound_rates = losses.myReLu(half_width_rates/kink_control)\n",
    "# # upper_bound_rates = losses.myReLu(-half_width_rates/kink_control)\n",
    "\n",
    "# fig_rates, ax_rates = plt.subplots(1,1)\n",
    "# ax_rates.plot(test_contrasts, target_rates.T, \"--\")\n",
    "# #colrs = ax.get_color_cycle()\n",
    "# ax_rates.set_prop_cycle(None)\n",
    "# # ax_rates.plot(test_contrasts, r_fp.T)\n",
    "# ax_rates.set_prop_cycle(None)\n",
    "# # ax_rates.plot(test_contrasts, lower_bound_rates.T, '^')\n",
    "# # ax_rates.set_prop_cycle(None)\n",
    "# # ax_rates.plot(test_contrasts, upper_bound_rates.T, '^')\n",
    "# # ax_rates.errorbar(test_contrasts, r_fp[0,:].T, np.array([[upper_bound_rates[0,:]], [lower_bound_rates[0,:]]]) )\n",
    "# plt.errorbar(test_contrasts,r_fp[0,:], yerr=(e_error), fmt='')\n",
    "# ax_rates.set_title('post gradient descent')\n",
    "# ax_rates.set_ylabel('Firing Rate (Hz)')\n",
    "# ax_rates.set_xlabel('Contrast')\n",
    "\n",
    "# # plt.plot(test_contrasts,r_fp.T)"
   ]
  },
  {
   "cell_type": "code",
   "execution_count": 8,
   "metadata": {},
   "outputs": [
    {
     "data": {
      "text/plain": [
       "Text(0.5, 1.0, 'I Rates')"
      ]
     },
     "execution_count": 8,
     "metadata": {},
     "output_type": "execute_result"
    },
    {
     "data": {
      "image/png": "[encoded data removed]",
      "text/plain": [
       "<Figure size 432x288 with 2 Axes>"
      ]
     },
     "metadata": {
      "needs_background": "light"
     },
     "output_type": "display_data"
    }
   ],
   "source": [
    "fig_split, (ax1, ax2) = plt.subplots(1,2)\n",
    "ax1.plot(test_contrasts, target_rates[0,:], \"r--\")\n",
    "ax1.set_prop_cycle(None)\n",
    "ax1.plot(test_contrasts, r_fp[0,:],\"r\")\n",
    "# ax1.fill_between(test_contrasts, r_fp[0,:] + e_error[1,:], r_fp[0,:] - np.abs(e_error[0,:]), color='r', alpha=0.3)\n",
    "ax1.fill_between(test_contrasts, target_rates[0,:] + e_error[1,:], 0, color='r', alpha=0.3)\n",
    "ax1.set_title('E Rates')\n",
    "\n",
    "ax2.plot(test_contrasts, target_rates[1,:], \"--\")\n",
    "ax2.set_prop_cycle(None)\n",
    "ax2.plot(test_contrasts, r_fp[1,:])\n",
    "# ax2.fill_between(test_contrasts, r_fp[1,:] + i_error[1,:], r_fp[1,:] - np.abs(i_error[0,:]), alpha=0.3)\n",
    "ax2.fill_between(test_contrasts, target_rates[1,:] + i_error[1,:], 0, alpha=0.3)\n",
    "ax2.set_title('I Rates')"
   ]
  },
  {
   "cell_type": "markdown",
   "metadata": {},
   "source": [
    "# Re-Tool Errors"
   ]
  },
  {
   "cell_type": "markdown",
   "metadata": {},
   "source": [
    "So I have some code that keeps the rates bound between 0 and 80. But now I want to think about how to incorporate errors into that (AKA difference between the expected rates and the observed rates)."
   ]
  },
  {
   "cell_type": "code",
   "execution_count": 29,
   "metadata": {},
   "outputs": [
    {
     "data": {
      "text/plain": [
       "[<matplotlib.lines.Line2D at 0x137941690>,\n",
       " <matplotlib.lines.Line2D at 0x1377c1190>]"
      ]
     },
     "execution_count": 29,
     "metadata": {},
     "output_type": "execute_result"
    },
    {
     "data": {
      "image/png": "[encoded data removed]",
      "text/plain": [
       "<Figure size 432x288 with 1 Axes>"
      ]
     },
     "metadata": {
      "needs_background": "light"
     },
     "output_type": "display_data"
    }
   ],
   "source": [
    "rr = np.linspace(-20, 100, 1000)\n",
    "ideal_r = 50\n",
    "\n",
    "low_bound = 5\n",
    "upper_bound = 20\n",
    "kink_control = 1\n",
    "\n",
    "yy = losses.rates_error_fcn(-1*(ideal_r - rr), low_bound, upper_bound, kink_control)\n",
    "zero_ind = np.where(yy < 0.5)\n",
    "plt.plot(rr, yy, rr[zero_ind], yy[zero_ind])\n"
   ]
  },
  {
   "cell_type": "code",
   "execution_count": 30,
   "metadata": {},
   "outputs": [
    {
     "data": {
      "text/plain": [
       "[<matplotlib.lines.Line2D at 0x1375dd0d0>,\n",
       " <matplotlib.lines.Line2D at 0x1375ae910>,\n",
       " <matplotlib.lines.Line2D at 0x1375ae390>,\n",
       " <matplotlib.lines.Line2D at 0x1377c1290>]"
      ]
     },
     "execution_count": 30,
     "metadata": {},
     "output_type": "execute_result"
    },
    {
     "data": {
      "image/png": "[encoded data removed]",
      "text/plain": [
       "<Figure size 432x288 with 1 Axes>"
      ]
     },
     "metadata": {
      "needs_background": "light"
     },
     "output_type": "display_data"
    }
   ],
   "source": [
    "plt.plot(rr, -1*(ideal_r - rr), rr, -low_bound*np.ones(len(rr)), rr, upper_bound*np.ones(len(rr)), rr, yy)"
   ]
  },
  {
   "cell_type": "code",
   "execution_count": 31,
   "metadata": {},
   "outputs": [
    {
     "data": {
      "text/plain": [
       "array([45.46546547, 45.58558559, 45.70570571, 45.82582583, 45.94594595,\n",
       "       46.06606607, 46.18618619, 46.30630631, 46.42642643, 46.54654655,\n",
       "       46.66666667, 46.78678679, 46.90690691, 47.02702703, 47.14714715,\n",
       "       47.26726727, 47.38738739, 47.50750751, 47.62762763, 47.74774775,\n",
       "       47.86786787, 47.98798799, 48.10810811, 48.22822823, 48.34834835,\n",
       "       48.46846847, 48.58858859, 48.70870871, 48.82882883, 48.94894895,\n",
       "       49.06906907, 49.18918919, 49.30930931, 49.42942943, 49.54954955,\n",
       "       49.66966967, 49.78978979, 49.90990991, 50.03003003, 50.15015015,\n",
       "       50.27027027, 50.39039039, 50.51051051, 50.63063063, 50.75075075,\n",
       "       50.87087087, 50.99099099, 51.11111111, 51.23123123, 51.35135135,\n",
       "       51.47147147, 51.59159159, 51.71171171, 51.83183183, 51.95195195,\n",
       "       52.07207207, 52.19219219, 52.31231231, 52.43243243, 52.55255255,\n",
       "       52.67267267, 52.79279279, 52.91291291, 53.03303303, 53.15315315,\n",
       "       53.27327327, 53.39339339, 53.51351351, 53.63363363, 53.75375375,\n",
       "       53.87387387, 53.99399399, 54.11411411, 54.23423423, 54.35435435,\n",
       "       54.47447447, 54.59459459, 54.71471471, 54.83483483, 54.95495495,\n",
       "       55.07507508, 55.1951952 , 55.31531532, 55.43543544, 55.55555556,\n",
       "       55.67567568, 55.7957958 , 55.91591592, 56.03603604, 56.15615616,\n",
       "       56.27627628, 56.3963964 , 56.51651652, 56.63663664, 56.75675676,\n",
       "       56.87687688, 56.996997  , 57.11711712, 57.23723724, 57.35735736,\n",
       "       57.47747748, 57.5975976 , 57.71771772, 57.83783784, 57.95795796,\n",
       "       58.07807808, 58.1981982 , 58.31831832, 58.43843844, 58.55855856,\n",
       "       58.67867868, 58.7987988 , 58.91891892, 59.03903904, 59.15915916,\n",
       "       59.27927928, 59.3993994 , 59.51951952, 59.63963964, 59.75975976,\n",
       "       59.87987988, 60.        , 60.12012012, 60.24024024, 60.36036036,\n",
       "       60.48048048, 60.6006006 , 60.72072072, 60.84084084, 60.96096096,\n",
       "       61.08108108, 61.2012012 , 61.32132132, 61.44144144, 61.56156156,\n",
       "       61.68168168, 61.8018018 , 61.92192192, 62.04204204, 62.16216216,\n",
       "       62.28228228, 62.4024024 , 62.52252252, 62.64264264, 62.76276276,\n",
       "       62.88288288, 63.003003  , 63.12312312, 63.24324324, 63.36336336,\n",
       "       63.48348348, 63.6036036 , 63.72372372, 63.84384384, 63.96396396,\n",
       "       64.08408408, 64.2042042 , 64.32432432, 64.44444444, 64.56456456,\n",
       "       64.68468468, 64.8048048 , 64.92492492, 65.04504505, 65.16516517,\n",
       "       65.28528529, 65.40540541, 65.52552553, 65.64564565, 65.76576577,\n",
       "       65.88588589, 66.00600601, 66.12612613, 66.24624625, 66.36636637,\n",
       "       66.48648649, 66.60660661, 66.72672673, 66.84684685, 66.96696697,\n",
       "       67.08708709, 67.20720721, 67.32732733, 67.44744745, 67.56756757,\n",
       "       67.68768769, 67.80780781, 67.92792793, 68.04804805, 68.16816817,\n",
       "       68.28828829, 68.40840841, 68.52852853, 68.64864865, 68.76876877,\n",
       "       68.88888889, 69.00900901, 69.12912913, 69.24924925, 69.36936937,\n",
       "       69.48948949])"
      ]
     },
     "execution_count": 31,
     "metadata": {},
     "output_type": "execute_result"
    }
   ],
   "source": [
    "rr[zero_ind]"
   ]
  },
  {
   "cell_type": "code",
   "execution_count": null,
   "metadata": {},
   "outputs": [],
   "source": []
  }
 ],
 "metadata": {
  "kernelspec": {
   "display_name": "Python 3",
   "language": "python",
   "name": "python3"
  },
  "language_info": {
   "codemirror_mode": {
    "name": "ipython",
    "version": 3
   },
   "file_extension": ".py",
   "mimetype": "text/x-python",
   "name": "python",
   "nbconvert_exporter": "python",
   "pygments_lexer": "ipython3",
   "version": "3.7.4"
  }
 },
 "nbformat": 4,
 "nbformat_minor": 4
}
