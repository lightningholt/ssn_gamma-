{
 "cells": [
  {
   "cell_type": "code",
   "execution_count": 57,
   "metadata": {},
   "outputs": [
    {
     "data": {
      "text/plain": [
       "<module 'gamma_SSN_losses' from '/Users/cholt/Google Drive/Python/torch_SSN/jax_caleb/gamma_SSN_losses.py'>"
      ]
     },
     "execution_count": 57,
     "metadata": {},
     "output_type": "execute_result"
    }
   ],
   "source": [
    "# import jax.numpy as np\n",
    "# from jax import grad, value_and_grad, jit, ops\n",
    "import numpy as np\n",
    "\n",
    "import matplotlib.pyplot as plt\n",
    "%matplotlib inline \n",
    "\n",
    "import SSN_classes\n",
    "import SSN_power_spec\n",
    "import gamma_SSN_losses as losses\n",
    "\n",
    "from importlib import reload\n",
    "reload(SSN_classes)\n",
    "reload(SSN_power_spec)\n",
    "reload(losses)"
   ]
  },
  {
   "cell_type": "code",
   "execution_count": 2,
   "metadata": {},
   "outputs": [],
   "source": [
    "#the constant (non-optimized) parameters:\n",
    "\n",
    "#fixed point algorithm:\n",
    "dt = 1\n",
    "xtol = 1e-6\n",
    "Tmax = 500\n",
    "\n",
    "#power spectrum resolution and range\n",
    "fnums = 30\n",
    "freq_range = [15,100]\n",
    "\n",
    "#SSN parameters\n",
    "n = 2\n",
    "k = 0.04\n",
    "tauE = 20 # in ms\n",
    "tauI = 10 # in ms\n",
    "psi = 0.774\n",
    "\n",
    "t_scale = 1\n",
    "tau_s = np.array([3, 5, 100])*t_scale #in ms, AMPA, GABA, NMDA current decay time constants\n",
    "NMDAratio = 0.4 #NMDA strength as a fraction of E synapse weight"
   ]
  },
  {
   "cell_type": "code",
   "execution_count": 33,
   "metadata": {},
   "outputs": [
    {
     "name": "stdout",
     "output_type": "stream",
     "text": [
      "      converged to fixed point at iter=226,      as max(abs(dx./max(xvec,1.0))) < 1e-06 \n"
     ]
    }
   ],
   "source": [
    "params = np.array([1.7, 1.25, 2.2,  1.5, 1.2]) # [Jee, Jei, Jie, Jii, i2e]\n",
    "contrasts = np.array([0, 25, 50, 100])\n",
    "contrasts = np.array([25])\n",
    "\n",
    "Jee = params[0]\n",
    "Jei = params[1]\n",
    "Jie = params[2]\n",
    "Jii = params[3]\n",
    "i2e = params[4]\n",
    "\n",
    "cons = len(contrasts)\n",
    "\n",
    "J2x2 = np.array([[Jee, -Jei], [Jie,  -Jii]]) * np.pi * psi #np.array([[2.5, -1.3], [2.4,  -1.0]]) * np.pi * psi\n",
    "ssn = SSN_classes.SSN_2D_AMPAGABA(tau_s, NMDAratio, n,k,tauE,tauI, *np.abs(J2x2).ravel())\n",
    "\n",
    "r_init = np.zeros([ssn.N, len(contrasts)])\n",
    "inp_vec = np.array([[1], [i2e]]) * contrasts\n",
    "\n",
    "r_fp = ssn.fixed_point_r(inp_vec, r_init=r_init, Tmax=Tmax, dt=dt, xtol=xtol)"
   ]
  },
  {
   "cell_type": "code",
   "execution_count": 34,
   "metadata": {},
   "outputs": [
    {
     "name": "stdout",
     "output_type": "stream",
     "text": [
      "[[ 1.5552526  0.         2.5552526  0.         2.5552526  0.       ]\n",
      " [ 3.3067973 -1.         3.3067973  0.         3.3067973  0.       ]\n",
      " [ 0.        -4.385322  -1.        -4.385322   0.        -4.385322 ]\n",
      " [ 0.        -5.262387   0.        -6.262387   0.        -5.262387 ]\n",
      " [ 1.7035017  0.         1.7035017  0.         0.7035017  0.       ]\n",
      " [ 2.2045317  0.         2.2045317  0.         2.2045317 -1.       ]]\n"
     ]
    }
   ],
   "source": [
    "J = ssn.DCjacobian(r_fp)\n",
    "for ii in range(len(contrasts)):\n",
    "    print(J[ii])"
   ]
  },
  {
   "cell_type": "code",
   "execution_count": 35,
   "metadata": {},
   "outputs": [
    {
     "data": {
      "text/plain": [
       "array([[1.0302504, 0.       ],\n",
       "       [0.       , 1.4427818]], dtype=float32)"
      ]
     },
     "execution_count": 35,
     "metadata": {},
     "output_type": "execute_result"
    }
   ],
   "source": [
    "Phi = lambda rr: np.diag(ssn.gains_from_r(rr))\n",
    "Phi(r_fp[:,1])"
   ]
  },
  {
   "cell_type": "code",
   "execution_count": 36,
   "metadata": {},
   "outputs": [],
   "source": [
    "maxF = freq_range[1]\n",
    "minF = freq_range[0]\n",
    "fs = np.linspace(minF,maxF,fnums) # grid of frequencies in Hz\n",
    "fs = fs/1000 # coverting from Hz to kHz = 1/ms\n",
    "\n",
    "#AnalPowSpecE = np.empty_like(fs)\n",
    "#AnalPowSpecE = []\n",
    "inv_G = np.array([-1j * 2 * np.pi * ff * np.diag(ssn.tau_s_vec) - J[cc] for cc in range(cons) for ff in fs])"
   ]
  },
  {
   "cell_type": "code",
   "execution_count": 47,
   "metadata": {},
   "outputs": [],
   "source": [
    "eE, noiseCov, SpatialFilt = SSN_power_spec.make_eE_noiseCov(ssn, SSN_power_spec.NoisePars(), [0])\n",
    "eE = np.kron(np.ones(ssn.num_rcpt), eE)\n",
    "\n",
    "iGf = np.transpose(inv_G[0].conj())\n",
    "\n",
    "x = np.linalg.solve(iGf, eE)"
   ]
  },
  {
   "cell_type": "code",
   "execution_count": 20,
   "metadata": {},
   "outputs": [],
   "source": [
    "import scipy.io as io"
   ]
  },
  {
   "cell_type": "code",
   "execution_count": 37,
   "metadata": {},
   "outputs": [],
   "source": [
    "io.savemat('pyGf.mat', {'pyGf':inv_G[0]})"
   ]
  },
  {
   "cell_type": "code",
   "execution_count": 41,
   "metadata": {},
   "outputs": [
    {
     "data": {
      "text/plain": [
       "array([ 2.73000380e-05-1.91408786e-05j, -3.63136353e-05+4.86337079e-05j,\n",
       "        5.19878768e-05-9.07487807e-05j,  5.10040951e-05+3.19455676e-05j,\n",
       "        3.49892558e-05+2.74275296e-05j, -1.53228081e-06+1.02558009e-05j])"
      ]
     },
     "execution_count": 41,
     "metadata": {},
     "output_type": "execute_result"
    }
   ],
   "source": [
    "x - [1.3349 - 0.2233j,  -0.9178 + 0.2254j,   1.2034 - 0.4129j,  -0.8164 + 0.3506j, 0.0317 - 0.1450j,   -0.0145 + 0.1026j\n",
    "]"
   ]
  },
  {
   "cell_type": "code",
   "execution_count": 42,
   "metadata": {},
   "outputs": [
    {
     "data": {
      "text/plain": [
       "DeviceArray(1, dtype=int32)"
      ]
     },
     "execution_count": 42,
     "metadata": {},
     "output_type": "execute_result"
    }
   ],
   "source": [
    "SpatialFilt"
   ]
  },
  {
   "cell_type": "code",
   "execution_count": 48,
   "metadata": {},
   "outputs": [],
   "source": [
    "y = SSN_power_spec.NoisePars()"
   ]
  },
  {
   "cell_type": "code",
   "execution_count": 50,
   "metadata": {},
   "outputs": [
    {
     "data": {
      "text/plain": [
       "5"
      ]
     },
     "execution_count": 50,
     "metadata": {},
     "output_type": "execute_result"
    }
   ],
   "source": [
    "y.corr_time"
   ]
  },
  {
   "cell_type": "code",
   "execution_count": 51,
   "metadata": {},
   "outputs": [],
   "source": [
    "ideal_spect = io.loadmat(\"../../../MATLAB/GammaSharedWithCaleb/SSN_2D/standJ19-09-20-BestSpect.mat\")"
   ]
  },
  {
   "cell_type": "code",
   "execution_count": 58,
   "metadata": {},
   "outputs": [
    {
     "data": {
      "text/plain": [
       "[<matplotlib.lines.Line2D at 0x12f6543d0>,\n",
       " <matplotlib.lines.Line2D at 0x12b6705d0>,\n",
       " <matplotlib.lines.Line2D at 0x12bdd73d0>,\n",
       " <matplotlib.lines.Line2D at 0x12b670950>]"
      ]
     },
     "execution_count": 58,
     "metadata": {},
     "output_type": "execute_result"
    },
    {
     "data": {
      "image/png": "[encoded data removed]",
      "text/plain": [
       "<Figure size 432x288 with 1 Axes>"
      ]
     },
     "metadata": {
      "needs_background": "light"
     },
     "output_type": "display_data"
    }
   ],
   "source": [
    "plt.plot(fs*1000, losses.get_target_spect(fs*1000))"
   ]
  },
  {
   "cell_type": "code",
   "execution_count": null,
   "metadata": {},
   "outputs": [],
   "source": []
  }
 ],
 "metadata": {
  "kernelspec": {
   "display_name": "Python 3",
   "language": "python",
   "name": "python3"
  },
  "language_info": {
   "codemirror_mode": {
    "name": "ipython",
    "version": 3
   },
   "file_extension": ".py",
   "mimetype": "text/x-python",
   "name": "python",
   "nbconvert_exporter": "python",
   "pygments_lexer": "ipython3",
   "version": "3.7.4"
  }
 },
 "nbformat": 4,
 "nbformat_minor": 4
}
