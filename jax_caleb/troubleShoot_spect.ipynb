{
 "cells": [
  {
   "cell_type": "code",
   "execution_count": 57,
   "metadata": {},
   "outputs": [
    {
     "data": {
      "text/plain": [
       "<module 'gamma_SSN_losses' from '/Users/cholt/Google Drive/Python/torch_SSN/jax_caleb/gamma_SSN_losses.py'>"
      ]
     },
     "execution_count": 57,
     "metadata": {},
     "output_type": "execute_result"
    }
   ],
   "source": [
    "# import jax.numpy as np\n",
    "# from jax import grad, value_and_grad, jit, ops\n",
    "import numpy as np\n",
    "\n",
    "import matplotlib.pyplot as plt\n",
    "%matplotlib inline \n",
    "\n",
    "import SSN_classes\n",
    "import SSN_power_spec\n",
    "import gamma_SSN_losses as losses\n",
    "\n",
    "from importlib import reload\n",
    "reload(SSN_classes)\n",
    "reload(SSN_power_spec)\n",
    "reload(losses)"
   ]
  },
  {
   "cell_type": "code",
   "execution_count": 2,
   "metadata": {},
   "outputs": [],
   "source": [
    "#the constant (non-optimized) parameters:\n",
    "\n",
    "#fixed point algorithm:\n",
    "dt = 1\n",
    "xtol = 1e-6\n",
    "Tmax = 500\n",
    "\n",
    "#power spectrum resolution and range\n",
    "fnums = 30\n",
    "freq_range = [15,100]\n",
    "\n",
    "#SSN parameters\n",
    "n = 2\n",
    "k = 0.04\n",
    "tauE = 20 # in ms\n",
    "tauI = 10 # in ms\n",
    "psi = 0.774\n",
    "\n",
    "t_scale = 1\n",
    "tau_s = np.array([3, 5, 100])*t_scale #in ms, AMPA, GABA, NMDA current decay time constants\n",
    "NMDAratio = 0.4 #NMDA strength as a fraction of E synapse weight"
   ]
  },
  {
   "cell_type": "code",
   "execution_count": 33,
   "metadata": {},
   "outputs": [
    {
     "name": "stdout",
     "output_type": "stream",
     "text": [
      "      converged to fixed point at iter=226,      as max(abs(dx./max(xvec,1.0))) < 1e-06 \n"
     ]
    }
   ],
   "source": [
    "params = np.array([1.7, 1.25, 2.2,  1.5, 1.2]) # [Jee, Jei, Jie, Jii, i2e]\n",
    "contrasts = np.array([0, 25, 50, 100])\n",
    "contrasts = np.array([25])\n",
    "\n",
    "Jee = params[0]\n",
    "Jei = params[1]\n",
    "Jie = params[2]\n",
    "Jii = params[3]\n",
    "i2e = params[4]\n",
    "\n",
    "cons = len(contrasts)\n",
    "\n",
    "J2x2 = np.array([[Jee, -Jei], [Jie,  -Jii]]) * np.pi * psi #np.array([[2.5, -1.3], [2.4,  -1.0]]) * np.pi * psi\n",
    "ssn = SSN_classes.SSN_2D_AMPAGABA(tau_s, NMDAratio, n,k,tauE,tauI, *np.abs(J2x2).ravel())\n",
    "\n",
    "r_init = np.zeros([ssn.N, len(contrasts)])\n",
    "inp_vec = np.array([[1], [i2e]]) * contrasts\n",
    "\n",
    "r_fp = ssn.fixed_point_r(inp_vec, r_init=r_init, Tmax=Tmax, dt=dt, xtol=xtol)"
   ]
  },
  {
   "cell_type": "code",
   "execution_count": 34,
   "metadata": {},
   "outputs": [
    {
     "name": "stdout",
     "output_type": "stream",
     "text": [
      "[[ 1.5552526  0.         2.5552526  0.         2.5552526  0.       ]\n",
      " [ 3.3067973 -1.         3.3067973  0.         3.3067973  0.       ]\n",
      " [ 0.        -4.385322  -1.        -4.385322   0.        -4.385322 ]\n",
      " [ 0.        -5.262387   0.        -6.262387   0.        -5.262387 ]\n",
      " [ 1.7035017  0.         1.7035017  0.         0.7035017  0.       ]\n",
      " [ 2.2045317  0.         2.2045317  0.         2.2045317 -1.       ]]\n"
     ]
    }
   ],
   "source": [
    "J = ssn.DCjacobian(r_fp)\n",
    "for ii in range(len(contrasts)):\n",
    "    print(J[ii])"
   ]
  },
  {
   "cell_type": "code",
   "execution_count": 35,
   "metadata": {},
   "outputs": [
    {
     "data": {
      "text/plain": [
       "array([[1.0302504, 0.       ],\n",
       "       [0.       , 1.4427818]], dtype=float32)"
      ]
     },
     "execution_count": 35,
     "metadata": {},
     "output_type": "execute_result"
    }
   ],
   "source": [
    "Phi = lambda rr: np.diag(ssn.gains_from_r(rr))\n",
    "Phi(r_fp[:,1])"
   ]
  },
  {
   "cell_type": "code",
   "execution_count": 36,
   "metadata": {},
   "outputs": [],
   "source": [
    "maxF = freq_range[1]\n",
    "minF = freq_range[0]\n",
    "fs = np.linspace(minF,maxF,fnums) # grid of frequencies in Hz\n",
    "fs = fs/1000 # coverting from Hz to kHz = 1/ms\n",
    "\n",
    "#AnalPowSpecE = np.empty_like(fs)\n",
    "#AnalPowSpecE = []\n",
    "inv_G = np.array([-1j * 2 * np.pi * ff * np.diag(ssn.tau_s_vec) - J[cc] for cc in range(cons) for ff in fs])"
   ]
  },
  {
   "cell_type": "code",
   "execution_count": 47,
   "metadata": {},
   "outputs": [],
   "source": [
    "eE, noiseCov, SpatialFilt = SSN_power_spec.make_eE_noiseCov(ssn, SSN_power_spec.NoisePars(), [0])\n",
    "eE = np.kron(np.ones(ssn.num_rcpt), eE)\n",
    "\n",
    "iGf = np.transpose(inv_G[0].conj())\n",
    "\n",
    "x = np.linalg.solve(iGf, eE)"
   ]
  },
  {
   "cell_type": "code",
   "execution_count": 20,
   "metadata": {},
   "outputs": [],
   "source": [
    "import scipy.io as io"
   ]
  },
  {
   "cell_type": "code",
   "execution_count": 37,
   "metadata": {},
   "outputs": [],
   "source": [
    "io.savemat('pyGf.mat', {'pyGf':inv_G[0]})"
   ]
  },
  {
   "cell_type": "code",
   "execution_count": 41,
   "metadata": {},
   "outputs": [
    {
     "data": {
      "text/plain": [
       "array([ 2.73000380e-05-1.91408786e-05j, -3.63136353e-05+4.86337079e-05j,\n",
       "        5.19878768e-05-9.07487807e-05j,  5.10040951e-05+3.19455676e-05j,\n",
       "        3.49892558e-05+2.74275296e-05j, -1.53228081e-06+1.02558009e-05j])"
      ]
     },
     "execution_count": 41,
     "metadata": {},
     "output_type": "execute_result"
    }
   ],
   "source": [
    "x - [1.3349 - 0.2233j,  -0.9178 + 0.2254j,   1.2034 - 0.4129j,  -0.8164 + 0.3506j, 0.0317 - 0.1450j,   -0.0145 + 0.1026j\n",
    "]"
   ]
  },
  {
   "cell_type": "code",
   "execution_count": 42,
   "metadata": {},
   "outputs": [
    {
     "data": {
      "text/plain": [
       "DeviceArray(1, dtype=int32)"
      ]
     },
     "execution_count": 42,
     "metadata": {},
     "output_type": "execute_result"
    }
   ],
   "source": [
    "SpatialFilt"
   ]
  },
  {
   "cell_type": "code",
   "execution_count": 48,
   "metadata": {},
   "outputs": [],
   "source": [
    "y = SSN_power_spec.NoisePars()"
   ]
  },
  {
   "cell_type": "code",
   "execution_count": 50,
   "metadata": {},
   "outputs": [
    {
     "data": {
      "text/plain": [
       "5"
      ]
     },
     "execution_count": 50,
     "metadata": {},
     "output_type": "execute_result"
    }
   ],
   "source": [
    "y.corr_time"
   ]
  },
  {
   "cell_type": "code",
   "execution_count": 59,
   "metadata": {},
   "outputs": [],
   "source": [
    "ideal_spect = io.loadmat(\"../../../MATLAB/GammaSharedWithCaleb/SSN_2D/standJ19-09-20-BestSpect.mat\")"
   ]
  },
  {
   "cell_type": "code",
   "execution_count": 58,
   "metadata": {},
   "outputs": [
    {
     "data": {
      "text/plain": [
       "[<matplotlib.lines.Line2D at 0x12f6543d0>,\n",
       " <matplotlib.lines.Line2D at 0x12b6705d0>,\n",
       " <matplotlib.lines.Line2D at 0x12bdd73d0>,\n",
       " <matplotlib.lines.Line2D at 0x12b670950>]"
      ]
     },
     "execution_count": 58,
     "metadata": {},
     "output_type": "execute_result"
    },
    {
     "data": {
      "image/png": "[encoded data removed]",
      "text/plain": [
       "<Figure size 432x288 with 1 Axes>"
      ]
     },
     "metadata": {
      "needs_background": "light"
     },
     "output_type": "display_data"
    }
   ],
   "source": [
    "plt.plot(fs*1000, losses.get_target_spect(fs*1000))"
   ]
  },
  {
   "cell_type": "code",
   "execution_count": 60,
   "metadata": {},
   "outputs": [
    {
     "data": {
      "text/plain": [
       "array([[0.60836392+2.83711890e-18j, 2.5129032 +1.17189809e-17j,\n",
       "        1.75274476+8.17396482e-18j, 1.17802577+5.49374983e-18j],\n",
       "       [0.60812383+9.59907674e-19j, 2.17913121-1.98550376e-17j,\n",
       "        1.62897425+2.26054909e-17j, 1.15976606+1.65641210e-18j],\n",
       "       [0.60740461+2.83264513e-18j, 1.88759696+8.80285112e-18j,\n",
       "        1.50533878+7.02018142e-18j, 1.13918912+5.31263424e-18j],\n",
       "       [0.60620934-4.67492613e-18j, 1.76704116+8.24063643e-18j,\n",
       "        1.44919829-8.24562516e-18j, 1.1288933 +1.27666165e-17j],\n",
       "       [0.60454312+2.81930053e-18j, 1.71321073+7.98959700e-18j,\n",
       "        1.42302802+6.63632337e-18j, 1.12379101+5.24082479e-18j],\n",
       "       [0.60241306+2.80936693e-18j, 1.68573647+7.86147017e-18j,\n",
       "        1.40934375+2.15670326e-17j, 1.1209592 +5.22761858e-18j],\n",
       "       [0.59982812+2.79731201e-18j, 1.67018201+7.78893157e-18j,\n",
       "        1.40144435+2.15236912e-17j, 1.11918875+5.21936205e-18j],\n",
       "       [0.59679909+2.78318603e-18j, 1.66070048-2.22159788e-17j,\n",
       "        1.39652431+2.14930693e-17j, 1.11795429+5.21360513e-18j],\n",
       "       [0.59333843+2.76704719e-18j, 1.6546177 +7.71634708e-18j,\n",
       "        1.39327698+2.14690766e-17j, 1.11700597+2.01806805e-17j],\n",
       "       [0.5894602 +2.74896096e-18j, 1.65058263+7.69752944e-18j,\n",
       "        1.39103514-2.34358403e-17j, 1.11621452+5.20549164e-18j],\n",
       "       [0.58517986+2.72899952e-18j, 1.64785561+7.68481192e-18j,\n",
       "        1.38943124+6.47964401e-18j, 1.11550807+5.20219711e-18j],\n",
       "       [0.58051419-1.22307271e-17j, 1.64600405+7.67617711e-18j,\n",
       "        1.3882497 +6.47413385e-18j, 1.11484418+2.01370692e-17j],\n",
       "       [0.57548106-1.22407122e-17j, 1.64476037+3.75193394e-17j,\n",
       "        1.38735717+6.46997151e-18j, 1.11419643+3.50450425e-17j],\n",
       "       [0.57009934+1.75685200e-17j, 1.64395074+7.66660145e-18j,\n",
       "        1.38666729+6.46675428e-18j, 1.11354761+5.19305444e-18j],\n",
       "       [0.5643887 +3.24201959e-17j, 1.64345707-5.19120136e-17j,\n",
       "        1.38612182+6.46421044e-18j, 1.112886  -9.70410918e-18j],\n",
       "       [0.55836945+2.60396854e-18j, 1.64319568+7.66308023e-18j,\n",
       "        1.38567991+6.46214959e-18j, 1.11220335+5.18678548e-18j],\n",
       "       [0.55206238+2.57455540e-18j, 1.64310481-5.17739496e-17j,\n",
       "        1.38531191+6.46043342e-18j, 1.11149359+5.18347551e-18j],\n",
       "       [0.54548863+2.54389855e-18j, 1.64313699+6.70228528e-17j,\n",
       "        1.38499552-2.32210652e-17j, 1.11075211+5.18001760e-18j],\n",
       "       [0.53866948-2.71274335e-17j, 1.64325427+7.66335345e-18j,\n",
       "        1.38471338-5.28214195e-17j, 1.10997527+5.17639475e-18j],\n",
       "       [0.53162628+2.47925117e-18j, 1.64342512+6.68578396e-17j,\n",
       "        1.38445152+6.45642095e-18j, 1.10916007+3.47694378e-17j],\n",
       "       [0.52438024+2.44545912e-18j, 1.64362236+7.66507006e-18j,\n",
       "        1.38419828+6.45523997e-18j, 1.108304  -2.43833833e-17j],\n",
       "       [0.51695238+2.41081909e-18j, 1.64382179+7.66600011e-18j,\n",
       "        1.38394367-5.25558860e-17j, 1.10740486+5.16440761e-18j],\n",
       "       [0.50936334-2.70803942e-17j, 1.64400119+7.66683672e-18j,\n",
       "        1.38367884-5.24588257e-17j, 1.10646066-2.42958173e-17j],\n",
       "       [0.50163334+2.33937840e-18j, 1.64413964+7.66748239e-18j,\n",
       "        1.38339573+6.45149727e-18j, 1.10546956+5.15538228e-18j],\n",
       "       [0.49378205+2.30276377e-18j, 1.64421707-5.10345892e-17j,\n",
       "        1.38308682+6.45005666e-18j, 1.10442983+5.15053351e-18j],\n",
       "       [0.48582855+2.26567243e-18j, 1.64421385+7.66782848e-18j,\n",
       "        1.38274497+6.44846244e-18j, 1.10333982+5.14545020e-18j],\n",
       "       [0.4777912 +2.22819007e-18j, 1.6441106 +7.66734698e-18j,\n",
       "        1.38236327+6.44668237e-18j, 1.10219789+5.14012478e-18j],\n",
       "       [0.46968764+2.19039893e-18j, 1.64388796-1.09049246e-16j,\n",
       "        1.38193494+6.44468483e-18j, 1.10100244-2.40443390e-17j],\n",
       "       [0.46153472+2.15237760e-18j, 1.64352645-5.05702458e-17j,\n",
       "        1.38145324-5.17924302e-17j, 1.09975186+5.12871767e-18j],\n",
       "       [0.45334846+2.11420080e-18j, 1.64300642+7.66219760e-18j,\n",
       "        1.38091146+6.43991181e-18j, 1.09844455+3.41766387e-17j],\n",
       "       [0.44514404-2.69127270e-17j, 1.64230795+7.65894026e-18j,\n",
       "        1.3803028 +6.43707334e-18j, 1.0970789 -5.28610804e-17j],\n",
       "       [0.43693578-2.68837481e-17j, 1.64141082+7.65475649e-18j,\n",
       "        1.37962042+6.43389105e-18j, 1.09565324+5.10960368e-18j],\n",
       "       [0.4287371 +1.99942518e-18j, 1.64029452+7.64955058e-18j,\n",
       "        1.37885736+6.43033246e-18j, 1.09416593+5.10266754e-18j],\n",
       "       [0.42056058+1.96129379e-18j, 1.6389382 +7.64322534e-18j,\n",
       "        1.37800651-1.08698777e-16j, 1.09261524+5.09543590e-18j],\n",
       "       [0.41241791+1.92332026e-18j, 1.63732073+7.63568223e-18j,\n",
       "        1.37706065+6.42195350e-18j, 1.09099946+5.08790066e-18j],\n",
       "       [0.40431993+3.05194404e-17j, 1.63542072-1.06908719e-16j,\n",
       "        1.37601242+6.41706502e-18j, 1.08931681+5.08005359e-18j],\n",
       "       [0.39627663+1.84804501e-18j, 1.63321655+7.61654231e-18j,\n",
       "        1.37485427+6.41166397e-18j, 1.0875655 +5.07188628e-18j],\n",
       "       [0.38829718+1.81083269e-18j, 1.63068645+7.60474313e-18j,\n",
       "        1.37357852+6.40571451e-18j, 1.08574367+5.06339014e-18j],\n",
       "       [0.38038998-2.66257175e-17j, 1.62780854+7.59132195e-18j,\n",
       "        1.37217734+6.39918006e-18j, 1.08384945+5.05455642e-18j],\n",
       "       [0.37256264+1.73745428e-18j, 1.62456094+7.57617668e-18j,\n",
       "        1.37064273+6.39202337e-18j, 1.08188093+5.04537620e-18j],\n",
       "       [0.36482203+1.70135577e-18j, 1.62092183-1.05381447e-16j,\n",
       "        1.36896655+6.38420647e-18j, 1.07983616+6.15061664e-17j],\n",
       "       [0.35717433+2.98161835e-17j, 1.61686956-1.05061664e-16j,\n",
       "        1.36714053+6.37569078e-18j, 1.07771316+5.02593970e-18j],\n",
       "       [0.34962504+1.63048428e-18j, 1.61238278-1.04737646e-16j,\n",
       "        1.36515627+1.18623467e-16j, 1.07550991+5.01566476e-18j],\n",
       "       [0.34217903+1.59575966e-18j, 1.60744052+7.49633523e-18j,\n",
       "        1.36300524+6.35640576e-18j, 1.07322435+5.00500601e-18j],\n",
       "       [0.33484057+1.56153658e-18j, 1.60202236-1.04077828e-16j,\n",
       "        1.36067884+6.34555654e-18j, 1.07085441+4.99395375e-18j],\n",
       "       [0.32761335-2.62686609e-17j, 1.59610851+7.44348812e-18j,\n",
       "        1.35816837+6.33384891e-18j, 1.06839798+4.98249815e-18j],\n",
       "       [0.32050054+2.91989935e-17j, 1.58968001+7.41350866e-18j,\n",
       "        1.35546508+6.32124203e-18j, 1.06585294+4.97062929e-18j],\n",
       "       [0.3135048 +1.46203670e-18j, 1.58271883+7.38104505e-18j,\n",
       "        1.35256016+6.30769489e-18j, 1.06321713-5.02632123e-17j],\n",
       "       [0.30662833+1.42996816e-18j, 1.57520805+7.34601834e-18j,\n",
       "        1.34944481+6.29316641e-18j, 1.06048838+4.94561153e-18j],\n",
       "       [0.29987291+2.88180733e-17j, 1.56713197+7.30835540e-18j,\n",
       "        1.34611024+6.27761554e-18j, 1.0576645 +4.93244232e-18j],\n",
       "       [0.29323991-2.59545391e-17j, 1.55847634+7.26798963e-18j,\n",
       "        1.34254767+6.26100144e-18j, 1.05474331+4.91881927e-18j],\n",
       "       [0.28673033+1.33717339e-18j, 1.5492284 -1.01668231e-16j,\n",
       "        1.33874844-1.02649809e-16j, 1.0517226 +4.90473210e-18j],\n",
       "       [0.28034483+2.84306473e-17j, 1.53937713-1.01314091e-16j,\n",
       "        1.33470394+6.22442199e-18j, 1.04860016+4.89017055e-18j],\n",
       "       [0.27408375+1.27819578e-18j, 1.52891334+1.15218298e-16j,\n",
       "        1.33040574+6.20437723e-18j, 1.0453738 +4.87512433e-18j],\n",
       "       [0.26794716+1.24957766e-18j, 1.51782981-1.00600293e-16j,\n",
       "        1.32584556+6.18311075e-18j, 1.04204132-4.89797802e-17j],\n",
       "       [0.26193486+1.22153916e-18j, 1.50612143+7.02383133e-18j,\n",
       "        1.32101535+1.13425386e-16j, 1.03860054+4.84353712e-18j],\n",
       "       [0.25604642+1.19407826e-18j, 1.4937853 +1.13812840e-16j,\n",
       "        1.31590731+6.13676351e-18j, 1.03504932+4.82697589e-18j],\n",
       "       [0.25028117-2.54388273e-17j, 1.48082085+6.90584152e-18j,\n",
       "        1.31051393+6.11161136e-18j, 1.0313855 +4.80988961e-18j],\n",
       "       [0.24463829+1.14087621e-18j, 1.4672299 +6.84245980e-18j,\n",
       "        1.30482804+6.08509508e-18j, 1.027607  +4.79226847e-18j],\n",
       "       [0.23911676+1.11512640e-18j, 1.45301673-9.87909314e-17j,\n",
       "        1.29884285+1.11624291e-16j, 1.02371174-4.80094511e-17j],\n",
       "       [0.23371539+1.08993702e-18j, 1.43818816+6.70702303e-18j,\n",
       "        1.29255199+6.02784545e-18j, 1.01969771+4.75538335e-18j],\n",
       "       [0.2284329 +1.06530197e-18j, 1.42275354-2.02754940e-16j,\n",
       "        1.28594958+5.99705493e-18j, 1.01556295+4.73610079e-18j],\n",
       "       [0.22326783+1.40729138e-17j, 1.40672476+6.56029271e-18j,\n",
       "        1.27903022+5.96478637e-18j, 1.01130555+4.71624630e-18j],\n",
       "       [0.21821867+1.01766770e-18j, 1.39011623+6.48283849e-18j,\n",
       "        1.27178911-9.78777975e-17j, 1.00692367-4.72085961e-17j],\n",
       "       [0.21328378+1.39147524e-17j, 1.37294488+6.40275950e-18j,\n",
       "        1.26422202+5.89572796e-18j, 1.00241555+5.63551824e-17j],\n",
       "       [0.20846144+9.72164656e-19j, 1.35523003+6.32014589e-18j,\n",
       "        1.25632537+5.85890177e-18j, 0.99777951+4.65316731e-18j],\n",
       "       [0.20374989+9.50192231e-19j, 1.33699334+6.23509868e-18j,\n",
       "        1.24809628+5.82052524e-18j, 0.99301397-4.65968219e-17j],\n",
       "       [0.19914729-1.18210919e-17j, 1.31825869+6.14772923e-18j,\n",
       "        1.23953259-9.62179697e-17j, 0.98811743+4.60810797e-18j],\n",
       "       [0.19465175-1.17845952e-17j, 1.29905206-9.54807055e-17j,\n",
       "        1.2306329 +1.07277948e-16j, 0.98308852+4.58465554e-18j],\n",
       "       [0.19026135+8.87288107e-19j, 1.27940134+5.96651707e-18j,\n",
       "        1.22139659+5.69601062e-18j, 0.97792597+4.56057989e-18j],\n",
       "       [0.18597414+1.34437725e-17j, 1.2593362 +5.87294284e-18j,\n",
       "        1.21182389+5.65136813e-18j, 0.97262866+4.53587573e-18j],\n",
       "       [0.18178815+8.47773138e-19j, 1.23888789+5.77758168e-18j,\n",
       "        1.20191588+5.60516190e-18j, 0.96719556+1.04655267e-16j],\n",
       "       [0.17770138+1.32881416e-17j, 1.21808902+5.68058570e-18j,\n",
       "        1.19167451+1.05232818e-16j, 0.96162583-9.51908536e-17j],\n",
       "       [0.17371183-1.15903925e-17j, 1.19697339+5.58211247e-18j,\n",
       "        1.18110262-9.36959139e-17j, 0.95591875-9.47460640e-17j],\n",
       "       [0.1698175 +1.31332772e-17j, 1.17557572+5.48232395e-18j,\n",
       "        1.17020397+5.45727268e-18j, 0.95007376+4.43069047e-18j],\n",
       "       [0.16601639+7.74221172e-19j, 1.15393147+5.38138548e-18j,\n",
       "        1.15898324+5.40494453e-18j, 0.94409048+4.40278732e-18j],\n",
       "       [0.16230648+7.56919963e-19j, 1.13207657+1.03057908e-16j,\n",
       "        1.14744601+5.35114043e-18j, 0.9379687 +4.37423825e-18j],\n",
       "       [0.15868581+7.40034854e-19j, 1.11004725-4.34732006e-17j,\n",
       "        1.13559882+1.02595753e-16j, 0.93170838+4.34504311e-18j],\n",
       "       [0.15515238+1.28260290e-17j, 1.08787975+5.07335180e-18j,\n",
       "        1.12344907+5.23923016e-18j, 0.92530968+4.31520262e-18j],\n",
       "       [0.15170424-1.13348122e-17j, 1.06561016+4.96949707e-18j,\n",
       "        1.11100511+5.18119745e-18j, 0.91877295+4.28471841e-18j],\n",
       "       [0.14833944+1.26737289e-17j, 1.04327418+4.86533272e-18j,\n",
       "        1.09827612+5.12183554e-18j, 0.91209873+4.25359306e-18j],\n",
       "       [0.14505607+6.76472271e-19j, 1.02090693-4.29247973e-17j,\n",
       "        1.08527218+5.06119134e-18j, 0.90528779+4.22183010e-18j],\n",
       "       [0.14185223+6.61531092e-19j, 0.99854276+4.65672675e-18j,\n",
       "        1.07200414+4.99931557e-18j, 0.8983411 +4.18943405e-18j],\n",
       "       [0.13872605+1.24470438e-17j, 0.9762151 +4.55260119e-18j,\n",
       "        1.05848369+4.93626262e-18j, 0.89125985+4.15641044e-18j],\n",
       "       [0.13567569-1.11065179e-17j, 0.95395627+4.44879663e-18j,\n",
       "        1.04472322+4.87209035e-18j, 0.88404543+4.12276584e-18j],\n",
       "       [0.13269933+6.18846307e-19j, 0.93179737+4.34545809e-18j,\n",
       "        1.03073583+4.80685986e-18j, 0.87669948+4.08850783e-18j],\n",
       "       [0.12979518+6.05302763e-19j, 0.90976814+4.24272428e-18j,\n",
       "        1.01653528+4.74063526e-18j, 0.86922385+4.05364506e-18j],\n",
       "       [0.1269615 +1.21482819e-17j, 0.88789687+4.14072713e-18j,\n",
       "        1.00213589+4.67348339e-18j, 0.86162062+4.01818724e-18j],\n",
       "       [0.12419656+5.79193468e-19j, 0.86621031-4.19406041e-17j,\n",
       "        0.98755253+4.60547358e-18j, 0.85389211+3.98214514e-18j],\n",
       "       [0.12149867+5.66611806e-19j, 0.8447336 +3.93943425e-18j,\n",
       "        0.97280054-4.11987609e-17j, 0.84604084-4.17899076e-17j],\n",
       "       [0.11886618+5.54335115e-19j, 0.82349021+3.84036522e-18j,\n",
       "        0.95789563+4.99577192e-17j, 0.8380696 +3.90835651e-18j],\n",
       "       [0.11629746+5.42355822e-19j, 0.80250192+3.74248583e-18j,\n",
       "        0.94285387+4.39702036e-18j, 0.82998135+3.87063681e-18j],\n",
       "       [0.11379092+5.30666511e-19j, 0.78178878+3.64588965e-18j,\n",
       "        0.92769159+4.32631073e-18j, 0.82177933+3.83238647e-18j],\n",
       "       [0.111345  -5.07518572e-18j, 0.76136914-1.88271204e-17j,\n",
       "        0.91242531+4.25511607e-18j, 0.81346695+3.79362150e-18j],\n",
       "       [0.10895818+5.08128948e-19j, 0.74125961+3.45688095e-18j,\n",
       "        0.89707166+4.18351399e-18j, 0.80504786+3.75435890e-18j],\n",
       "       [0.10662898+4.97266647e-19j, 0.72147513-1.87682543e-17j,\n",
       "        0.88164735+4.11158235e-18j, 0.79652592+3.71461664e-18j],\n",
       "       [0.10435593+4.86666225e-19j, 0.70202897-4.07470749e-17j,\n",
       "        0.86616904+4.03939893e-18j, 0.78790518+3.67441363e-18j],\n",
       "       [0.10213761+4.76321046e-19j, 0.68293277+2.50730908e-17j,\n",
       "        0.85065334+3.96704111e-18j, 0.77918989+3.63376969e-18j],\n",
       "       [0.09997263-4.97528547e-18j, 0.66419662-1.86685444e-17j,\n",
       "        0.83511669+3.89458558e-18j, 0.7703845 -3.99393752e-17j],\n",
       "       [0.09785964+4.56370640e-19j, 0.64582908+3.01183850e-18j,\n",
       "        0.81957532+3.82210805e-18j, 0.76149361+9.01271888e-17j],\n",
       "       [0.09579731+4.46752902e-19j, 0.62783726+2.92793324e-18j,\n",
       "        0.8040452 +3.74968295e-18j, 0.75252201+8.95977053e-17j]])"
      ]
     },
     "execution_count": 60,
     "metadata": {},
     "output_type": "execute_result"
    }
   ],
   "source": [
    "ideal_spect['best_spect']"
   ]
  },
  {
   "cell_type": "code",
   "execution_count": 61,
   "metadata": {},
   "outputs": [],
   "source": [
    "def param_relu(param, A, acceptable_range):\n",
    "    '''\n",
    "    Returns reLU that is 0 in acceptable range, and nonzero outside that range\n",
    "    acceptable_range = [lower bound, upper bound]\n",
    "    '''\n",
    "    return A * (np.maximum(acceptable_range[0] - param, 0) + np.maximum(param - acceptable_range[1], 0))"
   ]
  },
  {
   "cell_type": "code",
   "execution_count": 62,
   "metadata": {},
   "outputs": [],
   "source": [
    "params = np.array([2.48142314, 1.33481634, 2.41267252, 0.97223365, 1.03279865])"
   ]
  },
  {
   "cell_type": "code",
   "execution_count": 67,
   "metadata": {},
   "outputs": [
    {
     "data": {
      "text/plain": [
       "0.0"
      ]
     },
     "execution_count": 67,
     "metadata": {},
     "output_type": "execute_result"
    }
   ],
   "source": [
    "J_range = [0,3]\n",
    "\n",
    "param_relu(params[3], 10, J_range)"
   ]
  },
  {
   "cell_type": "code",
   "execution_count": null,
   "metadata": {},
   "outputs": [],
   "source": []
  }
 ],
 "metadata": {
  "kernelspec": {
   "display_name": "Python 3",
   "language": "python",
   "name": "python3"
  },
  "language_info": {
   "codemirror_mode": {
    "name": "ipython",
    "version": 3
   },
   "file_extension": ".py",
   "mimetype": "text/x-python",
   "name": "python",
   "nbconvert_exporter": "python",
   "pygments_lexer": "ipython3",
   "version": "3.7.4"
  }
 },
 "nbformat": 4,
 "nbformat_minor": 4
}
