{
 "cells": [
  {
   "cell_type": "code",
   "execution_count": 1,
   "metadata": {},
   "outputs": [],
   "source": [
    "import jax.numpy as np\n",
    "from jax import grad, jit, vmap\n",
    "from jax import random"
   ]
  },
  {
   "cell_type": "code",
   "execution_count": 2,
   "metadata": {},
   "outputs": [
    {
     "name": "stderr",
     "output_type": "stream",
     "text": [
      "/Users/cholt/Google Drive/Python/torch_SSN/jax/jax/lib/xla_bridge.py:109: UserWarning: No GPU/TPU found, falling back to CPU.\n",
      "  warnings.warn('No GPU/TPU found, falling back to CPU.')\n"
     ]
    },
    {
     "data": {
      "text/plain": [
       "DeviceArray([[ 1.70000005, -1.52499998],\n",
       "             [ 1.70000005, -0.5  ]], dtype=float32)"
      ]
     },
     "execution_count": 2,
     "metadata": {},
     "output_type": "execute_result"
    }
   ],
   "source": [
    "N = 2\n",
    "rcpt_types = 3\n",
    "t = np.arange(0,5000.1, 0.1)\n",
    "fs = np.arange(0, 101, 1)\n",
    "fs = fs/1000 #convert from Hz to kHz\n",
    "c = np.array([0, 25, 50, 100])\n",
    "cons = len(c)\n",
    "\n",
    "#[1.7 -1.525; 1.7 -0.5]\n",
    "Jee = 1.7\n",
    "Jei = 1.525\n",
    "Jie = 1.7\n",
    "Jii = 0.5 \n",
    "i2e = 0.6\n",
    "\n",
    "J0 = np.array([[Jee, -Jei], [Jie, -Jii]])\n",
    "J0"
   ]
  },
  {
   "cell_type": "code",
   "execution_count": 3,
   "metadata": {},
   "outputs": [
    {
     "name": "stdout",
     "output_type": "stream",
     "text": [
      "Det(W) = 1.742\n"
     ]
    }
   ],
   "source": [
    "W = J0\n",
    "print('Det(W) =', '%.3f' % np.linalg.det(W))\n",
    "\n",
    "#define nonlinearity parameters\n",
    "kk = 0.04\n",
    "nn = 2\n",
    "\n",
    "if rcpt_types > 1:\n",
    "    g = np.array([1, i2e, 0, 0, 0, 0])\n",
    "else:\n",
    "    g = np.array([1, i2e])\n",
    "\n",
    "tauE = 15\n",
    "tau_ratio = 1\n",
    "tauI = tauE/tau_ratio\n",
    "\n",
    "# tau = np.ones(N)\n",
    "# tau[:2:] = tauE\n",
    "# tau[1:2:] = tauI\n",
    "\n",
    "t_scale = 1\n",
    "tauNMDA = 100 * t_scale\n",
    "tauAMPA = 3 * t_scale\n",
    "tauGABA = 5 * t_scale\n",
    "nmdaRatio = 0.1 # sets the ratio of NMDA cells to AMPA cell \n",
    "\n",
    "NoiseNMDAratio = 0\n",
    "NoiseTau = 1 * t_scale\n",
    "\n",
    "\n",
    "totalT = t[-1]\n",
    "dt = np.mean(np.diff(t))\n",
    "dt2 = np.sqrt(dt)"
   ]
  },
  {
   "cell_type": "code",
   "execution_count": 4,
   "metadata": {},
   "outputs": [],
   "source": [
    "if rcpt_types > 1:\n",
    "    tauS = np.array([tauAMPA, tauNMDA, tauGABA])\n",
    "    tauSvec = np.kron(tauS, np.ones(N))\n",
    "    \n",
    "    Wtot = np.array([[(1-nmdaRatio)*Jee, 0, 0, 0, 0, 0], [(1-nmdaRatio)* Jie, 0, 0, 0, 0, 0], [0, 0, nmdaRatio * Jee, 0, 0, 0], [0, 0, nmdaRatio * Jie, 0, 0, 0], [0, 0, 0, 0, 0, -Jei], [0, 0, 0, 0, 0, -Jii]])\n",
    "    \n",
    "else:\n",
    "    tauSvec = tau\n",
    "    Wrcpt = W\n",
    "    Wtot = W\n",
    "    "
   ]
  },
  {
   "cell_type": "code",
   "execution_count": 46,
   "metadata": {},
   "outputs": [],
   "source": [
    "v1 = np.zeros([N*rcpt_types, cons])\n",
    "r_starcons = np.zeros([N, cons])\n",
    "\n",
    "vv_t = np.zeros([len(t), N*rcpt_types, cons])\n",
    "# v1 = np.zeros(N*rcpt_types)\n",
    "# r_t = np.zeros([len(t), N, cons])\n",
    "# tt_c = np.zeros([len(t), cons])"
   ]
  },
  {
   "cell_type": "code",
   "execution_count": 16,
   "metadata": {},
   "outputs": [],
   "source": [
    "def rect_powerLaw(vv, kk, nn):\n",
    "    fv = kk*np.maximum(np.array([np.sum(vv[::2,:], axis=0), np.sum(vv[1::2,:],axis=0)]), np.zeros([N, cons]))**nn\n",
    "    return fv\n",
    "\n",
    "def dvdt(vv):\n",
    "    delta_v = np.reshape(dt/tauSvec, [6,1]) * (-vv + Wtot @ np.kron(np.ones([rcpt_types,1]), rect_powerLaw(vv, kk ,nn)) + I_total)\n",
    "    return delta_v\n"
   ]
  },
  {
   "cell_type": "code",
   "execution_count": 17,
   "metadata": {},
   "outputs": [
    {
     "data": {
      "text/plain": [
       "DeviceArray([[  0.      ,  25.      ,  50.      , 100.      ],\n",
       "             [  0.      ,  15.00000095,  30.00000191,  60.00000381],\n",
       "             [  0.      ,   0.      ,   0.      ,   0.      ],\n",
       "             [  0.      ,   0.      ,   0.      ,   0.      ],\n",
       "             [  0.      ,   0.      ,   0.      ,   0.      ],\n",
       "             [  0.      ,   0.      ,   0.      ,   0.      ]],\n",
       "            dtype=float32)"
      ]
     },
     "execution_count": 17,
     "metadata": {},
     "output_type": "execute_result"
    }
   ],
   "source": [
    "I_total = np.kron( g.reshape(N*rcpt_types,1),  c.reshape(1,cons))\n",
    "# I_total = np.kron(c, g)\n",
    "# I_total = np.transpose(np.reshape(I_total, [4, 6]))\n",
    "I_total"
   ]
  },
  {
   "cell_type": "code",
   "execution_count": 47,
   "metadata": {},
   "outputs": [
    {
     "name": "stdout",
     "output_type": "stream",
     "text": [
      "60.1\n"
     ]
    }
   ],
   "source": [
    "Conv = True\n",
    "indt = 0\n",
    "xtol = 1e-3\n",
    "xmin = 1\n",
    "vv_t =[]\n",
    "\n",
    "for tt in t:\n",
    "\n",
    "    dv = dvdt(v1)\n",
    "    v1 = dv + v1\n",
    "    vv_t.append(v1)\n",
    "    indt += 1\n",
    "    \n",
    "    if np.abs( dv /np.maximum(xmin, np.abs(v1)) ).max() < xtol:\n",
    "            # print('\\n converged to fixed point at t=%g,      as max(abs(dx./max(xvec,%g))) < %g \\n' % (n*dt,xmin,xtol))\n",
    "            # CONVG = 1\n",
    "            print(tt)\n",
    "            break\n",
    "    \n",
    "    if tt >= totalT - 1000*dt:\n",
    "        itr = np.max(np.abs(dv))\n",
    "        \n",
    "        if itr > 0.01:\n",
    "            Conv = False"
   ]
  },
  {
   "cell_type": "code",
   "execution_count": 48,
   "metadata": {},
   "outputs": [
    {
     "name": "stdout",
     "output_type": "stream",
     "text": [
      "602\n",
      "(601,)\n",
      "60.1\n"
     ]
    },
    {
     "data": {
      "text/plain": [
       "[<matplotlib.lines.Line2D at 0x1284bf710>,\n",
       " <matplotlib.lines.Line2D at 0x1291ac610>,\n",
       " <matplotlib.lines.Line2D at 0x1291ac910>,\n",
       " <matplotlib.lines.Line2D at 0x1291acc10>,\n",
       " <matplotlib.lines.Line2D at 0x1291acd10>,\n",
       " <matplotlib.lines.Line2D at 0x1291acf10>]"
      ]
     },
     "execution_count": 48,
     "metadata": {},
     "output_type": "execute_result"
    },
    {
     "data": {
      "image/png": "[encoded data removed]",
      "text/plain": [
       "<Figure size 432x288 with 1 Axes>"
      ]
     },
     "metadata": {
      "needs_background": "light"
     },
     "output_type": "display_data"
    }
   ],
   "source": [
    "print(len(vv_t))\n",
    "print(np.arange(0,tt, dt).shape)\n",
    "print(tt)\n",
    "\n",
    "# import matplotlib.pyplot as plt\n",
    "\n",
    "plt.plot(np.arange(0,tt+dt, dt), np.array(vv_t)[:,:,4])"
   ]
  },
  {
   "cell_type": "code",
   "execution_count": 14,
   "metadata": {},
   "outputs": [
    {
     "data": {
      "text/plain": [
       "DeviceArray([[  0.       ,  36.47018433,  63.64902878, 111.50494385],\n",
       "             [  0.       ,  26.4701767,  43.64903259,  71.50494385],\n",
       "             [  0.       ,   1.27440214,   1.51650786,   1.27829814],\n",
       "             [  0.       ,   1.27440214,   1.51650786,   1.27829814],\n",
       "             [  0.       , -24.05441475, -50.23153305, -99.07230377],\n",
       "             [  0.       ,  -7.88669729, -16.46936035, -32.48272324]],\n",
       "            dtype=float32)"
      ]
     },
     "execution_count": 14,
     "metadata": {},
     "output_type": "execute_result"
    }
   ],
   "source": [
    "r_starcons = rect_powerLaw(v1, kk, nn)\n",
    "rs = nn*kk**(1/nn)*r_starcons**(1-1/nn)\n",
    "v1"
   ]
  },
  {
   "cell_type": "code",
   "execution_count": 30,
   "metadata": {},
   "outputs": [
    {
     "data": {
      "text/plain": [
       "(6, 6)"
      ]
     },
     "execution_count": 30,
     "metadata": {},
     "output_type": "execute_result"
    }
   ],
   "source": [
    "Gf = -1j * 2 * np.pi * ff * np.diag(np.kron(tauS, np.ones(N))) - J\n",
    "Gf.shape"
   ]
  },
  {
   "cell_type": "code",
   "execution_count": 12,
   "metadata": {},
   "outputs": [],
   "source": [
    "Phi = lambda rr: np.diag(rr)\n",
    "eE = np.array([[1], [0]])\n",
    "eE = np.kron(np.ones([rcpt_types,1]), eE)\n",
    "J = np.array([[Wtot @ np.kron(np.ones([rcpt_types, rcpt_types]), Phi(rs[:,cc])) -np.eye(N*rcpt_types)] for cc in range(cons)])\n",
    "Gf = np.array([-1j * 2 * np.pi * ff * np.diag(np.kron(tauS, np.ones(N))) - J[cc,1] for cc in range(cons) for ff in fs])\n",
    "\n",
    "cuE = np.array([eE for cc in range(cons) for ff in fs])\n",
    "fscons = np.kron(np.ones([1, cons]), fs)"
   ]
  },
  {
   "cell_type": "code",
   "execution_count": 13,
   "metadata": {},
   "outputs": [],
   "source": [
    "# iGf = np.linalg.inv(Gf)\n",
    "\n",
    "# x = np.einsum(\"ijk, ikm-> ijm\", iGf, cuE)\n",
    "# x = np.matmul(iGf, cuE)\n",
    "x = np.linalg.solve(Gf, cuE)\n",
    "\n",
    "y = (1-NoiseNMDAratio) * x[:, :N] + NoiseNMDAratio * x[:, N:(N+N)]\n",
    "y_conj = np.transpose(np.conj(y), [0, 2, 1])\n",
    "\n",
    "# spect = np.einsum('ijk, imk -> ijm', y_conj, y)\n",
    "tapercons = 2 * NoiseTau/np.abs(-1j * 2 * np.pi * fscons * NoiseTau + 1)**2\n",
    "\n",
    "spect = np.squeeze(np.matmul(y_conj, y)) * np.squeeze(tapercons)\n",
    "\n",
    "spect = np.reshape(spect*2/1000, [len(fs), cons], order='F')\n",
    "spect = spect/np.mean(spect)\n"
   ]
  },
  {
   "cell_type": "code",
   "execution_count": 283,
   "metadata": {},
   "outputs": [
    {
     "data": {
      "text/plain": [
       "(404, 2, 1)"
      ]
     },
     "execution_count": 283,
     "metadata": {},
     "output_type": "execute_result"
    }
   ],
   "source": [
    "x[:, N:2*N].shape"
   ]
  },
  {
   "cell_type": "code",
   "execution_count": 14,
   "metadata": {},
   "outputs": [],
   "source": [
    "import matplotlib.pyplot as plt"
   ]
  },
  {
   "cell_type": "code",
   "execution_count": 15,
   "metadata": {},
   "outputs": [
    {
     "data": {
      "text/plain": [
       "[<matplotlib.lines.Line2D at 0x203bd0050>,\n",
       " <matplotlib.lines.Line2D at 0x2059fb8d0>,\n",
       " <matplotlib.lines.Line2D at 0x2059fbc10>,\n",
       " <matplotlib.lines.Line2D at 0x2059fbed0>]"
      ]
     },
     "execution_count": 15,
     "metadata": {},
     "output_type": "execute_result"
    },
    {
     "data": {
      "image/png": "[encoded data removed]",
      "text/plain": [
       "<Figure size 432x288 with 1 Axes>"
      ]
     },
     "metadata": {
      "needs_background": "light"
     },
     "output_type": "display_data"
    }
   ],
   "source": [
    "plt.plot(fs*1000, np.real(spect))"
   ]
  },
  {
   "cell_type": "code",
   "execution_count": 257,
   "metadata": {},
   "outputs": [
    {
     "data": {
      "text/plain": [
       "(1, 404)"
      ]
     },
     "execution_count": 257,
     "metadata": {},
     "output_type": "execute_result"
    }
   ],
   "source": [
    "tapercons.shape"
   ]
  },
  {
   "cell_type": "code",
   "execution_count": 206,
   "metadata": {},
   "outputs": [
    {
     "data": {
      "text/plain": [
       "DeviceArray([[ 6,  6,  6],\n",
       "             [15, 15, 15],\n",
       "             [24, 24, 24]], dtype=int32)"
      ]
     },
     "execution_count": 206,
     "metadata": {},
     "output_type": "execute_result"
    }
   ],
   "source": [
    "A = np.array([[1, 2, 3], [4, 5, 6], [7, 8, 9]])\n",
    "B = np.ones_like(A)\n",
    "C = np.einsum(\"ij, jl -> il\", A, B)\n",
    "C"
   ]
  },
  {
   "cell_type": "code",
   "execution_count": 237,
   "metadata": {},
   "outputs": [
    {
     "data": {
      "text/plain": [
       "DeviceArray([[[-2.00000024,  1.00000012],\n",
       "              [ 1.50000012, -0.50000006]],\n",
       "\n",
       "             [[-1.25000012,  0.75000006],\n",
       "              [ 0.75000006, -0.25000003]]], dtype=float32)"
      ]
     },
     "execution_count": 237,
     "metadata": {},
     "output_type": "execute_result"
    }
   ],
   "source": [
    "a = np.array([[[1., 2.], [3., 4.]], [[1, 3], [3, 5]]])\n",
    "inv_a = np.linalg.inv(a)\n",
    "inv_a"
   ]
  },
  {
   "cell_type": "code",
   "execution_count": 297,
   "metadata": {},
   "outputs": [],
   "source": [
    "def sum_logistic(x):\n",
    "    return np.sum(1.0 / (1.0 + np.exp(-x)))\n"
   ]
  },
  {
   "cell_type": "code",
   "execution_count": 302,
   "metadata": {},
   "outputs": [
    {
     "name": "stdout",
     "output_type": "stream",
     "text": [
      "[0.25       0.19661197 0.10499357]\n"
     ]
    },
    {
     "data": {
      "text/plain": [
       "DeviceArray(2.1118555, dtype=float32)"
      ]
     },
     "execution_count": 302,
     "metadata": {},
     "output_type": "execute_result"
    }
   ],
   "source": [
    "x_small = np.arange(3.)\n",
    "derivative_fn = grad(sum_logistic)\n",
    "print(derivative_fn(x_small))\n",
    "\n",
    "sum_logistic(x_small)"
   ]
  },
  {
   "cell_type": "code",
   "execution_count": 303,
   "metadata": {},
   "outputs": [
    {
     "name": "stdout",
     "output_type": "stream",
     "text": [
      "[0.24998187 0.1964569  0.10502338]\n"
     ]
    }
   ],
   "source": [
    "def first_finite_differences(f, x):\n",
    "  eps = 1e-3\n",
    "  return np.array([(f(x + eps * v) - f(x - eps * v)) / (2 * eps)\n",
    "                   for v in np.eye(len(x))])\n",
    "\n",
    "\n",
    "print(first_finite_differences(sum_logistic, x_small))"
   ]
  },
  {
   "cell_type": "code",
   "execution_count": 271,
   "metadata": {},
   "outputs": [
    {
     "data": {
      "text/plain": [
       "DeviceArray([[ 2.02596545+0.00523263j, -1.38562214-0.00588392j,\n",
       "               0.75048965+0.43859053j, -1.00262594-0.60973394j,\n",
       "               1.02608693-0.00072046j, -1.38500178-0.02327667j],\n",
       "             [ 1.02632082-0.01361023j, -0.38597748+0.01295893j,\n",
       "               0.75048971+0.43859062j, -1.00262606-0.609734j  ,\n",
       "               1.02608693-0.00072046j, -1.3850019 -0.02327668j],\n",
       "             [ 0.08338774+0.04873229j, -0.11140289-0.06774823j,\n",
       "               0.75615603+0.52226734j, -0.05121355-0.09782675j,\n",
       "               0.08274308+0.04975992j, -0.11050843-0.06912006j],\n",
       "             [ 0.08338774+0.04873229j, -0.11140289-0.06774823j,\n",
       "               0.03919928+0.0717901j ,  0.66574323+0.35265046j,\n",
       "               0.08274307+0.04975992j, -0.11050843-0.06912005j],\n",
       "             [-1.49702525-0.07363215j,  0.67005605+0.08570754j,\n",
       "              -1.05383956-0.70756078j,  0.4486399 +0.35496598j,\n",
       "              -0.49649641-0.06101178j,  0.66871572+0.0940856j ],\n",
       "             [-0.49082792-0.02414169j,  0.2196905 +0.02810083j,\n",
       "              -0.34552115-0.23198715j,  0.14709502+0.11638229j,\n",
       "              -0.49033129-0.03029401j,  1.21826506+0.06223269j]],\n",
       "            dtype=complex64)"
      ]
     },
     "execution_count": 271,
     "metadata": {},
     "output_type": "execute_result"
    }
   ],
   "source": [
    "np.linalg.inv(Gf[102])"
   ]
  },
  {
   "cell_type": "code",
   "execution_count": 270,
   "metadata": {},
   "outputs": [
    {
     "data": {
      "text/plain": [
       "DeviceArray([[-0.67567706-0.01884956j,  0.        +0.j        ,\n",
       "              -1.67567706+0.j        ,  0.        +0.j        ,\n",
       "              -1.67567706+0.j        ,  0.        +0.j        ],\n",
       "             [-1.67567706+0.j        ,  1.        -0.01884956j,\n",
       "              -1.67567706+0.j        ,  0.        +0.j        ,\n",
       "              -1.67567706+0.j        ,  0.        +0.j        ],\n",
       "             [-0.18618634+0.j        ,  0.        +0.j        ,\n",
       "               0.81381369-0.62831855j,  0.        +0.j        ,\n",
       "              -0.18618634+0.j        ,  0.        +0.j        ],\n",
       "             [-0.18618634+0.j        ,  0.        +0.j        ,\n",
       "              -0.18618634+0.j        ,  1.        -0.62831855j,\n",
       "              -0.18618634+0.j        ,  0.        +0.j        ],\n",
       "             [ 0.        +0.j        ,  2.42266154+0.j        ,\n",
       "               0.        +0.j        ,  2.42266154+0.j        ,\n",
       "               1.        -0.03141593j,  2.42266154+0.j        ],\n",
       "             [ 0.        +0.j        ,  0.79431528+0.j        ,\n",
       "               0.        +0.j        ,  0.79431528+0.j        ,\n",
       "               0.        +0.j        ,  1.79431534-0.03141593j]],\n",
       "            dtype=complex64)"
      ]
     },
     "execution_count": 270,
     "metadata": {},
     "output_type": "execute_result"
    }
   ],
   "source": [
    "Gf[102]"
   ]
  },
  {
   "cell_type": "code",
   "execution_count": 1,
   "metadata": {},
   "outputs": [],
   "source": [
    "import jax.numpy as np\n",
    "from jax import grad, jit, vmap\n",
    "from jax import random\n",
    "\n",
    "from rates_2D import loss "
   ]
  },
  {
   "cell_type": "code",
   "execution_count": 2,
   "metadata": {},
   "outputs": [
    {
     "name": "stderr",
     "output_type": "stream",
     "text": [
      "/Users/cholt/Google Drive/Python/torch_SSN/jax/jax/lib/xla_bridge.py:109: UserWarning: No GPU/TPU found, falling back to CPU.\n",
      "  warnings.warn('No GPU/TPU found, falling back to CPU.')\n"
     ]
    },
    {
     "name": "stdout",
     "output_type": "stream",
     "text": [
      "91.5\n"
     ]
    },
    {
     "name": "stderr",
     "output_type": "stream",
     "text": [
      "/Users/cholt/Google Drive/Python/torch_SSN/jax/jax/lax/lax.py:328: ComplexWarning: Casting complex values to real discards the imaginary part\n",
      "  warnings.warn(msg, onp.ComplexWarning)\n"
     ]
    },
    {
     "name": "stdout",
     "output_type": "stream",
     "text": [
      "[DeviceArray(0., dtype=float32), DeviceArray(-0., dtype=float32), DeviceArray(0., dtype=float32), DeviceArray(-0., dtype=float32), DeviceArray(0., dtype=float32)]\n"
     ]
    }
   ],
   "source": [
    "Jee = 1.8\n",
    "Jei = 1.525\n",
    "Jie = 1.7\n",
    "Jii = 0.5 \n",
    "i2e = 0.6\n",
    "\n",
    "derivative_loss = grad(loss, argnums=(0,1,2,3,4))\n",
    "\n",
    "dJee, dJei, dJie, dJii, di2e = derivative_loss(Jee, Jei, Jie, Jii, i2e)\n",
    "print([dJee, dJei, dJie, dJii, di2e])"
   ]
  },
  {
   "cell_type": "code",
   "execution_count": 6,
   "metadata": {},
   "outputs": [
    {
     "ename": "IndexError",
     "evalue": "Too many indices for array: 1 non-None/Ellipsis indices for dim 0.",
     "output_type": "error",
     "traceback": [
      "\u001b[0;31m---------------------------------------------------------------------------\u001b[0m",
      "\u001b[0;31mIndexError\u001b[0m                                Traceback (most recent call last)",
      "\u001b[0;32m<ipython-input-6-4cfb1996d931>\u001b[0m in \u001b[0;36m<module>\u001b[0;34m\u001b[0m\n\u001b[0;32m----> 1\u001b[0;31m \u001b[0mdJei\u001b[0m\u001b[0;34m[\u001b[0m\u001b[0;36m0\u001b[0m\u001b[0;34m]\u001b[0m\u001b[0;34m\u001b[0m\u001b[0;34m\u001b[0m\u001b[0m\n\u001b[0m",
      "\u001b[0;32m~/Google Drive/Python/torch_SSN/jax/jax/numpy/lax_numpy.py\u001b[0m in \u001b[0;36m_rewriting_take\u001b[0;34m(arr, idx)\u001b[0m\n\u001b[1;32m   2313\u001b[0m   \u001b[0;31m# followed by an optional reverse and a reshape.\u001b[0m\u001b[0;34m\u001b[0m\u001b[0;34m\u001b[0m\u001b[0;34m\u001b[0m\u001b[0m\n\u001b[1;32m   2314\u001b[0m   \u001b[0marr\u001b[0m \u001b[0;34m=\u001b[0m \u001b[0masarray\u001b[0m\u001b[0;34m(\u001b[0m\u001b[0marr\u001b[0m\u001b[0;34m)\u001b[0m\u001b[0;34m\u001b[0m\u001b[0;34m\u001b[0m\u001b[0m\n\u001b[0;32m-> 2315\u001b[0;31m   \u001b[0mindexer\u001b[0m \u001b[0;34m=\u001b[0m \u001b[0m_index_to_gather\u001b[0m\u001b[0;34m(\u001b[0m\u001b[0mshape\u001b[0m\u001b[0;34m(\u001b[0m\u001b[0marr\u001b[0m\u001b[0;34m)\u001b[0m\u001b[0;34m,\u001b[0m \u001b[0midx\u001b[0m\u001b[0;34m)\u001b[0m  \u001b[0;31m# shared with _scatter_update\u001b[0m\u001b[0;34m\u001b[0m\u001b[0;34m\u001b[0m\u001b[0m\n\u001b[0m\u001b[1;32m   2316\u001b[0m \u001b[0;34m\u001b[0m\u001b[0m\n\u001b[1;32m   2317\u001b[0m   y = lax.gather(arr, indexer.gather_indices, indexer.dnums,\n",
      "\u001b[0;32m~/Google Drive/Python/torch_SSN/jax/jax/numpy/lax_numpy.py\u001b[0m in \u001b[0;36m_index_to_gather\u001b[0;34m(x_shape, idx)\u001b[0m\n\u001b[1;32m   2357\u001b[0m \u001b[0;34m\u001b[0m\u001b[0m\n\u001b[1;32m   2358\u001b[0m   \u001b[0;31m# Remove ellipses and add trailing slice(None)s.\u001b[0m\u001b[0;34m\u001b[0m\u001b[0;34m\u001b[0m\u001b[0;34m\u001b[0m\u001b[0m\n\u001b[0;32m-> 2359\u001b[0;31m   \u001b[0midx\u001b[0m \u001b[0;34m=\u001b[0m \u001b[0m_canonicalize_tuple_index\u001b[0m\u001b[0;34m(\u001b[0m\u001b[0mlen\u001b[0m\u001b[0;34m(\u001b[0m\u001b[0mx_shape\u001b[0m\u001b[0;34m)\u001b[0m\u001b[0;34m,\u001b[0m \u001b[0midx\u001b[0m\u001b[0;34m)\u001b[0m\u001b[0;34m\u001b[0m\u001b[0;34m\u001b[0m\u001b[0m\n\u001b[0m\u001b[1;32m   2360\u001b[0m \u001b[0;34m\u001b[0m\u001b[0m\n\u001b[1;32m   2361\u001b[0m   \u001b[0;31m# Check for advanced indexing:\u001b[0m\u001b[0;34m\u001b[0m\u001b[0;34m\u001b[0m\u001b[0;34m\u001b[0m\u001b[0m\n",
      "\u001b[0;32m~/Google Drive/Python/torch_SSN/jax/jax/numpy/lax_numpy.py\u001b[0m in \u001b[0;36m_canonicalize_tuple_index\u001b[0;34m(arr_ndim, idx)\u001b[0m\n\u001b[1;32m   2603\u001b[0m   \u001b[0;32mif\u001b[0m \u001b[0mlen_without_none\u001b[0m \u001b[0;34m>\u001b[0m \u001b[0marr_ndim\u001b[0m\u001b[0;34m:\u001b[0m\u001b[0;34m\u001b[0m\u001b[0;34m\u001b[0m\u001b[0m\n\u001b[1;32m   2604\u001b[0m     \u001b[0mmsg\u001b[0m \u001b[0;34m=\u001b[0m \u001b[0;34m\"Too many indices for array: {} non-None/Ellipsis indices for dim {}.\"\u001b[0m\u001b[0;34m\u001b[0m\u001b[0;34m\u001b[0m\u001b[0m\n\u001b[0;32m-> 2605\u001b[0;31m     \u001b[0;32mraise\u001b[0m \u001b[0mIndexError\u001b[0m\u001b[0;34m(\u001b[0m\u001b[0mmsg\u001b[0m\u001b[0;34m.\u001b[0m\u001b[0mformat\u001b[0m\u001b[0;34m(\u001b[0m\u001b[0mlen_without_none\u001b[0m\u001b[0;34m,\u001b[0m \u001b[0marr_ndim\u001b[0m\u001b[0;34m)\u001b[0m\u001b[0;34m)\u001b[0m\u001b[0;34m\u001b[0m\u001b[0;34m\u001b[0m\u001b[0m\n\u001b[0m\u001b[1;32m   2606\u001b[0m   \u001b[0mellipses\u001b[0m \u001b[0;34m=\u001b[0m \u001b[0;34m(\u001b[0m\u001b[0mi\u001b[0m \u001b[0;32mfor\u001b[0m \u001b[0mi\u001b[0m\u001b[0;34m,\u001b[0m \u001b[0melt\u001b[0m \u001b[0;32min\u001b[0m \u001b[0menumerate\u001b[0m\u001b[0;34m(\u001b[0m\u001b[0midx\u001b[0m\u001b[0;34m)\u001b[0m \u001b[0;32mif\u001b[0m \u001b[0melt\u001b[0m \u001b[0;32mis\u001b[0m \u001b[0mEllipsis\u001b[0m\u001b[0;34m)\u001b[0m\u001b[0;34m\u001b[0m\u001b[0;34m\u001b[0m\u001b[0m\n\u001b[1;32m   2607\u001b[0m   \u001b[0mellipsis_index\u001b[0m \u001b[0;34m=\u001b[0m \u001b[0mnext\u001b[0m\u001b[0;34m(\u001b[0m\u001b[0mellipses\u001b[0m\u001b[0;34m,\u001b[0m \u001b[0;32mNone\u001b[0m\u001b[0;34m)\u001b[0m\u001b[0;34m\u001b[0m\u001b[0;34m\u001b[0m\u001b[0m\n",
      "\u001b[0;31mIndexError\u001b[0m: Too many indices for array: 1 non-None/Ellipsis indices for dim 0."
     ]
    }
   ],
   "source": []
  },
  {
   "cell_type": "code",
   "execution_count": 32,
   "metadata": {},
   "outputs": [
    {
     "ename": "TypeError",
     "evalue": "'<class 'jax.lax.lax._FilledConstant'>' object does not support item assignment. JAX arrays are immutable; perhaps you want jax.ops.index_update or jax.ops.index_add instead?",
     "output_type": "error",
     "traceback": [
      "\u001b[0;31m---------------------------------------------------------------------------\u001b[0m",
      "\u001b[0;31mTypeError\u001b[0m                                 Traceback (most recent call last)",
      "\u001b[0;32m<ipython-input-32-9ca0f143ee71>\u001b[0m in \u001b[0;36m<module>\u001b[0;34m\u001b[0m\n\u001b[1;32m     16\u001b[0m         \u001b[0my_conj\u001b[0m \u001b[0;34m=\u001b[0m \u001b[0mnp\u001b[0m\u001b[0;34m.\u001b[0m\u001b[0mtranspose\u001b[0m\u001b[0;34m(\u001b[0m\u001b[0mnp\u001b[0m\u001b[0;34m.\u001b[0m\u001b[0mconj\u001b[0m\u001b[0;34m(\u001b[0m\u001b[0my\u001b[0m\u001b[0;34m)\u001b[0m\u001b[0;34m)\u001b[0m\u001b[0;34m\u001b[0m\u001b[0;34m\u001b[0m\u001b[0m\n\u001b[1;32m     17\u001b[0m \u001b[0;34m\u001b[0m\u001b[0m\n\u001b[0;32m---> 18\u001b[0;31m         \u001b[0mspect\u001b[0m\u001b[0;34m[\u001b[0m\u001b[0mcc\u001b[0m\u001b[0;34m,\u001b[0m \u001b[0mindf\u001b[0m\u001b[0;34m]\u001b[0m \u001b[0;34m=\u001b[0m \u001b[0;34m(\u001b[0m\u001b[0my_conj\u001b[0m \u001b[0;34m@\u001b[0m \u001b[0my\u001b[0m\u001b[0;34m)\u001b[0m \u001b[0;34m*\u001b[0m \u001b[0;36m2\u001b[0m \u001b[0;34m*\u001b[0m \u001b[0mNoiseTau\u001b[0m\u001b[0;34m/\u001b[0m\u001b[0mnp\u001b[0m\u001b[0;34m.\u001b[0m\u001b[0mabs\u001b[0m\u001b[0;34m(\u001b[0m\u001b[0;34m-\u001b[0m\u001b[0;36m1j\u001b[0m \u001b[0;34m*\u001b[0m \u001b[0;36m2\u001b[0m \u001b[0;34m*\u001b[0m \u001b[0mnp\u001b[0m\u001b[0;34m.\u001b[0m\u001b[0mpi\u001b[0m \u001b[0;34m*\u001b[0m \u001b[0mff\u001b[0m \u001b[0;34m*\u001b[0m \u001b[0mNoiseTau\u001b[0m \u001b[0;34m+\u001b[0m \u001b[0;36m1\u001b[0m\u001b[0;34m)\u001b[0m\u001b[0;34m**\u001b[0m\u001b[0;36m2\u001b[0m\u001b[0;34m\u001b[0m\u001b[0;34m\u001b[0m\u001b[0m\n\u001b[0m\u001b[1;32m     19\u001b[0m \u001b[0;34m\u001b[0m\u001b[0m\n\u001b[1;32m     20\u001b[0m         \u001b[0mindf\u001b[0m \u001b[0;34m+=\u001b[0m \u001b[0;36m1\u001b[0m\u001b[0;34m\u001b[0m\u001b[0;34m\u001b[0m\u001b[0m\n",
      "\u001b[0;32m~/miniconda3/envs/juC/lib/python3.7/site-packages/jax/numpy/lax_numpy.py\u001b[0m in \u001b[0;36m_unimplemented_setitem\u001b[0;34m(self, i, x)\u001b[0m\n\u001b[1;32m   2768\u001b[0m          \u001b[0;34m\"immutable; perhaps you want jax.ops.index_update or \"\u001b[0m\u001b[0;34m\u001b[0m\u001b[0;34m\u001b[0m\u001b[0m\n\u001b[1;32m   2769\u001b[0m          \"jax.ops.index_add instead?\")\n\u001b[0;32m-> 2770\u001b[0;31m   \u001b[0;32mraise\u001b[0m \u001b[0mTypeError\u001b[0m\u001b[0;34m(\u001b[0m\u001b[0mmsg\u001b[0m\u001b[0;34m.\u001b[0m\u001b[0mformat\u001b[0m\u001b[0;34m(\u001b[0m\u001b[0mtype\u001b[0m\u001b[0;34m(\u001b[0m\u001b[0mself\u001b[0m\u001b[0;34m)\u001b[0m\u001b[0;34m)\u001b[0m\u001b[0;34m)\u001b[0m\u001b[0;34m\u001b[0m\u001b[0;34m\u001b[0m\u001b[0m\n\u001b[0m\u001b[1;32m   2771\u001b[0m \u001b[0;34m\u001b[0m\u001b[0m\n\u001b[1;32m   2772\u001b[0m _operators = {\n",
      "\u001b[0;31mTypeError\u001b[0m: '<class 'jax.lax.lax._FilledConstant'>' object does not support item assignment. JAX arrays are immutable; perhaps you want jax.ops.index_update or jax.ops.index_add instead?"
     ]
    }
   ],
   "source": [
    "Phi = lambda rr: np.diag(rr)\n",
    "eE = np.array([[1], [0]])\n",
    "eE = np.kron(np.ones([rcpt_types,1]), eE)\n",
    "\n",
    "spect = np.zeros([cons, len(fs)])\n",
    "\n",
    "for cc in np.arange(cons):\n",
    "    indf = 0\n",
    "    J = Wtot @ np.kron(np.ones([rcpt_types, rcpt_types]), Phi(rs[:,cc])) -np.eye(N*rcpt_types)\n",
    "    \n",
    "    for ff in fs:\n",
    "        Gf = -1j * 2 * np.pi * ff * np.diag(np.kron(tauS, np.ones(N))) - J\n",
    "        x = np.linalg.solve(Gf, eE)\n",
    "        \n",
    "        y = (1-NoiseNMDAratio) * x[:, :N] + NoiseNMDAratio * x[:, N:(N+N)]\n",
    "        y_conj = np.transpose(np.conj(y))\n",
    "        \n",
    "        spect[cc, indf] = (y_conj @ y) * 2 * NoiseTau/np.abs(-1j * 2 * np.pi * ff * NoiseTau + 1)**2\n",
    "        \n",
    "        indf += 1\n"
   ]
  }
 ],
 "metadata": {
  "kernelspec": {
   "display_name": "Python 3",
   "language": "python",
   "name": "python3"
  },
  "language_info": {
   "codemirror_mode": {
    "name": "ipython",
    "version": 3
   },
   "file_extension": ".py",
   "mimetype": "text/x-python",
   "name": "python",
   "nbconvert_exporter": "python",
   "pygments_lexer": "ipython3",
   "version": "3.7.4"
  }
 },
 "nbformat": 4,
 "nbformat_minor": 4
}
