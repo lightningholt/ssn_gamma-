{
 "cells": [
  {
   "cell_type": "code",
   "execution_count": 1,
   "metadata": {},
   "outputs": [],
   "source": [
    "import jax.numpy as np\n",
    "from jax import grad, jit, vmap\n",
    "from jax import random"
   ]
  },
  {
   "cell_type": "code",
   "execution_count": 2,
   "metadata": {},
   "outputs": [
    {
     "name": "stderr",
     "output_type": "stream",
     "text": [
      "/Users/cholt/miniconda3/envs/juC/lib/python3.7/site-packages/jax/lib/xla_bridge.py:114: UserWarning: No GPU/TPU found, falling back to CPU.\n",
      "  warnings.warn('No GPU/TPU found, falling back to CPU.')\n"
     ]
    },
    {
     "data": {
      "text/plain": [
       "DeviceArray([[ 1.70000005, -1.52499998],\n",
       "             [ 1.70000005, -0.5  ]], dtype=float32)"
      ]
     },
     "execution_count": 2,
     "metadata": {},
     "output_type": "execute_result"
    }
   ],
   "source": [
    "N = 2\n",
    "rcpt_types = 3\n",
    "t = np.arange(0,5000.1, 0.1)\n",
    "fs = np.arange(0, 101, 1)\n",
    "fs = fs/1000 #convert from Hz to kHz\n",
    "c = np.array([0, 25, 50, 100])\n",
    "cons = len(c)\n",
    "\n",
    "#[1.7 -1.525; 1.7 -0.5]\n",
    "Jee = 1.7\n",
    "Jei = 1.525\n",
    "Jie = 1.7\n",
    "Jii = 0.5 \n",
    "i2e = 0.6\n",
    "\n",
    "J0 = np.array([[Jee, -Jei], [Jie, -Jii]])\n",
    "J0"
   ]
  },
  {
   "cell_type": "code",
   "execution_count": 3,
   "metadata": {},
   "outputs": [
    {
     "name": "stdout",
     "output_type": "stream",
     "text": [
      "Det(W) = 1.742\n"
     ]
    }
   ],
   "source": [
    "W = J0\n",
    "print('Det(W) =', '%.3f' % np.linalg.det(W))\n",
    "\n",
    "#define nonlinearity parameters\n",
    "kk = 0.04\n",
    "nn = 2\n",
    "\n",
    "if rcpt_types > 1:\n",
    "    g = np.array([1, i2e, 0, 0, 0, 0])\n",
    "else:\n",
    "    g = np.array([1, i2e])\n",
    "\n",
    "tauE = 15\n",
    "tau_ratio = 1\n",
    "tauI = tauE/tau_ratio\n",
    "\n",
    "# tau = np.ones(N)\n",
    "# tau[:2:] = tauE\n",
    "# tau[1:2:] = tauI\n",
    "\n",
    "t_scale = 1\n",
    "tauNMDA = 100 * t_scale\n",
    "tauAMPA = 3 * t_scale\n",
    "tauGABA = 5 * t_scale\n",
    "nmdaRatio = 0.1 # sets the ratio of NMDA cells to AMPA cell \n",
    "\n",
    "NoiseNMDAratio = 0\n",
    "NoiseTau = 1 * t_scale\n",
    "\n",
    "\n",
    "totalT = t[-1]\n",
    "dt = np.mean(np.diff(t))\n",
    "dt2 = np.sqrt(dt)"
   ]
  },
  {
   "cell_type": "code",
   "execution_count": 4,
   "metadata": {},
   "outputs": [],
   "source": [
    "if rcpt_types > 1:\n",
    "    tauS = np.array([tauAMPA, tauNMDA, tauGABA])\n",
    "    tauSvec = np.kron(tauS, np.ones(N))\n",
    "    \n",
    "    Wtot = np.array([[(1-nmdaRatio)*Jee, 0, 0, 0, 0, 0], [(1-nmdaRatio)* Jie, 0, 0, 0, 0, 0], [0, 0, nmdaRatio * Jee, 0, 0, 0], [0, 0, nmdaRatio * Jie, 0, 0, 0], [0, 0, 0, 0, 0, -Jei], [0, 0, 0, 0, 0, -Jii]])\n",
    "    \n",
    "else:\n",
    "    tauSvec = tau\n",
    "    Wrcpt = W\n",
    "    Wtot = W\n",
    "    "
   ]
  },
  {
   "cell_type": "code",
   "execution_count": 5,
   "metadata": {},
   "outputs": [],
   "source": [
    "v1 = np.zeros([N*rcpt_types, cons])\n",
    "r_starcons = np.zeros([N, cons])\n",
    "\n",
    "# vv_t = np.zeros([len(t), N*rcpt_types, cons])\n",
    "# v1 = np.zeros(N*rcpt_types)\n",
    "# r_t = np.zeros([len(t), N, cons])\n",
    "# tt_c = np.zeros([len(t), cons])"
   ]
  },
  {
   "cell_type": "code",
   "execution_count": 6,
   "metadata": {},
   "outputs": [],
   "source": [
    "def rect_powerLaw(vv, kk, nn):\n",
    "    fv = kk*np.maximum(np.array([np.sum(vv[::2,:], axis=0), np.sum(vv[1::2,:],axis=0)]), np.zeros([N, cons]))**nn\n",
    "    return fv\n",
    "\n",
    "def dvdt(vv):\n",
    "    delta_v = np.reshape(dt/tauSvec, [6,1]) * (-vv + Wtot @ np.kron(np.ones([rcpt_types,1]), rect_powerLaw(vv, kk ,nn)) + I_total)\n",
    "    return delta_v\n"
   ]
  },
  {
   "cell_type": "code",
   "execution_count": 7,
   "metadata": {},
   "outputs": [
    {
     "data": {
      "text/plain": [
       "DeviceArray([[  0.      ,  25.      ,  50.      , 100.      ],\n",
       "             [  0.      ,  15.00000095,  30.00000191,  60.00000381],\n",
       "             [  0.      ,   0.      ,   0.      ,   0.      ],\n",
       "             [  0.      ,   0.      ,   0.      ,   0.      ],\n",
       "             [  0.      ,   0.      ,   0.      ,   0.      ],\n",
       "             [  0.      ,   0.      ,   0.      ,   0.      ]],\n",
       "            dtype=float32)"
      ]
     },
     "execution_count": 7,
     "metadata": {},
     "output_type": "execute_result"
    }
   ],
   "source": [
    "I_total = np.kron( g.reshape(N*rcpt_types,1),  c.reshape(1,cons))\n",
    "# I_total = np.kron(c, g)\n",
    "# I_total = np.transpose(np.reshape(I_total, [4, 6]))\n",
    "I_total"
   ]
  },
  {
   "cell_type": "code",
   "execution_count": 10,
   "metadata": {},
   "outputs": [],
   "source": [
    "Conv = True\n",
    "indt = 0\n",
    "\n",
    "for tt in t:\n",
    "\n",
    "    dv = dvdt(v1)\n",
    "    v1 = dv + v1\n",
    "#     vv_t[:,:, tt] = v1\n",
    "    indt += 1\n",
    "    \n",
    "    if tt >= totalT - 1000*dt:\n",
    "        itr = np.max(np.abs(dv))\n",
    "        \n",
    "        if itr > 0.01:\n",
    "            Conv = False"
   ]
  },
  {
   "cell_type": "code",
   "execution_count": 22,
   "metadata": {},
   "outputs": [
    {
     "data": {
      "text/plain": [
       "DeviceArray([[  0.       ,  36.47018433,  63.64903641, 111.50494385],\n",
       "             [  0.       ,  26.4701767,  43.64904022,  71.50494385],\n",
       "             [  0.       ,   1.27440214,   1.51650786,   1.27829814],\n",
       "             [  0.       ,   1.27440214,   1.51650786,   1.27829814],\n",
       "             [  0.       , -24.05441475, -50.23154068, -99.07228851],\n",
       "             [  0.       ,  -7.88669729, -16.46936417, -32.48272324]],\n",
       "            dtype=float32)"
      ]
     },
     "execution_count": 22,
     "metadata": {},
     "output_type": "execute_result"
    }
   ],
   "source": [
    "r_starcons = rect_powerLaw(v1, kk, nn)\n",
    "rs = nn*kk**(1/nn)*r_starcons**(1-1/nn)\n",
    "v1"
   ]
  },
  {
   "cell_type": "code",
   "execution_count": 123,
   "metadata": {},
   "outputs": [],
   "source": [
    "Phi = lambda rr: np.diag(rr)\n",
    "eE = np.array([[1], [0]])\n",
    "eE = np.kron(np.ones([rcpt_types,1]), eE)\n",
    "J = np.array([[Wtot @ np.kron(np.ones([rcpt_types, rcpt_types]), Phi(rs[:,cc])) -np.eye(N*rcpt_types)] for cc in range(cons)])\n",
    "Gf = np.array([-1j * 2 * np.pi * ff * np.diag(np.kron(tauS, np.ones(N))) - J[cc,1] for cc in range(cons) for ff in fs])\n",
    "\n",
    "cuE = np.array([eE for cc in range(cons) for ff in fs])"
   ]
  },
  {
   "cell_type": "code",
   "execution_count": 184,
   "metadata": {},
   "outputs": [],
   "source": [
    "iGf = np.linalg.inv(Gf)\n",
    "\n",
    "x = np.einsum(\"ijk, ikm-> ijm\", iGf, cuE)\n",
    "\n",
    "y = (1-NoiseNMDAratio) * x[:, :N] + NoiseNMDAratio * x[:, N:(N+N)]\n",
    "spect = np.einsum('ijk, ijm -> ikm ', np.conj(y), y)"
   ]
  },
  {
   "cell_type": "code",
   "execution_count": 186,
   "metadata": {},
   "outputs": [],
   "source": [
    "spect = spect/np.mean(spect)"
   ]
  },
  {
   "cell_type": "code",
   "execution_count": 187,
   "metadata": {},
   "outputs": [
    {
     "data": {
      "text/plain": [
       "DeviceArray(1.-6.1831726e-18j, dtype=complex64)"
      ]
     },
     "execution_count": 187,
     "metadata": {},
     "output_type": "execute_result"
    }
   ],
   "source": [
    "np.mean(spect)"
   ]
  },
  {
   "cell_type": "code",
   "execution_count": null,
   "metadata": {},
   "outputs": [],
   "source": []
  }
 ],
 "metadata": {
  "kernelspec": {
   "display_name": "Python 3",
   "language": "python",
   "name": "python3"
  },
  "language_info": {
   "codemirror_mode": {
    "name": "ipython",
    "version": 3
   },
   "file_extension": ".py",
   "mimetype": "text/x-python",
   "name": "python",
   "nbconvert_exporter": "python",
   "pygments_lexer": "ipython3",
   "version": "3.7.4"
  }
 },
 "nbformat": 4,
 "nbformat_minor": 4
}
