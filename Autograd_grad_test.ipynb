{
 "cells": [
  {
   "cell_type": "code",
   "execution_count": 1,
   "metadata": {},
   "outputs": [],
   "source": [
    "import autograd.numpy as np\n",
    "import matplotlib.pyplot as plt\n",
    "from autograd import grad\n",
    "from autograd import elementwise_grad as egrad\n",
    "\n",
    "from rates_2D import ratesSS, PS, PS_ratesSS, r_SS "
   ]
  },
  {
   "cell_type": "markdown",
   "metadata": {},
   "source": [
    "# Can train on V's with small enough eta"
   ]
  },
  {
   "cell_type": "code",
   "execution_count": 2,
   "metadata": {},
   "outputs": [],
   "source": [
    "Jee = 1.7\n",
    "Jei = 1.525\n",
    "Jie = 1.7\n",
    "Jii = 0.5\n",
    "i2e = 0.6\n",
    "\n",
    "params = np.array([Jee, Jei, Jie, Jii, i2e])\n",
    "W = np.reshape(params[:4], (2,2))\n",
    "\n",
    "ideal_v, vv_t = ratesSS(params[0], params[1],params[2], params[3], params[4])"
   ]
  },
  {
   "cell_type": "code",
   "execution_count": 3,
   "metadata": {},
   "outputs": [],
   "source": [
    "def loss(params):\n",
    "    vv, _ = ratesSS(params[0], params[1],params[2], params[3], params[4])\n",
    "#     ll = np.mean((vv-ideal_v)**2)\n",
    "    ll = np.mean((vv-ideal_v)**2) + np.abs(1000*np.sum(np.minimum(params, np.zeros(len(params)))))\n",
    "    \n",
    "    return ll"
   ]
  },
  {
   "cell_type": "code",
   "execution_count": 4,
   "metadata": {},
   "outputs": [],
   "source": [
    "# d_loss = grad(loss)\n",
    "# d_loss(params)\n",
    "\n",
    "params = np.array([Jee, Jei , Jie, Jii, i2e+ 0.1])\n",
    "eta = 0.0005\n",
    "t_params = params\n",
    "\n",
    "orig_loss = loss(params)\n",
    "new_loss = orig_loss\n",
    "\n",
    "t_loss = orig_loss\n",
    "t = 0\n",
    "\n"
   ]
  },
  {
   "cell_type": "code",
   "execution_count": 5,
   "metadata": {},
   "outputs": [],
   "source": [
    "while new_loss > 0.1*orig_loss:\n",
    "    d_params = grad(loss)(params)\n",
    "    params = params - eta*d_params\n",
    "    \n",
    "    params = np.maximum(params, np.zeros(len(params)))\n",
    "    \n",
    "    t_params = np.vstack((t_params, params))\n",
    "    \n",
    "    new_loss = loss(params)\n",
    "    t_loss = np.append(t_loss, new_loss)\n",
    "    \n",
    "    t += 1\n",
    "    \n",
    "    if t %100 == 0:\n",
    "        print(new_loss)"
   ]
  },
  {
   "cell_type": "code",
   "execution_count": 6,
   "metadata": {},
   "outputs": [
    {
     "data": {
      "text/plain": [
       "array([1.70067499, 1.51388684, 1.6984595 , 0.52069624, 0.61188115])"
      ]
     },
     "execution_count": 6,
     "metadata": {},
     "output_type": "execute_result"
    }
   ],
   "source": [
    "params"
   ]
  },
  {
   "cell_type": "code",
   "execution_count": 7,
   "metadata": {},
   "outputs": [
    {
     "data": {
      "text/plain": [
       "[<matplotlib.lines.Line2D at 0x11ef42950>,\n",
       " <matplotlib.lines.Line2D at 0x11ef42a90>,\n",
       " <matplotlib.lines.Line2D at 0x11ef42e50>,\n",
       " <matplotlib.lines.Line2D at 0x11ef42fd0>,\n",
       " <matplotlib.lines.Line2D at 0x11f5815d0>]"
      ]
     },
     "execution_count": 7,
     "metadata": {},
     "output_type": "execute_result"
    },
    {
     "data": {
      "image/png": "[encoded data removed]",
      "text/plain": [
       "<Figure size 432x288 with 1 Axes>"
      ]
     },
     "metadata": {
      "needs_background": "light"
     },
     "output_type": "display_data"
    }
   ],
   "source": [
    "plt.plot(t_params)"
   ]
  },
  {
   "cell_type": "code",
   "execution_count": 8,
   "metadata": {},
   "outputs": [
    {
     "data": {
      "text/plain": [
       "[<matplotlib.lines.Line2D at 0x10e854b50>]"
      ]
     },
     "execution_count": 8,
     "metadata": {},
     "output_type": "execute_result"
    },
    {
     "data": {
      "image/png": "[encoded data removed]",
      "text/plain": [
       "<Figure size 432x288 with 1 Axes>"
      ]
     },
     "metadata": {
      "needs_background": "light"
     },
     "output_type": "display_data"
    }
   ],
   "source": [
    "plt.plot(t_loss)\n"
   ]
  },
  {
   "cell_type": "markdown",
   "metadata": {},
   "source": [
    "# Will autograd work on Spectra? Yes"
   ]
  },
  {
   "cell_type": "code",
   "execution_count": 2,
   "metadata": {},
   "outputs": [],
   "source": [
    "Jee = 1.7\n",
    "Jei = 1.525\n",
    "Jie = 1.7\n",
    "Jii = 0.5\n",
    "i2e = 0.6\n",
    "\n",
    "params = np.array([Jee, Jei, Jie, Jii, i2e])\n",
    "\n",
    "v1, vv_t = ratesSS(params[0], params[1],params[2], params[3], params[4])\n",
    "ideal_spect = np.real(PS(params, v1))"
   ]
  },
  {
   "cell_type": "code",
   "execution_count": 3,
   "metadata": {},
   "outputs": [],
   "source": [
    "# def rect_powerLaw(vv, kk, nn, N, cons):\n",
    "#     '''This gives the E/I rates given the synaptic inputs vv, and the nonlinear parameters kk, nn'''\n",
    "#     fv = kk*np.maximum(np.array([np.sum(vv[::2,:], axis=0), np.sum(vv[1::2,:],axis=0)]), np.zeros([N, cons]))**nn\n",
    "#     return fv\n",
    "\n",
    "# kk = 0.04\n",
    "# nn = 2\n",
    "# N = 2\n",
    "# cons = 4\n",
    "\n",
    "# nmdaRatio = 0.1\n",
    "# Wtot = np.array([[(1-nmdaRatio)*Jee, 0], [(1-nmdaRatio)* Jie, 0], [nmdaRatio * Jee, 0], [nmdaRatio * Jie, 0], [0, -Jei], [0, -Jii]])\n",
    "\n",
    "# r_starcons = rect_powerLaw(v1, kk, nn, N, cons)\n",
    "# rs = nn*kk**(1/nn)*r_starcons**(1-1/nn)\n",
    "# print(rs)\n",
    "\n",
    "# Phi = lambda rr: np.diag(rr)\n",
    "\n",
    "# cc = 1\n",
    "# rcpt_types = 3\n",
    "# J = np.array([np.kron(np.ones((1, rcpt_types)), Wtot @  Phi(rs[:,cc])) - np.eye(N*rcpt_types) for cc in range(cons)])\n",
    "\n"
   ]
  },
  {
   "cell_type": "code",
   "execution_count": 4,
   "metadata": {},
   "outputs": [
    {
     "data": {
      "text/plain": [
       "[<matplotlib.lines.Line2D at 0x11c2dc1d0>,\n",
       " <matplotlib.lines.Line2D at 0x11c65dd90>,\n",
       " <matplotlib.lines.Line2D at 0x11c65df50>,\n",
       " <matplotlib.lines.Line2D at 0x11c5b0150>]"
      ]
     },
     "execution_count": 4,
     "metadata": {},
     "output_type": "execute_result"
    },
    {
     "data": {
      "image/png": "[encoded data removed]",
      "text/plain": [
       "<Figure size 432x288 with 1 Axes>"
      ]
     },
     "metadata": {
      "needs_background": "light"
     },
     "output_type": "display_data"
    }
   ],
   "source": [
    "fs = np.arange(101)\n",
    "\n",
    "plt.plot(fs, np.real(ideal_spect/np.mean(ideal_spect)))"
   ]
  },
  {
   "cell_type": "code",
   "execution_count": 5,
   "metadata": {},
   "outputs": [],
   "source": [
    "def loss(params, v1):\n",
    "\n",
    "    spect = PS(params, v1)\n",
    "    spect = np.real(spect)\n",
    "    \n",
    "#     ideal_spect =ideal_spect/np.mean(ideal_spect)\n",
    "\n",
    "    ll = np.mean((ideal_spect - spect)**2)\n",
    "    \n",
    "    return ll "
   ]
  },
  {
   "cell_type": "code",
   "execution_count": 6,
   "metadata": {},
   "outputs": [
    {
     "name": "stdout",
     "output_type": "stream",
     "text": [
      "0.07322137943455963\n"
     ]
    }
   ],
   "source": [
    "params = np.array([Jee, Jei +0.1 , Jie, Jii, i2e])\n",
    "eta = 0.0005\n",
    "t_params = params\n",
    "\n",
    "orig_loss = loss(params, v1)\n",
    "new_loss = orig_loss\n",
    "\n",
    "t_loss = orig_loss\n",
    "t = 0\n",
    "\n",
    "print(orig_loss)"
   ]
  },
  {
   "cell_type": "code",
   "execution_count": 7,
   "metadata": {},
   "outputs": [],
   "source": [
    "while new_loss > 0.1*orig_loss:\n",
    "    d_params = grad(loss)(params, v1)\n",
    "    params = params - eta*d_params\n",
    "    \n",
    "    params = np.maximum(params, np.zeros(len(params)))\n",
    "    \n",
    "    t_params = np.vstack((t_params, params))\n",
    "    \n",
    "    new_loss = loss(params, v1)\n",
    "    t_loss = np.append(t_loss, new_loss)\n",
    "    \n",
    "    t += 1\n",
    "    \n",
    "    if t %100 == 0:\n",
    "        print(new_loss)"
   ]
  },
  {
   "cell_type": "code",
   "execution_count": 8,
   "metadata": {},
   "outputs": [
    {
     "data": {
      "text/plain": [
       "<matplotlib.legend.Legend at 0x11cb28890>"
      ]
     },
     "execution_count": 8,
     "metadata": {},
     "output_type": "execute_result"
    },
    {
     "data": {
      "image/png": "[encoded data removed]",
      "text/plain": [
       "<Figure size 432x288 with 1 Axes>"
      ]
     },
     "metadata": {
      "needs_background": "light"
     },
     "output_type": "display_data"
    }
   ],
   "source": [
    "plt.title('Params over time')\n",
    "plt.plot(t_params)\n",
    "plt.legend(['Jee', 'Jei', 'Jie', 'Jii', 'i2e'])"
   ]
  },
  {
   "cell_type": "code",
   "execution_count": 9,
   "metadata": {},
   "outputs": [
    {
     "data": {
      "text/plain": [
       "Text(0.5, 0, 'time')"
      ]
     },
     "execution_count": 9,
     "metadata": {},
     "output_type": "execute_result"
    },
    {
     "data": {
      "image/png": "[encoded data removed]",
      "text/plain": [
       "<Figure size 432x288 with 1 Axes>"
      ]
     },
     "metadata": {
      "needs_background": "light"
     },
     "output_type": "display_data"
    }
   ],
   "source": [
    "plt.plot(t_loss)\n",
    "plt.title('Loss over time')\n",
    "plt.ylabel('Loss')\n",
    "plt.xlabel('time')"
   ]
  },
  {
   "cell_type": "code",
   "execution_count": 11,
   "metadata": {},
   "outputs": [
    {
     "data": {
      "text/plain": [
       "<matplotlib.legend.Legend at 0x11caf7890>"
      ]
     },
     "execution_count": 11,
     "metadata": {},
     "output_type": "execute_result"
    },
    {
     "data": {
      "image/png": "[encoded data removed]",
      "text/plain": [
       "<Figure size 432x288 with 1 Axes>"
      ]
     },
     "metadata": {
      "needs_background": "light"
     },
     "output_type": "display_data"
    }
   ],
   "source": [
    "spect = np.real(PS(params, v1))\n",
    "\n",
    "plt.plot(fs, ideal_spect, fs, spect, '-^')\n",
    "plt.legend(['iC=0', 'iC=25', 'iC=50', 'iC=100', 'C=0', 'C=25', 'C=50', 'C=100'])"
   ]
  },
  {
   "cell_type": "code",
   "execution_count": 12,
   "metadata": {},
   "outputs": [
    {
     "data": {
      "text/plain": [
       "array([1.70893116, 1.59791235, 1.6738682 , 0.52107614, 0.6       ])"
      ]
     },
     "execution_count": 12,
     "metadata": {},
     "output_type": "execute_result"
    }
   ],
   "source": [
    "params"
   ]
  },
  {
   "cell_type": "markdown",
   "metadata": {},
   "source": [
    "# Will autograd work on the combination?"
   ]
  },
  {
   "cell_type": "code",
   "execution_count": 2,
   "metadata": {},
   "outputs": [
    {
     "name": "stderr",
     "output_type": "stream",
     "text": [
      "/Users/cholt/Google Drive/Python/torch_SSN/jax/jax/lib/xla_bridge.py:109: UserWarning: No GPU/TPU found, falling back to CPU.\n",
      "  warnings.warn('No GPU/TPU found, falling back to CPU.')\n"
     ]
    }
   ],
   "source": [
    "Jee = 1.7\n",
    "Jei = 1.525\n",
    "Jie = 1.7\n",
    "Jii = 0.5\n",
    "i2e = 0.6\n",
    "\n",
    "params = np.array([Jee, Jei, Jie, Jii, i2e])\n",
    "\n",
    "# ideal_v, vv_t = ratesSS(params[0], params[1],params[2], params[3], params[4])\n",
    "# ideal_spect = np.real(PS(params[0], params[1],params[2], params[3], params[4], ideal_v))\n",
    "\n",
    "ideal_spect, ideal_v = np.real(PS_ratesSS(params))"
   ]
  },
  {
   "cell_type": "code",
   "execution_count": 3,
   "metadata": {},
   "outputs": [
    {
     "data": {
      "text/plain": [
       "[<matplotlib.lines.Line2D at 0x12f437f90>,\n",
       " <matplotlib.lines.Line2D at 0x1309eac90>,\n",
       " <matplotlib.lines.Line2D at 0x1309f0410>,\n",
       " <matplotlib.lines.Line2D at 0x1309f0850>]"
      ]
     },
     "execution_count": 3,
     "metadata": {},
     "output_type": "execute_result"
    },
    {
     "data": {
      "image/png": "[encoded data removed]",
      "text/plain": [
       "<Figure size 432x288 with 1 Axes>"
      ]
     },
     "metadata": {
      "needs_background": "light"
     },
     "output_type": "display_data"
    }
   ],
   "source": [
    "fs = np.arange(101)\n",
    "\n",
    "plt.plot(fs, np.real(ideal_spect/np.mean(ideal_spect)))"
   ]
  },
  {
   "cell_type": "code",
   "execution_count": 6,
   "metadata": {},
   "outputs": [],
   "source": [
    "def loss(params):\n",
    "    \n",
    "#     v1, _ = ratesSS(params)\n",
    "#     spect = PS(params, v1)\n",
    "    \n",
    "    spect, _ = PS_ratesSS(params)\n",
    "    spect = np.real(spect)\n",
    "    \n",
    "#     ideal_spect =ideal_spect/np.mean(ideal_spect)\n",
    "\n",
    "    ll = np.mean((np.real(ideal_spect - spect))**2)\n",
    "    \n",
    "    return ll "
   ]
  },
  {
   "cell_type": "code",
   "execution_count": 7,
   "metadata": {},
   "outputs": [
    {
     "name": "stdout",
     "output_type": "stream",
     "text": [
      "0.075909205\n"
     ]
    }
   ],
   "source": [
    "params = np.array([Jee, Jei +0.1 , Jie, Jii, i2e])\n",
    "eta = 0.0001\n",
    "t_params = params\n",
    "\n",
    "orig_loss = loss(params)\n",
    "new_loss = orig_loss\n",
    "\n",
    "t_loss = orig_loss\n",
    "t = 0\n",
    "\n",
    "print(orig_loss)"
   ]
  },
  {
   "cell_type": "code",
   "execution_count": 8,
   "metadata": {},
   "outputs": [
    {
     "name": "stderr",
     "output_type": "stream",
     "text": [
      "/Users/cholt/Google Drive/Python/torch_SSN/jax/jax/lax/lax.py:328: ComplexWarning: Casting complex values to real discards the imaginary part\n",
      "  warnings.warn(msg, onp.ComplexWarning)\n"
     ]
    },
    {
     "ename": "KeyboardInterrupt",
     "evalue": "",
     "output_type": "error",
     "traceback": [
      "\u001b[0;31m---------------------------------------------------------------------------\u001b[0m",
      "\u001b[0;31mKeyboardInterrupt\u001b[0m                         Traceback (most recent call last)",
      "\u001b[0;32m<ipython-input-8-dd083440e785>\u001b[0m in \u001b[0;36m<module>\u001b[0;34m\u001b[0m\n\u001b[1;32m      1\u001b[0m \u001b[0;32mwhile\u001b[0m \u001b[0mnew_loss\u001b[0m \u001b[0;34m>\u001b[0m \u001b[0;36m0.1\u001b[0m\u001b[0;34m*\u001b[0m\u001b[0morig_loss\u001b[0m\u001b[0;34m:\u001b[0m\u001b[0;34m\u001b[0m\u001b[0;34m\u001b[0m\u001b[0m\n\u001b[0;32m----> 2\u001b[0;31m     \u001b[0md_params\u001b[0m \u001b[0;34m=\u001b[0m \u001b[0mgrad\u001b[0m\u001b[0;34m(\u001b[0m\u001b[0mloss\u001b[0m\u001b[0;34m)\u001b[0m\u001b[0;34m(\u001b[0m\u001b[0mparams\u001b[0m\u001b[0;34m)\u001b[0m\u001b[0;34m\u001b[0m\u001b[0;34m\u001b[0m\u001b[0m\n\u001b[0m\u001b[1;32m      3\u001b[0m     \u001b[0mparams\u001b[0m \u001b[0;34m=\u001b[0m \u001b[0mparams\u001b[0m \u001b[0;34m-\u001b[0m \u001b[0meta\u001b[0m\u001b[0;34m*\u001b[0m\u001b[0md_params\u001b[0m\u001b[0;34m\u001b[0m\u001b[0;34m\u001b[0m\u001b[0m\n\u001b[1;32m      4\u001b[0m \u001b[0;34m\u001b[0m\u001b[0m\n\u001b[1;32m      5\u001b[0m     \u001b[0mt_params\u001b[0m \u001b[0;34m=\u001b[0m \u001b[0mnp\u001b[0m\u001b[0;34m.\u001b[0m\u001b[0mvstack\u001b[0m\u001b[0;34m(\u001b[0m\u001b[0;34m(\u001b[0m\u001b[0mt_params\u001b[0m\u001b[0;34m,\u001b[0m \u001b[0mparams\u001b[0m\u001b[0;34m)\u001b[0m\u001b[0;34m)\u001b[0m\u001b[0;34m\u001b[0m\u001b[0;34m\u001b[0m\u001b[0m\n",
      "\u001b[0;32m~/Google Drive/Python/torch_SSN/jax/jax/api.py\u001b[0m in \u001b[0;36mgrad_f\u001b[0;34m(*args, **kwargs)\u001b[0m\n\u001b[1;32m    330\u001b[0m   \u001b[0;34m@\u001b[0m\u001b[0mwraps\u001b[0m\u001b[0;34m(\u001b[0m\u001b[0mfun\u001b[0m\u001b[0;34m,\u001b[0m \u001b[0mdocstr\u001b[0m\u001b[0;34m=\u001b[0m\u001b[0mdocstr\u001b[0m\u001b[0;34m,\u001b[0m \u001b[0margnums\u001b[0m\u001b[0;34m=\u001b[0m\u001b[0margnums\u001b[0m\u001b[0;34m)\u001b[0m\u001b[0;34m\u001b[0m\u001b[0;34m\u001b[0m\u001b[0m\n\u001b[1;32m    331\u001b[0m   \u001b[0;32mdef\u001b[0m \u001b[0mgrad_f\u001b[0m\u001b[0;34m(\u001b[0m\u001b[0;34m*\u001b[0m\u001b[0margs\u001b[0m\u001b[0;34m,\u001b[0m \u001b[0;34m**\u001b[0m\u001b[0mkwargs\u001b[0m\u001b[0;34m)\u001b[0m\u001b[0;34m:\u001b[0m\u001b[0;34m\u001b[0m\u001b[0;34m\u001b[0m\u001b[0m\n\u001b[0;32m--> 332\u001b[0;31m     \u001b[0m_\u001b[0m\u001b[0;34m,\u001b[0m \u001b[0mg\u001b[0m \u001b[0;34m=\u001b[0m \u001b[0mvalue_and_grad_f\u001b[0m\u001b[0;34m(\u001b[0m\u001b[0;34m*\u001b[0m\u001b[0margs\u001b[0m\u001b[0;34m,\u001b[0m \u001b[0;34m**\u001b[0m\u001b[0mkwargs\u001b[0m\u001b[0;34m)\u001b[0m\u001b[0;34m\u001b[0m\u001b[0;34m\u001b[0m\u001b[0m\n\u001b[0m\u001b[1;32m    333\u001b[0m     \u001b[0;32mreturn\u001b[0m \u001b[0mg\u001b[0m\u001b[0;34m\u001b[0m\u001b[0;34m\u001b[0m\u001b[0m\n\u001b[1;32m    334\u001b[0m \u001b[0;34m\u001b[0m\u001b[0m\n",
      "\u001b[0;32m~/Google Drive/Python/torch_SSN/jax/jax/api.py\u001b[0m in \u001b[0;36mvalue_and_grad_f\u001b[0;34m(*args, **kwargs)\u001b[0m\n\u001b[1;32m    388\u001b[0m              \"differentiation, pass holomorphic=True.\")\n\u001b[1;32m    389\u001b[0m       \u001b[0;32mraise\u001b[0m \u001b[0mTypeError\u001b[0m\u001b[0;34m(\u001b[0m\u001b[0mmsg\u001b[0m\u001b[0;34m.\u001b[0m\u001b[0mformat\u001b[0m\u001b[0;34m(\u001b[0m\u001b[0mdtype\u001b[0m\u001b[0;34m)\u001b[0m\u001b[0;34m)\u001b[0m\u001b[0;34m\u001b[0m\u001b[0;34m\u001b[0m\u001b[0m\n\u001b[0;32m--> 390\u001b[0;31m     \u001b[0mg\u001b[0m \u001b[0;34m=\u001b[0m \u001b[0mvjp_py\u001b[0m\u001b[0;34m(\u001b[0m\u001b[0monp\u001b[0m\u001b[0;34m.\u001b[0m\u001b[0mones\u001b[0m\u001b[0;34m(\u001b[0m\u001b[0;34m(\u001b[0m\u001b[0;34m)\u001b[0m\u001b[0;34m,\u001b[0m \u001b[0mdtype\u001b[0m\u001b[0;34m=\u001b[0m\u001b[0mdtype\u001b[0m\u001b[0;34m)\u001b[0m\u001b[0;34m)\u001b[0m\u001b[0;34m\u001b[0m\u001b[0;34m\u001b[0m\u001b[0m\n\u001b[0m\u001b[1;32m    391\u001b[0m     \u001b[0mg\u001b[0m \u001b[0;34m=\u001b[0m \u001b[0mg\u001b[0m\u001b[0;34m[\u001b[0m\u001b[0;36m0\u001b[0m\u001b[0;34m]\u001b[0m \u001b[0;32mif\u001b[0m \u001b[0misinstance\u001b[0m\u001b[0;34m(\u001b[0m\u001b[0margnums\u001b[0m\u001b[0;34m,\u001b[0m \u001b[0mint\u001b[0m\u001b[0;34m)\u001b[0m \u001b[0;32melse\u001b[0m \u001b[0mg\u001b[0m\u001b[0;34m\u001b[0m\u001b[0;34m\u001b[0m\u001b[0m\n\u001b[1;32m    392\u001b[0m     \u001b[0;32mif\u001b[0m \u001b[0;32mnot\u001b[0m \u001b[0mhas_aux\u001b[0m\u001b[0;34m:\u001b[0m\u001b[0;34m\u001b[0m\u001b[0;34m\u001b[0m\u001b[0m\n",
      "\u001b[0;32m~/Google Drive/Python/torch_SSN/jax/jax/api_util.py\u001b[0m in \u001b[0;36mapply_flat_fun_nokwargs\u001b[0;34m(fun, io_tree, py_args)\u001b[0m\n\u001b[1;32m     64\u001b[0m   \u001b[0;32mif\u001b[0m \u001b[0min_tree\u001b[0m \u001b[0;34m!=\u001b[0m \u001b[0min_tree_expected\u001b[0m\u001b[0;34m:\u001b[0m\u001b[0;34m\u001b[0m\u001b[0;34m\u001b[0m\u001b[0m\n\u001b[1;32m     65\u001b[0m       \u001b[0;32mraise\u001b[0m \u001b[0mTypeError\u001b[0m\u001b[0;34m(\u001b[0m\u001b[0;34m\"Expected {}, got {}\"\u001b[0m\u001b[0;34m.\u001b[0m\u001b[0mformat\u001b[0m\u001b[0;34m(\u001b[0m\u001b[0min_tree_expected\u001b[0m\u001b[0;34m,\u001b[0m \u001b[0min_tree\u001b[0m\u001b[0;34m)\u001b[0m\u001b[0;34m)\u001b[0m\u001b[0;34m\u001b[0m\u001b[0;34m\u001b[0m\u001b[0m\n\u001b[0;32m---> 66\u001b[0;31m   \u001b[0mans\u001b[0m \u001b[0;34m=\u001b[0m \u001b[0mfun\u001b[0m\u001b[0;34m(\u001b[0m\u001b[0;34m*\u001b[0m\u001b[0margs\u001b[0m\u001b[0;34m)\u001b[0m\u001b[0;34m\u001b[0m\u001b[0;34m\u001b[0m\u001b[0m\n\u001b[0m\u001b[1;32m     67\u001b[0m   \u001b[0;32mreturn\u001b[0m \u001b[0mtree_unflatten\u001b[0m\u001b[0;34m(\u001b[0m\u001b[0mout_tree\u001b[0m\u001b[0;34m,\u001b[0m \u001b[0mans\u001b[0m\u001b[0;34m)\u001b[0m\u001b[0;34m\u001b[0m\u001b[0;34m\u001b[0m\u001b[0m\n\u001b[1;32m     68\u001b[0m \u001b[0;34m\u001b[0m\u001b[0m\n",
      "\u001b[0;32m~/Google Drive/Python/torch_SSN/jax/jax/interpreters/ad.py\u001b[0m in \u001b[0;36mvjp_\u001b[0;34m(*cts)\u001b[0m\n\u001b[1;32m    110\u001b[0m     \u001b[0mdummy_primals_and_cts\u001b[0m \u001b[0;34m=\u001b[0m \u001b[0;34m(\u001b[0m\u001b[0mcore\u001b[0m\u001b[0;34m.\u001b[0m\u001b[0munit\u001b[0m\u001b[0;34m,\u001b[0m\u001b[0;34m)\u001b[0m \u001b[0;34m*\u001b[0m \u001b[0mlen\u001b[0m\u001b[0;34m(\u001b[0m\u001b[0mcts\u001b[0m\u001b[0;34m)\u001b[0m \u001b[0;34m+\u001b[0m \u001b[0mcts\u001b[0m\u001b[0;34m\u001b[0m\u001b[0;34m\u001b[0m\u001b[0m\n\u001b[1;32m    111\u001b[0m     \u001b[0mdummy_args\u001b[0m \u001b[0;34m=\u001b[0m \u001b[0;34m(\u001b[0m\u001b[0mundefined_primal\u001b[0m\u001b[0;34m,\u001b[0m\u001b[0;34m)\u001b[0m \u001b[0;34m*\u001b[0m \u001b[0mlen\u001b[0m\u001b[0;34m(\u001b[0m\u001b[0mjaxpr\u001b[0m\u001b[0;34m.\u001b[0m\u001b[0minvars\u001b[0m\u001b[0;34m)\u001b[0m\u001b[0;34m\u001b[0m\u001b[0;34m\u001b[0m\u001b[0m\n\u001b[0;32m--> 112\u001b[0;31m     \u001b[0m_\u001b[0m\u001b[0;34m,\u001b[0m \u001b[0marg_cts\u001b[0m \u001b[0;34m=\u001b[0m \u001b[0mbackward_pass\u001b[0m\u001b[0;34m(\u001b[0m\u001b[0mjaxpr\u001b[0m\u001b[0;34m,\u001b[0m \u001b[0mconsts\u001b[0m\u001b[0;34m,\u001b[0m \u001b[0;34m(\u001b[0m\u001b[0;34m)\u001b[0m\u001b[0;34m,\u001b[0m \u001b[0mdummy_args\u001b[0m\u001b[0;34m,\u001b[0m \u001b[0mdummy_primals_and_cts\u001b[0m\u001b[0;34m)\u001b[0m\u001b[0;34m\u001b[0m\u001b[0;34m\u001b[0m\u001b[0m\n\u001b[0m\u001b[1;32m    113\u001b[0m     \u001b[0marg_cts\u001b[0m \u001b[0;34m=\u001b[0m \u001b[0marg_cts\u001b[0m\u001b[0;34m[\u001b[0m\u001b[0mlen\u001b[0m\u001b[0;34m(\u001b[0m\u001b[0mprimals\u001b[0m\u001b[0;34m)\u001b[0m\u001b[0;34m:\u001b[0m\u001b[0;34m]\u001b[0m\u001b[0;34m\u001b[0m\u001b[0;34m\u001b[0m\u001b[0m\n\u001b[1;32m    114\u001b[0m     \u001b[0;32mreturn\u001b[0m \u001b[0mmap\u001b[0m\u001b[0;34m(\u001b[0m\u001b[0minstantiate_zeros\u001b[0m\u001b[0;34m,\u001b[0m \u001b[0mprimals\u001b[0m\u001b[0;34m,\u001b[0m \u001b[0marg_cts\u001b[0m\u001b[0;34m)\u001b[0m\u001b[0;34m\u001b[0m\u001b[0;34m\u001b[0m\u001b[0m\n",
      "\u001b[0;32m~/Google Drive/Python/torch_SSN/jax/jax/interpreters/ad.py\u001b[0m in \u001b[0;36mbackward_pass\u001b[0;34m(jaxpr, consts, freevar_vals, args, cotangents_in)\u001b[0m\n\u001b[1;32m    177\u001b[0m       \u001b[0mmap\u001b[0m\u001b[0;34m(\u001b[0m\u001b[0mwrite_cotangent\u001b[0m\u001b[0;34m,\u001b[0m \u001b[0mbound_vars\u001b[0m\u001b[0;34m,\u001b[0m \u001b[0mct_free_vars_out\u001b[0m\u001b[0;34m)\u001b[0m\u001b[0;34m\u001b[0m\u001b[0;34m\u001b[0m\u001b[0m\n\u001b[1;32m    178\u001b[0m     \u001b[0;32melse\u001b[0m\u001b[0;34m:\u001b[0m\u001b[0;34m\u001b[0m\u001b[0;34m\u001b[0m\u001b[0m\n\u001b[0;32m--> 179\u001b[0;31m       \u001b[0mcts_out\u001b[0m \u001b[0;34m=\u001b[0m \u001b[0mget_primitive_transpose\u001b[0m\u001b[0;34m(\u001b[0m\u001b[0meqn\u001b[0m\u001b[0;34m.\u001b[0m\u001b[0mprimitive\u001b[0m\u001b[0;34m)\u001b[0m\u001b[0;34m(\u001b[0m\u001b[0mcts_in\u001b[0m\u001b[0;34m,\u001b[0m \u001b[0;34m*\u001b[0m\u001b[0minvals\u001b[0m\u001b[0;34m,\u001b[0m \u001b[0;34m**\u001b[0m\u001b[0meqn\u001b[0m\u001b[0;34m.\u001b[0m\u001b[0mparams\u001b[0m\u001b[0;34m)\u001b[0m\u001b[0;34m\u001b[0m\u001b[0;34m\u001b[0m\u001b[0m\n\u001b[0m\u001b[1;32m    180\u001b[0m     \u001b[0mcts_out\u001b[0m \u001b[0;34m=\u001b[0m \u001b[0;34m[\u001b[0m\u001b[0mzero\u001b[0m\u001b[0;34m]\u001b[0m \u001b[0;34m*\u001b[0m \u001b[0mlen\u001b[0m\u001b[0;34m(\u001b[0m\u001b[0meqn\u001b[0m\u001b[0;34m.\u001b[0m\u001b[0minvars\u001b[0m\u001b[0;34m)\u001b[0m \u001b[0;32mif\u001b[0m \u001b[0mcts_out\u001b[0m \u001b[0;32mis\u001b[0m \u001b[0mzero\u001b[0m \u001b[0;32melse\u001b[0m \u001b[0mcts_out\u001b[0m\u001b[0;34m\u001b[0m\u001b[0;34m\u001b[0m\u001b[0m\n\u001b[1;32m    181\u001b[0m     \u001b[0mmap\u001b[0m\u001b[0;34m(\u001b[0m\u001b[0mwrite_cotangent\u001b[0m\u001b[0;34m,\u001b[0m \u001b[0meqn\u001b[0m\u001b[0;34m.\u001b[0m\u001b[0minvars\u001b[0m\u001b[0;34m,\u001b[0m \u001b[0mcts_out\u001b[0m\u001b[0;34m)\u001b[0m\u001b[0;34m\u001b[0m\u001b[0;34m\u001b[0m\u001b[0m\n",
      "\u001b[0;32m~/Google Drive/Python/torch_SSN/jax/jax/interpreters/ad.py\u001b[0m in \u001b[0;36mlinear_transpose\u001b[0;34m(transpose_rule, cotangent, *args, **kwargs)\u001b[0m\n\u001b[1;32m    306\u001b[0m     \u001b[0;32mreturn\u001b[0m \u001b[0mval_out\u001b[0m\u001b[0;34m,\u001b[0m \u001b[0mprimitive\u001b[0m\u001b[0;34m.\u001b[0m\u001b[0mbind\u001b[0m\u001b[0;34m(\u001b[0m\u001b[0;34m*\u001b[0m\u001b[0mtangents\u001b[0m\u001b[0;34m,\u001b[0m \u001b[0;34m**\u001b[0m\u001b[0mparams\u001b[0m\u001b[0;34m)\u001b[0m\u001b[0;34m\u001b[0m\u001b[0;34m\u001b[0m\u001b[0m\n\u001b[1;32m    307\u001b[0m \u001b[0;34m\u001b[0m\u001b[0m\n\u001b[0;32m--> 308\u001b[0;31m \u001b[0;32mdef\u001b[0m \u001b[0mlinear_transpose\u001b[0m\u001b[0;34m(\u001b[0m\u001b[0mtranspose_rule\u001b[0m\u001b[0;34m,\u001b[0m \u001b[0mcotangent\u001b[0m\u001b[0;34m,\u001b[0m \u001b[0;34m*\u001b[0m\u001b[0margs\u001b[0m\u001b[0;34m,\u001b[0m \u001b[0;34m**\u001b[0m\u001b[0mkwargs\u001b[0m\u001b[0;34m)\u001b[0m\u001b[0;34m:\u001b[0m\u001b[0;34m\u001b[0m\u001b[0;34m\u001b[0m\u001b[0m\n\u001b[0m\u001b[1;32m    309\u001b[0m   \u001b[0;32mreturn\u001b[0m \u001b[0mzero\u001b[0m \u001b[0;32mif\u001b[0m \u001b[0mcotangent\u001b[0m \u001b[0;32mis\u001b[0m \u001b[0mzero\u001b[0m \u001b[0;32melse\u001b[0m \u001b[0mtranspose_rule\u001b[0m\u001b[0;34m(\u001b[0m\u001b[0mcotangent\u001b[0m\u001b[0;34m,\u001b[0m \u001b[0;34m**\u001b[0m\u001b[0mkwargs\u001b[0m\u001b[0;34m)\u001b[0m\u001b[0;34m\u001b[0m\u001b[0;34m\u001b[0m\u001b[0m\n\u001b[1;32m    310\u001b[0m \u001b[0;34m\u001b[0m\u001b[0m\n",
      "\u001b[0;31mKeyboardInterrupt\u001b[0m: "
     ]
    }
   ],
   "source": [
    "while new_loss > 0.1*orig_loss:\n",
    "    d_params = grad(loss)(params)\n",
    "    params = params - eta*d_params\n",
    "    \n",
    "    t_params = np.vstack((t_params, params))\n",
    "    \n",
    "    new_loss = loss(params)\n",
    "    t_loss = np.append(t_loss, new_loss)\n",
    "    \n",
    "    t += 1\n",
    "    \n",
    "    if t %100 == 0:\n",
    "        print(new_loss)"
   ]
  },
  {
   "cell_type": "code",
   "execution_count": 16,
   "metadata": {},
   "outputs": [
    {
     "data": {
      "text/plain": [
       "DeviceArray(0.06719249, dtype=float32)"
      ]
     },
     "execution_count": 16,
     "metadata": {},
     "output_type": "execute_result"
    }
   ],
   "source": [
    "loss(params)"
   ]
  },
  {
   "cell_type": "code",
   "execution_count": 17,
   "metadata": {},
   "outputs": [
    {
     "data": {
      "text/plain": [
       "[<matplotlib.lines.Line2D at 0x151cb53d0>]"
      ]
     },
     "execution_count": 17,
     "metadata": {},
     "output_type": "execute_result"
    },
    {
     "data": {
      "image/png": "[encoded data removed]",
      "text/plain": [
       "<Figure size 432x288 with 1 Axes>"
      ]
     },
     "metadata": {
      "needs_background": "light"
     },
     "output_type": "display_data"
    }
   ],
   "source": [
    "plt.plot(t_loss)"
   ]
  },
  {
   "cell_type": "code",
   "execution_count": 21,
   "metadata": {},
   "outputs": [
    {
     "data": {
      "text/plain": [
       "[<matplotlib.lines.Line2D at 0x162026610>,\n",
       " <matplotlib.lines.Line2D at 0x150e3f950>,\n",
       " <matplotlib.lines.Line2D at 0x146229190>,\n",
       " <matplotlib.lines.Line2D at 0x15b977510>,\n",
       " <matplotlib.lines.Line2D at 0x1462290d0>]"
      ]
     },
     "execution_count": 21,
     "metadata": {},
     "output_type": "execute_result"
    },
    {
     "data": {
      "image/png": "[encoded data removed]",
      "text/plain": [
       "<Figure size 432x288 with 1 Axes>"
      ]
     },
     "metadata": {
      "needs_background": "light"
     },
     "output_type": "display_data"
    }
   ],
   "source": [
    "# plt.plot(np.diff(t_params, axis=0))\n",
    "plt.plot(t_params)"
   ]
  },
  {
   "cell_type": "code",
   "execution_count": 13,
   "metadata": {},
   "outputs": [
    {
     "data": {
      "text/plain": [
       "DeviceArray([-0.0567933 ,  0.15781718,  0.09231025, -0.16706377,\n",
       "              0.41030812], dtype=float32)"
      ]
     },
     "execution_count": 13,
     "metadata": {},
     "output_type": "execute_result"
    }
   ],
   "source": [
    "d_params"
   ]
  },
  {
   "cell_type": "code",
   "execution_count": 3,
   "metadata": {},
   "outputs": [],
   "source": [
    "def rect_powerLaw(vv, kk, nn, N, cons):\n",
    "    '''This gives the E/I rates given the synaptic inputs vv, and the nonlinear parameters kk, nn'''\n",
    "    fv = kk*np.maximum(np.array([np.sum(vv[::2,:], axis=0), np.sum(vv[1::2,:],axis=0)]), np.zeros([N, cons]))**nn\n",
    "    return fv\n",
    "\n",
    "def dvdt(vv, kk, nn, N, rcpt_types, cons, Wtot, I_total, tauSvec, dt):\n",
    "    '''Evaluates the RHS of the v-eqn'''\n",
    "    delta_v = np.reshape(dt/tauSvec, [N*rcpt_types,1]) * (-vv + Wtot @ np.kron(np.ones([rcpt_types,1]), rect_powerLaw(vv, kk ,nn, N, cons)) + I_total)\n",
    "    return delta_v\n",
    "\n",
    "N = 2\n",
    "rcpt_types = 3\n",
    "t = np.arange(0,5000.1, 0.1)\n",
    "fs = np.arange(0, 101, 1)\n",
    "fs = fs/1000 #convert from Hz to kHz\n",
    "c = np.array([0, 25, 50, 100])\n",
    "cons = len(c)\n",
    "\n",
    "J0 = np.array([[Jee, -Jei], [Jie, -Jii]])\n",
    "\n",
    "W = J0\n",
    "#     print('Det(W) =', '%.3f' % np.linalg.det(W))\n",
    "\n",
    "#define nonlinearity parameters\n",
    "kk = 0.04\n",
    "nn = 2\n",
    "\n",
    "if rcpt_types > 1:\n",
    "    g = np.array([1, i2e, 0, 0, 0, 0])\n",
    "else:\n",
    "    g = np.array([1, i2e])\n",
    "\n",
    "tauE = 15\n",
    "tau_ratio = 1\n",
    "tauI = tauE/tau_ratio\n",
    "\n",
    "# tau = np.ones(N)\n",
    "# tau[:2:] = tauE\n",
    "# tau[1:2:] = tauI\n",
    "\n",
    "t_scale = 1\n",
    "tauNMDA = 100 * t_scale\n",
    "tauAMPA = 3 * t_scale\n",
    "tauGABA = 5 * t_scale\n",
    "nmdaRatio = 0.1 # sets the ratio of NMDA cells to AMPA cell\n",
    "\n",
    "NoiseNMDAratio = 0\n",
    "NoiseTau = 1 * t_scale\n",
    "\n",
    "\n",
    "totalT = t[-1]\n",
    "dt = np.mean(np.diff(t))\n",
    "dt2 = np.sqrt(dt)\n",
    "\n",
    "if rcpt_types > 1:\n",
    "    tauS = np.array([tauAMPA, tauNMDA, tauGABA])\n",
    "    tauSvec = np.kron(tauS, np.ones(N))\n",
    "\n",
    "    Wtot = np.array([[(1-nmdaRatio)*Jee, 0, 0, 0, 0, 0], [(1-nmdaRatio)* Jie, 0, 0, 0, 0, 0], [0, 0, nmdaRatio * Jee, 0, 0, 0], [0, 0, nmdaRatio * Jie, 0, 0, 0], [0, 0, 0, 0, 0, -Jei], [0, 0, 0, 0, 0, -Jii]])\n",
    "\n",
    "else:\n",
    "    tauSvec = tau\n",
    "    Wrcpt = W\n",
    "    Wtot = W\n",
    "\n",
    "\n",
    "v1 = np.zeros([N*rcpt_types, cons])\n",
    "r_starcons = np.zeros([N, cons])\n",
    "\n",
    "I_total = np.kron( g.reshape(N*rcpt_types,1),  c.reshape(1,cons))\n",
    "#Conv = True\n",
    "indt = 0\n",
    "\n",
    "xtol = 1e-3\n",
    "xmin = 1\n",
    "\n",
    "for tt in t:\n",
    "\n",
    "    dv = dvdt(v1, kk, nn,  N, rcpt_types, cons, Wtot, I_total, tauSvec, dt)\n",
    "    v1 = dv + v1\n",
    "#     vv_t[:,:, tt] = v1\n",
    "    indt += 1\n",
    "\n",
    "    if np.abs( dv /np.maximum(xmin, np.abs(v1)) ).max() < xtol:\n",
    "        # print('\\n converged to fixed point at t=%g,      as max(abs(dx./max(xvec,%g))) < %g \\n' % (n*dt,xmin,xtol))\n",
    "        # CONVG = 1\n",
    "        # print(tt)\n",
    "        break\n",
    "\n",
    "\n",
    "#         if tt >= totalT - 1000*dt:\n",
    "#             itr = np.max(np.abs(dv))\n",
    "\n",
    "#             if itr > 0.01:\n",
    "#                 Conv = False\n",
    "\n",
    "r_starcons = rect_powerLaw(v1, kk, nn, N, cons)\n",
    "rs = nn*kk**(1/nn)*r_starcons**(1-1/nn)\n",
    "\n",
    "Phi = lambda rr: np.diag(rr)\n",
    "eE = np.array([[1], [0]])\n",
    "eE = np.kron(np.ones([rcpt_types,1]), eE)\n",
    "J = np.array([Wtot @ np.kron(np.ones([rcpt_types, rcpt_types]), Phi(rs[:,cc])) -np.eye(N*rcpt_types) for cc in range(cons)])\n",
    "Gf = np.array([-1j * 2 * np.pi * ff * np.diag(np.kron(tauS, np.ones(N))) - J[cc] for cc in range(cons) for ff in fs])\n",
    "\n",
    "cuE = np.array([eE for cc in range(cons) for ff in fs])\n",
    "fscons = np.kron(np.ones([1, cons]), fs)"
   ]
  },
  {
   "cell_type": "code",
   "execution_count": 14,
   "metadata": {},
   "outputs": [],
   "source": [
    "x = np.linalg.solve(Gf, cuE)"
   ]
  },
  {
   "cell_type": "code",
   "execution_count": 15,
   "metadata": {},
   "outputs": [
    {
     "data": {
      "text/plain": [
       "(404, 6, 1)"
      ]
     },
     "execution_count": 15,
     "metadata": {},
     "output_type": "execute_result"
    }
   ],
   "source": [
    "x.shape"
   ]
  },
  {
   "cell_type": "markdown",
   "metadata": {},
   "source": [
    "# R - formulation"
   ]
  },
  {
   "cell_type": "code",
   "execution_count": 1,
   "metadata": {},
   "outputs": [],
   "source": [
    "import jax.numpy as np\n",
    "import matplotlib.pyplot as plt\n",
    "from jax import grad\n",
    "\n",
    "from rates_2D import ratesSS, PS, PS_ratesSS, r_SS "
   ]
  },
  {
   "cell_type": "code",
   "execution_count": 2,
   "metadata": {},
   "outputs": [
    {
     "name": "stderr",
     "output_type": "stream",
     "text": [
      "/Users/cholt/Google Drive/Python/torch_SSN/jax/jax/lib/xla_bridge.py:109: UserWarning: No GPU/TPU found, falling back to CPU.\n",
      "  warnings.warn('No GPU/TPU found, falling back to CPU.')\n"
     ]
    }
   ],
   "source": [
    "Jee = 1.7\n",
    "Jei = 1.525\n",
    "Jie = 1.7\n",
    "Jii = 0.5\n",
    "i2e = 0.6\n",
    "\n",
    "params = np.array([Jee, Jei, Jie, Jii, i2e])\n",
    "\n",
    "# ideal_v, vv_t = ratesSS(params[0], params[1],params[2], params[3], params[4])\n",
    "# ideal_spect = np.real(PS(params[0], params[1],params[2], params[3], params[4], ideal_v))\n",
    "\n",
    "ideal_r, r_t = r_SS(params)\n",
    "ideal_spect = PS(params, ideal_r)\n"
   ]
  },
  {
   "cell_type": "code",
   "execution_count": 3,
   "metadata": {},
   "outputs": [
    {
     "data": {
      "text/plain": [
       "[<matplotlib.lines.Line2D at 0x12b438790>,\n",
       " <matplotlib.lines.Line2D at 0x12b951410>,\n",
       " <matplotlib.lines.Line2D at 0x12b951850>,\n",
       " <matplotlib.lines.Line2D at 0x12b951c90>]"
      ]
     },
     "execution_count": 3,
     "metadata": {},
     "output_type": "execute_result"
    },
    {
     "data": {
      "image/png": "[encoded data removed]",
      "text/plain": [
       "<Figure size 432x288 with 1 Axes>"
      ]
     },
     "metadata": {
      "needs_background": "light"
     },
     "output_type": "display_data"
    }
   ],
   "source": [
    "fs = np.arange(101)\n",
    "\n",
    "plt.plot(fs, np.real(ideal_spect/np.mean(ideal_spect)))"
   ]
  },
  {
   "cell_type": "code",
   "execution_count": 4,
   "metadata": {},
   "outputs": [],
   "source": [
    "def loss(params):\n",
    "    \n",
    "    r1, _ = r_SS(params)\n",
    "    spect = PS(params, r1)\n",
    "    \n",
    "#     spect, _ = PS_ratesSS(params[0], params[1],params[2], params[3], params[4])\n",
    "#     spect = np.real(spect)\n",
    "    \n",
    "#     ideal_spect =ideal_spect/np.mean(ideal_spect)\n",
    "\n",
    "    ll = np.mean((np.real(ideal_spect - spect))**2)\n",
    "    \n",
    "    return ll "
   ]
  },
  {
   "cell_type": "code",
   "execution_count": 5,
   "metadata": {},
   "outputs": [
    {
     "name": "stdout",
     "output_type": "stream",
     "text": [
      "0.064763874\n"
     ]
    }
   ],
   "source": [
    "params = np.array([Jee, Jei +0.1 , Jie, Jii, i2e])\n",
    "eta = 0.0005\n",
    "t_params = params\n",
    "\n",
    "orig_loss = loss(params)\n",
    "new_loss = orig_loss\n",
    "\n",
    "t_loss = orig_loss\n",
    "t = 0\n",
    "\n",
    "print(orig_loss)"
   ]
  },
  {
   "cell_type": "code",
   "execution_count": 6,
   "metadata": {},
   "outputs": [
    {
     "name": "stderr",
     "output_type": "stream",
     "text": [
      "/Users/cholt/Google Drive/Python/torch_SSN/jax/jax/lax/lax.py:328: ComplexWarning: Casting complex values to real discards the imaginary part\n",
      "  warnings.warn(msg, onp.ComplexWarning)\n"
     ]
    }
   ],
   "source": [
    "while new_loss > 0.1*orig_loss:\n",
    "    d_params = grad(loss)(params)\n",
    "    params = params - eta*d_params\n",
    "    \n",
    "    t_params = np.vstack((t_params, params))\n",
    "    \n",
    "    new_loss = loss(params)\n",
    "    t_loss = np.append(t_loss, new_loss)\n",
    "    \n",
    "    t += 1\n",
    "    \n",
    "    if t %100 == 0:\n",
    "        print(new_loss)"
   ]
  },
  {
   "cell_type": "code",
   "execution_count": 7,
   "metadata": {},
   "outputs": [
    {
     "data": {
      "text/plain": [
       "DeviceArray([1.70788693, 1.6191113, 1.69660687, 0.50381041, 0.58134651],\n",
       "            dtype=float32)"
      ]
     },
     "execution_count": 7,
     "metadata": {},
     "output_type": "execute_result"
    }
   ],
   "source": [
    "params"
   ]
  },
  {
   "cell_type": "code",
   "execution_count": 10,
   "metadata": {},
   "outputs": [
    {
     "data": {
      "text/plain": [
       "[<matplotlib.lines.Line2D at 0x1327d7f50>]"
      ]
     },
     "execution_count": 10,
     "metadata": {},
     "output_type": "execute_result"
    },
    {
     "data": {
      "image/png": "[encoded data removed]",
      "text/plain": [
       "<Figure size 432x288 with 1 Axes>"
      ]
     },
     "metadata": {
      "needs_background": "light"
     },
     "output_type": "display_data"
    }
   ],
   "source": [
    "plt.plot(t_loss)"
   ]
  },
  {
   "cell_type": "code",
   "execution_count": 12,
   "metadata": {},
   "outputs": [
    {
     "data": {
      "text/plain": [
       "[<matplotlib.lines.Line2D at 0x1327b1c90>,\n",
       " <matplotlib.lines.Line2D at 0x132d74f90>,\n",
       " <matplotlib.lines.Line2D at 0x12eefd610>,\n",
       " <matplotlib.lines.Line2D at 0x12eefd910>,\n",
       " <matplotlib.lines.Line2D at 0x12eefdc10>]"
      ]
     },
     "execution_count": 12,
     "metadata": {},
     "output_type": "execute_result"
    },
    {
     "data": {
      "image/png": "[encoded data removed]",
      "text/plain": [
       "<Figure size 432x288 with 1 Axes>"
      ]
     },
     "metadata": {
      "needs_background": "light"
     },
     "output_type": "display_data"
    }
   ],
   "source": [
    "plt.plot(t_params)"
   ]
  },
  {
   "cell_type": "code",
   "execution_count": 15,
   "metadata": {},
   "outputs": [
    {
     "name": "stderr",
     "output_type": "stream",
     "text": [
      "/Users/cholt/miniconda3/envs/juC/lib/python3.7/site-packages/numpy/core/numeric.py:538: ComplexWarning: Casting complex values to real discards the imaginary part\n",
      "  return array(a, dtype, copy=False, order=order)\n"
     ]
    },
    {
     "data": {
      "text/plain": [
       "<matplotlib.legend.Legend at 0x12f4d0650>"
      ]
     },
     "execution_count": 15,
     "metadata": {},
     "output_type": "execute_result"
    },
    {
     "data": {
      "image/png": "[encoded data removed]",
      "text/plain": [
       "<Figure size 432x288 with 1 Axes>"
      ]
     },
     "metadata": {
      "needs_background": "light"
     },
     "output_type": "display_data"
    }
   ],
   "source": [
    "r1, _ = r_SS(params)\n",
    "spect = np.real(PS(params, r1))\n",
    "\n",
    "plt.plot(fs, ideal_spect, fs, spect, '-^')\n",
    "plt.legend(['iC=0', 'iC=25', 'iC=50', 'iC=100', 'C=0', 'C=25', 'C=50', 'C=100'])"
   ]
  },
  {
   "cell_type": "code",
   "execution_count": 5,
   "metadata": {},
   "outputs": [],
   "source": [
    "def rate_powerLaw(rr, W, I_total, kk ,nn):\n",
    "    fr = kk * np.maximum(W @ rr + I_total, np.zeros_like(I_total)) ** 2\n",
    "    return fr\n",
    "\n",
    "def drdt(rr, W, I_total, kk, nn, tau):\n",
    "    '''Evaluates the RHS of the r-eqn --- Does not include dt '''\n",
    "    delta_r = (1/tau) * (-rr + rate_powerLaw(rr, W, I_total, kk ,nn))\n",
    "    return delta_r\n",
    "\n",
    "N = 2\n",
    "rcpt_types = 1\n",
    "t = np.arange(0,5000.1, 0.1)\n",
    "fs = np.arange(0, 101, 1)\n",
    "fs = fs/1000 #convert from Hz to kHz\n",
    "c = np.array([0, 25, 50, 100])\n",
    "cons = len(c)\n",
    "\n",
    "J0 = np.array([[Jee, -Jei], [Jie, -Jii]])\n",
    "\n",
    "W = J0\n",
    "#     print('Det(W) =', '%.3f' % np.linalg.det(W))\n",
    "\n",
    "#define nonlinearity parameters\n",
    "kk = 0.04\n",
    "nn = 2\n",
    "\n",
    "if rcpt_types > 1:\n",
    "    g = np.array([1, i2e, 0, 0, 0, 0])\n",
    "else:\n",
    "    g = np.array([1, i2e])\n",
    "\n",
    "tauE = 20.\n",
    "tau_ratio = 2.\n",
    "tauI = tauE/tau_ratio\n",
    "tau = np.array([tauE, tauI])\n",
    "\n",
    "t_scale = 1\n",
    "tauNMDA = 100 * t_scale\n",
    "tauAMPA = 3 * t_scale\n",
    "tauGABA = 5 * t_scale\n",
    "nmdaRatio = 0.1 # sets the ratio of NMDA cells to AMPA cell\n",
    "\n",
    "if rcpt_types > 1:\n",
    "    tauS = np.array([tauAMPA, tauNMDA, tauGABA])\n",
    "    tauSvec = np.kron(tauS, np.ones(N))\n",
    "\n",
    "    Wtot = np.array([[(1-nmdaRatio)*Jee, 0, 0, 0, 0, 0], [(1-nmdaRatio)* Jie, 0, 0, 0, 0, 0], [0, 0, nmdaRatio * Jee, 0, 0, 0], [0, 0, nmdaRatio * Jie, 0, 0, 0], [0, 0, 0, 0, 0, -Jei], [0, 0, 0, 0, 0, -Jii]])\n",
    "\n",
    "else:\n",
    "    tauSvec = tau\n",
    "    Wrcpt = W\n",
    "    Wtot = W\n",
    "\n",
    "r1 = np.zeros([N, cons])\n",
    "r_t = []\n",
    "r_starcons = np.zeros([N, cons])\n",
    "\n",
    "I_total = np.kron( g.reshape(N*rcpt_types,1),  c.reshape(1,cons))\n",
    "#Conv = \n",
    "True\n",
    "indt = 0\n",
    "\n",
    "xtol = 1e-3\n",
    "xmin = 1\n",
    "\n",
    "r1 = np.zeros([N, cons])\n",
    "r_t = []\n",
    "r_starcons = np.zeros([N, cons])\n",
    "\n",
    "I_total = np.kron( g.reshape(N*rcpt_types,1),  c.reshape(1,cons))"
   ]
  },
  {
   "cell_type": "code",
   "execution_count": 15,
   "metadata": {},
   "outputs": [
    {
     "data": {
      "text/plain": [
       "array([[ 0.  ,  1.25,  5.  , 20.  ],\n",
       "       [ 0.  ,  0.9 ,  3.6 , 14.4 ]])"
      ]
     },
     "execution_count": 15,
     "metadata": {},
     "output_type": "execute_result"
    }
   ],
   "source": [
    "np.reshape((1/tau), (N,1))*(-r1 + rate_powerLaw(r1, Wtot, I_total,kk,nn))"
   ]
  },
  {
   "cell_type": "code",
   "execution_count": 4,
   "metadata": {},
   "outputs": [],
   "source": [
    "kk =0.04\n",
    "nn = 2\n",
    "\n",
    "rs = nn*kk**(1/nn)*r1**(1-1/nn)"
   ]
  },
  {
   "cell_type": "code",
   "execution_count": 6,
   "metadata": {},
   "outputs": [
    {
     "data": {
      "text/plain": [
       "2"
      ]
     },
     "execution_count": 6,
     "metadata": {},
     "output_type": "execute_result"
    }
   ],
   "source": [
    "rs.shape[0]"
   ]
  },
  {
   "cell_type": "code",
   "execution_count": null,
   "metadata": {},
   "outputs": [],
   "source": []
  }
 ],
 "metadata": {
  "kernelspec": {
   "display_name": "Python 3",
   "language": "python",
   "name": "python3"
  },
  "language_info": {
   "codemirror_mode": {
    "name": "ipython",
    "version": 3
   },
   "file_extension": ".py",
   "mimetype": "text/x-python",
   "name": "python",
   "nbconvert_exporter": "python",
   "pygments_lexer": "ipython3",
   "version": "3.7.4"
  }
 },
 "nbformat": 4,
 "nbformat_minor": 4
}
