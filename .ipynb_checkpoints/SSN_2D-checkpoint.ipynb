{
 "cells": [
  {
   "cell_type": "code",
   "execution_count": 1,
   "metadata": {},
   "outputs": [],
   "source": [
    "import jax.numpy as np\n",
    "from jax import grad, jit, vmap\n",
    "from jax import random"
   ]
  },
  {
   "cell_type": "code",
   "execution_count": 2,
   "metadata": {},
   "outputs": [
    {
     "name": "stderr",
     "output_type": "stream",
     "text": [
      "/Users/cholt/miniconda3/envs/juC/lib/python3.7/site-packages/jax/lib/xla_bridge.py:114: UserWarning: No GPU/TPU found, falling back to CPU.\n",
      "  warnings.warn('No GPU/TPU found, falling back to CPU.')\n"
     ]
    },
    {
     "data": {
      "text/plain": [
       "DeviceArray([[ 1.70000005, -1.52499998],\n",
       "             [ 1.70000005, -0.5  ]], dtype=float32)"
      ]
     },
     "execution_count": 2,
     "metadata": {},
     "output_type": "execute_result"
    }
   ],
   "source": [
    "N = 2\n",
    "rcpt_types = 3\n",
    "t = np.arange(0,5000.1, 0.1)\n",
    "fs = np.arange(0, 101, 1)\n",
    "fs = fs/1000 #convert from Hz to kHz\n",
    "c = np.array([0, 25, 50, 100])\n",
    "cons = len(c)\n",
    "\n",
    "#[1.7 -1.525; 1.7 -0.5]\n",
    "Jee = 1.7\n",
    "Jei = 1.525\n",
    "Jie = 1.7\n",
    "Jii = 0.5 \n",
    "i2e = 0.6\n",
    "\n",
    "J0 = np.array([[Jee, -Jei], [Jie, -Jii]])\n",
    "J0"
   ]
  },
  {
   "cell_type": "code",
   "execution_count": 3,
   "metadata": {},
   "outputs": [
    {
     "name": "stdout",
     "output_type": "stream",
     "text": [
      "Det(W) = 1.742\n"
     ]
    }
   ],
   "source": [
    "W = J0\n",
    "print('Det(W) =', '%.3f' % np.linalg.det(W))\n",
    "\n",
    "#define nonlinearity parameters\n",
    "kk = 0.04\n",
    "nn = 2\n",
    "\n",
    "if rcpt_types > 1:\n",
    "    g = np.array([1, i2e, 0, 0, 0, 0])\n",
    "else:\n",
    "    g = np.array([1, i2e])\n",
    "\n",
    "tauE = 15\n",
    "tau_ratio = 1\n",
    "tauI = tauE/tau_ratio\n",
    "\n",
    "# tau = np.ones(N)\n",
    "# tau[:2:] = tauE\n",
    "# tau[1:2:] = tauI\n",
    "\n",
    "t_scale = 1\n",
    "tauNMDA = 100 * t_scale\n",
    "tauAMPA = 3 * t_scale\n",
    "tauGABA = 5 * t_scale\n",
    "nmdaRatio = 0.1 # sets the ratio of NMDA cells to AMPA cell \n",
    "\n",
    "NoiseNMDAratio = 0\n",
    "NoiseTau = 1 * t_scale\n",
    "\n",
    "\n",
    "totalT = t[-1]\n",
    "dt = np.mean(np.diff(t))\n",
    "dt2 = np.sqrt(dt)"
   ]
  },
  {
   "cell_type": "code",
   "execution_count": 4,
   "metadata": {},
   "outputs": [],
   "source": [
    "if rcpt_types > 1:\n",
    "    tauS = np.array([tauAMPA, tauNMDA, tauGABA])\n",
    "    tauSvec = np.kron(tauS, np.ones(N))\n",
    "    \n",
    "    Wtot = np.array([[(1-nmdaRatio)*Jee, 0, 0, 0, 0, 0], [(1-nmdaRatio)* Jie, 0, 0, 0, 0, 0], [0, 0, nmdaRatio * Jee, 0, 0, 0], [0, 0, nmdaRatio * Jie, 0, 0, 0], [0, 0, 0, 0, 0, -Jei], [0, 0, 0, 0, 0, -Jii]])\n",
    "    \n",
    "else:\n",
    "    tauSvec = tau\n",
    "    Wrcpt = W\n",
    "    Wtot = W\n",
    "    "
   ]
  },
  {
   "cell_type": "code",
   "execution_count": 5,
   "metadata": {},
   "outputs": [],
   "source": [
    "v1 = np.zeros([N*rcpt_types, cons])\n",
    "r_starcons = np.zeros([N, cons])\n",
    "\n",
    "# vv_t = np.zeros([len(t), N*rcpt_types, cons])\n",
    "# v1 = np.zeros(N*rcpt_types)\n",
    "# r_t = np.zeros([len(t), N, cons])\n",
    "# tt_c = np.zeros([len(t), cons])"
   ]
  },
  {
   "cell_type": "code",
   "execution_count": 6,
   "metadata": {},
   "outputs": [],
   "source": [
    "def rect_powerLaw(vv, kk, nn):\n",
    "    fv = kk*np.maximum(np.array([np.sum(vv[::2,:], axis=0), np.sum(vv[1::2,:],axis=0)]), np.zeros([N, cons]))**nn\n",
    "    return fv\n",
    "\n",
    "def dvdt(vv):\n",
    "    delta_v = np.reshape(dt/tauSvec, [6,1]) * (-vv + Wtot @ np.kron(np.ones([rcpt_types,1]), rect_powerLaw(vv, kk ,nn)) + I_total)\n",
    "    return delta_v\n"
   ]
  },
  {
   "cell_type": "code",
   "execution_count": 7,
   "metadata": {},
   "outputs": [
    {
     "data": {
      "text/plain": [
       "DeviceArray([[  0.      ,  25.      ,  50.      , 100.      ],\n",
       "             [  0.      ,  15.00000095,  30.00000191,  60.00000381],\n",
       "             [  0.      ,   0.      ,   0.      ,   0.      ],\n",
       "             [  0.      ,   0.      ,   0.      ,   0.      ],\n",
       "             [  0.      ,   0.      ,   0.      ,   0.      ],\n",
       "             [  0.      ,   0.      ,   0.      ,   0.      ]],\n",
       "            dtype=float32)"
      ]
     },
     "execution_count": 7,
     "metadata": {},
     "output_type": "execute_result"
    }
   ],
   "source": [
    "I_total = np.kron( g.reshape(N*rcpt_types,1),  c.reshape(1,cons))\n",
    "# I_total = np.kron(c, g)\n",
    "# I_total = np.transpose(np.reshape(I_total, [4, 6]))\n",
    "I_total"
   ]
  },
  {
   "cell_type": "code",
   "execution_count": 10,
   "metadata": {},
   "outputs": [],
   "source": [
    "Conv = True\n",
    "indt = 0\n",
    "\n",
    "for tt in t:\n",
    "\n",
    "    dv = dvdt(v1)\n",
    "    v1 = dv + v1\n",
    "#     vv_t[:,:, tt] = v1\n",
    "    indt += 1\n",
    "    \n",
    "    if tt >= totalT - 1000*dt:\n",
    "        itr = np.max(np.abs(dv))\n",
    "        \n",
    "        if itr > 0.01:\n",
    "            Conv = False"
   ]
  },
  {
   "cell_type": "code",
   "execution_count": 22,
   "metadata": {},
   "outputs": [
    {
     "data": {
      "text/plain": [
       "DeviceArray([[  0.       ,  36.47018433,  63.64903641, 111.50494385],\n",
       "             [  0.       ,  26.4701767,  43.64904022,  71.50494385],\n",
       "             [  0.       ,   1.27440214,   1.51650786,   1.27829814],\n",
       "             [  0.       ,   1.27440214,   1.51650786,   1.27829814],\n",
       "             [  0.       , -24.05441475, -50.23154068, -99.07228851],\n",
       "             [  0.       ,  -7.88669729, -16.46936417, -32.48272324]],\n",
       "            dtype=float32)"
      ]
     },
     "execution_count": 22,
     "metadata": {},
     "output_type": "execute_result"
    }
   ],
   "source": [
    "r_starcons = rect_powerLaw(v1, kk, nn)\n",
    "rs = nn*kk**(1/nn)*r_starcons**(1-1/nn)\n",
    "v1"
   ]
  },
  {
   "cell_type": "code",
   "execution_count": 255,
   "metadata": {},
   "outputs": [],
   "source": [
    "Phi = lambda rr: np.diag(rr)\n",
    "eE = np.array([[1], [0]])\n",
    "eE = np.kron(np.ones([rcpt_types,1]), eE)\n",
    "J = np.array([[Wtot @ np.kron(np.ones([rcpt_types, rcpt_types]), Phi(rs[:,cc])) -np.eye(N*rcpt_types)] for cc in range(cons)])\n",
    "Gf = np.array([-1j * 2 * np.pi * ff * np.diag(np.kron(tauS, np.ones(N))) - J[cc,1] for cc in range(cons) for ff in fs])\n",
    "\n",
    "cuE = np.array([eE for cc in range(cons) for ff in fs])\n",
    "fscons = np.kron(np.ones([1, cons]), fs)"
   ]
  },
  {
   "cell_type": "code",
   "execution_count": 295,
   "metadata": {},
   "outputs": [],
   "source": [
    "iGf = np.linalg.inv(Gf)\n",
    "\n",
    "# x = np.einsum(\"ijk, ikm-> ijm\", iGf, cuE)\n",
    "x = np.matmul(iGf, cuE)\n",
    "\n",
    "y = (1-NoiseNMDAratio) * x[:, :N] + NoiseNMDAratio * x[:, N:(N+N)]\n",
    "y_conj = np.transpose(np.conj(y), [0, 2, 1])\n",
    "\n",
    "# spect = np.einsum('ijk, imk -> ijm', y_conj, y)\n",
    "tapercons = 2 * NoiseTau/np.abs(-1j * 2 * np.pi * fscons * NoiseTau + 1)**2\n",
    "\n",
    "spect = np.squeeze(np.matmul(y_conj, y)) * np.squeeze(tapercons)\n",
    "\n",
    "spect = np.reshape(spect*2/1000, [len(fs), cons], order='F')\n",
    "spect = spect/np.mean(spect)\n"
   ]
  },
  {
   "cell_type": "code",
   "execution_count": 283,
   "metadata": {},
   "outputs": [
    {
     "data": {
      "text/plain": [
       "(404, 2, 1)"
      ]
     },
     "execution_count": 283,
     "metadata": {},
     "output_type": "execute_result"
    }
   ],
   "source": [
    "x[:, N:2*N].shape"
   ]
  },
  {
   "cell_type": "code",
   "execution_count": 189,
   "metadata": {},
   "outputs": [],
   "source": [
    "import matplotlib.pyplot as plt"
   ]
  },
  {
   "cell_type": "code",
   "execution_count": 296,
   "metadata": {},
   "outputs": [
    {
     "data": {
      "text/plain": [
       "[<matplotlib.lines.Line2D at 0x13dea0410>,\n",
       " <matplotlib.lines.Line2D at 0x13dea06d0>,\n",
       " <matplotlib.lines.Line2D at 0x13dea0990>,\n",
       " <matplotlib.lines.Line2D at 0x13dea0c50>]"
      ]
     },
     "execution_count": 296,
     "metadata": {},
     "output_type": "execute_result"
    },
    {
     "data": {
      "image/png": "[encoded data removed]",
      "text/plain": [
       "<Figure size 432x288 with 1 Axes>"
      ]
     },
     "metadata": {
      "needs_background": "light"
     },
     "output_type": "display_data"
    }
   ],
   "source": [
    "plt.plot(fs*1000, np.real(spect))"
   ]
  },
  {
   "cell_type": "code",
   "execution_count": 257,
   "metadata": {},
   "outputs": [
    {
     "data": {
      "text/plain": [
       "(1, 404)"
      ]
     },
     "execution_count": 257,
     "metadata": {},
     "output_type": "execute_result"
    }
   ],
   "source": [
    "tapercons.shape"
   ]
  },
  {
   "cell_type": "code",
   "execution_count": 206,
   "metadata": {},
   "outputs": [
    {
     "data": {
      "text/plain": [
       "DeviceArray([[ 6,  6,  6],\n",
       "             [15, 15, 15],\n",
       "             [24, 24, 24]], dtype=int32)"
      ]
     },
     "execution_count": 206,
     "metadata": {},
     "output_type": "execute_result"
    }
   ],
   "source": [
    "A = np.array([[1, 2, 3], [4, 5, 6], [7, 8, 9]])\n",
    "B = np.ones_like(A)\n",
    "C = np.einsum(\"ij, jl -> il\", A, B)\n",
    "C"
   ]
  },
  {
   "cell_type": "code",
   "execution_count": 237,
   "metadata": {},
   "outputs": [
    {
     "data": {
      "text/plain": [
       "DeviceArray([[[-2.00000024,  1.00000012],\n",
       "              [ 1.50000012, -0.50000006]],\n",
       "\n",
       "             [[-1.25000012,  0.75000006],\n",
       "              [ 0.75000006, -0.25000003]]], dtype=float32)"
      ]
     },
     "execution_count": 237,
     "metadata": {},
     "output_type": "execute_result"
    }
   ],
   "source": [
    "a = np.array([[[1., 2.], [3., 4.]], [[1, 3], [3, 5]]])\n",
    "inv_a = np.linalg.inv(a)\n",
    "inv_a"
   ]
  },
  {
   "cell_type": "code",
   "execution_count": 294,
   "metadata": {},
   "outputs": [
    {
     "data": {
      "text/plain": [
       "DeviceArray([ 1.        +0.00000000e+00j,  0.9996447 -5.39970735e-10j,\n",
       "              0.99858081+1.75421988e-09j,  0.99681234+1.56341784e-09j,\n",
       "              0.99434733-2.18872920e-10j,  0.99119556+1.16618359e-09j,\n",
       "              0.98737043-3.63478847e-09j,  0.9828878 -4.06599021e-09j,\n",
       "              0.97776604+9.14468501e-10j,  0.97202533+8.64290861e-10j,\n",
       "              0.96568853+6.33389785e-09j,  0.95878011-7.32391925e-11j,\n",
       "              0.95132631-2.37166287e-09j,  0.94335467+4.66896921e-09j,\n",
       "              0.93489403+3.44739881e-09j,  0.92597413-5.95823479e-09j,\n",
       "              0.91662544-8.27935409e-09j,  0.90687853-6.85167478e-09j,\n",
       "              0.89676511-1.48980650e-08j,  0.8863163 +8.34188540e-09j,\n",
       "              0.87556285+2.50471288e-09j,  0.86453599+6.34251052e-09j,\n",
       "              0.85326564-7.51514762e-09j,  0.84178138+8.48174864e-11j,\n",
       "              0.8301124 -6.07792927e-09j,  0.81828624-7.04480030e-09j,\n",
       "              0.8063302 -9.01323460e-09j,  0.7942698 -1.80733295e-09j,\n",
       "              0.78212988-5.23191090e-09j,  0.7699343 +5.27798960e-09j,\n",
       "              0.75770479+1.18039392e-08j,  0.74546266-4.37445635e-09j,\n",
       "              0.73322755+1.48384487e-08j,  0.72101778+8.35321146e-10j,\n",
       "              0.70885098-1.46046020e-08j,  0.69674295+2.72746448e-09j,\n",
       "              0.68470818+1.44367664e-08j,  0.67276025-7.03078484e-09j,\n",
       "              0.6609118 +1.29175906e-08j,  0.64917344-4.84896390e-09j,\n",
       "              0.63755614-1.29011148e-08j,  0.62606871+2.49340104e-10j,\n",
       "              0.61471897+1.47424508e-08j,  0.60351473-1.53608681e-09j,\n",
       "              0.59246212+6.85572843e-09j,  0.58156639+4.14488177e-09j,\n",
       "              0.57083261+4.79711559e-09j,  0.56026459+2.66744848e-09j,\n",
       "              0.54986602-1.04898952e-08j,  0.53963947-7.69946951e-09j,\n",
       "              0.52958685-6.13143314e-09j,  0.51970994+5.26881649e-10j,\n",
       "              0.51000977-1.03464117e-08j,  0.50048685+1.45110590e-10j,\n",
       "              0.4911418 +4.99395902e-09j,  0.48197415-3.20582139e-09j,\n",
       "              0.47298351-3.60263641e-09j,  0.46416885-2.28886599e-09j,\n",
       "              0.45552927+2.88669888e-09j,  0.44706336-4.70804018e-09j,\n",
       "              0.43876958+2.00716954e-09j,  0.43064594+2.81526003e-09j,\n",
       "              0.42269084-7.20592475e-09j,  0.41490188+6.90484114e-10j,\n",
       "              0.40727687+1.45650603e-09j,  0.39981332+2.79815104e-09j,\n",
       "              0.39250907+8.70233663e-10j,  0.38536125-4.49232296e-09j,\n",
       "              0.37836739-7.11158687e-09j,  0.37152475+4.03501943e-09j,\n",
       "              0.36483055+5.58701174e-09j,  0.35828215-6.67367850e-09j,\n",
       "              0.35187668+2.50760301e-09j,  0.34561127-9.97504301e-10j,\n",
       "              0.33948311+4.35001368e-10j,  0.33348951+6.77303458e-09j,\n",
       "              0.3276276 -9.32798727e-10j,  0.3218945 -5.41092149e-09j,\n",
       "              0.31628752+4.04710931e-10j,  0.31080386+3.78317822e-09j,\n",
       "              0.30544075-4.70821870e-09j,  0.3001956 +6.32826502e-09j,\n",
       "              0.2950657 +4.53952342e-09j,  0.29004833+3.94847710e-09j,\n",
       "              0.2851409 -6.31617425e-09j,  0.28034094+4.93418639e-10j,\n",
       "              0.275646  +2.20069651e-09j,  0.2710534 +2.84741652e-09j,\n",
       "              0.26656091+6.67295552e-10j,  0.26216599-1.74134751e-09j,\n",
       "              0.25786644-2.73686318e-09j,  0.2536599 -9.95809657e-10j,\n",
       "              0.24954407-3.59775854e-09j,  0.2455169 -5.83132209e-10j,\n",
       "              0.24157615+1.75990600e-09j,  0.23771968+1.29835698e-09j,\n",
       "              0.23394556-1.40107659e-09j,  0.23025176+2.52981991e-09j,\n",
       "              0.22663626+2.32604158e-10j,  0.22309716-1.31666278e-09j,\n",
       "              0.21963264-2.47172238e-09j, 25.60564423+0.00000000e+00j,\n",
       "             22.69189453+7.12497084e-08j, 19.12253571+3.18307514e-08j,\n",
       "             17.21710205+8.33495761e-08j, 16.25082779-4.96378050e-10j,\n",
       "             15.71896172-1.07247828e-08j, 15.39879417-7.76329898e-08j,\n",
       "             15.19073105-2.82928454e-08j, 15.04690742+9.96131178e-09j,\n",
       "             14.94263458-4.50186661e-08j, 14.86447525-5.19377181e-08j,\n",
       "             14.80478096+3.82486576e-08j, 14.75915432+8.48692139e-09j,\n",
       "             14.72504425-7.39171355e-08j, 14.70102787+1.62612253e-08j,\n",
       "             14.68639755+5.71690180e-08j, 14.68091774+8.38809910e-10j,\n",
       "             14.68466663-2.93805726e-08j, 14.69794273-1.31099796e-07j,\n",
       "             14.72119522+2.28907027e-08j, 14.7550106 +3.61735886e-08j,\n",
       "             14.80006027-8.06468279e-08j, 14.8571043 +2.39575400e-08j,\n",
       "             14.9269886 +6.25823304e-09j, 15.0106163 -6.10377100e-08j,\n",
       "             15.10898113-1.09870825e-07j, 15.22316074+4.46445654e-08j,\n",
       "             15.35431099+1.46666252e-08j, 15.50370121-2.55091663e-08j,\n",
       "             15.67271042-1.28878128e-07j, 15.86284637+9.10796984e-08j,\n",
       "             16.07577324-4.83777001e-08j, 16.31331253-2.00750492e-08j,\n",
       "             16.57748413+6.90130264e-09j, 16.87052536+3.82353278e-08j,\n",
       "             17.19490242-1.27699991e-07j, 17.55343246+2.17659704e-08j,\n",
       "             17.94917679+4.59478997e-08j, 18.38561249-2.25371082e-07j,\n",
       "             18.866642  -1.59576530e-08j, 19.39665794+1.00149663e-07j,\n",
       "             19.98058701+4.62470098e-08j, 20.62398911+6.83138524e-09j,\n",
       "             21.33314133-6.59450734e-08j, 22.11515808+6.39471409e-09j,\n",
       "             22.97805023-3.91241031e-08j, 23.93087196-1.22328942e-07j,\n",
       "             24.98379898-1.36386348e-07j, 26.14829636-7.43139026e-08j,\n",
       "             27.43718338-8.01290980e-08j, 28.86463165-3.11933945e-09j,\n",
       "             30.44628906+3.92327706e-07j, 32.19909286+2.11404313e-07j,\n",
       "             34.14086533+4.41015573e-07j, 36.28987122+4.18105287e-07j,\n",
       "             38.66372299+2.06094228e-07j, 41.27748489-2.94051347e-07j,\n",
       "             44.14125443+1.30494413e-07j, 47.25610352-5.06193146e-07j,\n",
       "             50.60855103+3.48646154e-07j, 54.16321945-5.17123340e-07j,\n",
       "             57.8540802 -4.44571924e-07j, 61.574646  +7.75261356e-07j,\n",
       "             65.17042542+3.45043304e-07j, 68.43653107+4.57539500e-07j,\n",
       "             71.12706757+1.52613097e-07j, 72.98020172+6.84342353e-07j,\n",
       "             73.75872803-1.51888287e-07j, 73.30099487-8.59061515e-08j,\n",
       "             71.56334686-8.55440589e-08j, 68.63848877+2.20738343e-08j,\n",
       "             64.73893738-5.96473342e-07j, 60.15228653+3.44399382e-07j,\n",
       "             55.18474579+1.27820385e-08j, 50.1136055 +1.65603296e-07j,\n",
       "             45.15805817-7.71806413e-07j, 40.47076416-3.08103836e-07j,\n",
       "             36.14281464-3.59110004e-07j, 32.21634674+5.70998736e-07j,\n",
       "             28.6987114 +3.70897510e-07j, 25.57463074+1.65825952e-07j,\n",
       "             22.81603813+2.14135866e-07j, 20.38867188+1.70763883e-07j,\n",
       "             18.25660706-7.49992068e-08j, 16.38497162-5.13211944e-08j,\n",
       "             14.74131203+1.46807423e-07j, 13.29630089+2.80672907e-08j,\n",
       "             12.02397156+1.56339354e-07j, 10.90149307-1.42898102e-08j,\n",
       "              9.9090929 -1.93129779e-08j,  9.02966404-9.52474011e-08j,\n",
       "              8.24844837+8.13344059e-10j,  7.55275822-5.90661386e-09j,\n",
       "              6.93170834+1.75751254e-08j,  6.37590408-7.88894283e-09j,\n",
       "              5.8772831 -6.36989483e-08j,  5.42888689+4.22425330e-08j,\n",
       "              5.02470398+2.32603696e-08j,  4.65954113-4.04595717e-08j,\n",
       "              4.32889748+2.19443166e-08j,  4.02885866-3.74302260e-08j,\n",
       "             17.38615036+0.00000000e+00j, 15.59087563-3.07538954e-08j,\n",
       "             13.3463974 +2.16660396e-08j, 12.12190628+4.05735534e-09j,\n",
       "             11.48639774+3.65629695e-08j, 11.12434769-4.68562362e-08j,\n",
       "             10.89429951-3.45728211e-08j, 10.73251629-1.99007246e-08j,\n",
       "             10.60825253-3.89984933e-08j, 10.50564766-1.86916793e-09j,\n",
       "             10.41604137+1.99747987e-08j, 10.33454323+1.14461258e-08j,\n",
       "             10.25832367-4.26732996e-08j, 10.18573952+6.71588793e-08j,\n",
       "             10.11587143+8.44513579e-08j, 10.04824638+9.72912062e-09j,\n",
       "              9.98266506-2.81003949e-08j,  9.91912174+5.38539453e-08j,\n",
       "              9.85770321+1.67548748e-08j,  9.79859734-1.69957275e-08j,\n",
       "              9.74202347+2.68256457e-08j,  9.68823814-5.97021099e-08j,\n",
       "              9.63749886-1.39352494e-08j,  9.59009171+7.71707960e-08j,\n",
       "              9.54629326-1.05530262e-07j,  9.50638485-4.38247270e-08j,\n",
       "              9.47065163+1.27630386e-08j,  9.43936825+2.52013592e-08j,\n",
       "              9.41280556+1.02106554e-08j,  9.39125633-3.76364113e-08j,\n",
       "              9.37498951-1.18773187e-08j,  9.36429596+4.68705821e-08j,\n",
       "              9.35946369-1.31427811e-07j,  9.36078548+4.27480700e-08j,\n",
       "              9.36857986+8.78825546e-08j,  9.38316441-5.17634078e-08j,\n",
       "              9.40487003-6.01050942e-08j,  9.43406773-7.46376685e-08j,\n",
       "              9.47113037+1.03867578e-07j,  9.51647091-7.27218037e-08j,\n",
       "              9.57052422-5.82095225e-08j,  9.63376808-2.56529944e-08j,\n",
       "              9.70671368+5.39139435e-08j,  9.78991318-1.65073288e-08j,\n",
       "              9.88398647-3.24150164e-08j,  9.98959541-1.58464388e-08j,\n",
       "             10.10746193-5.87203175e-08j, 10.23839664+1.65010192e-08j,\n",
       "             10.38327789+1.08418078e-07j, 10.54308128+3.24622249e-08j,\n",
       "             10.71887302-6.43676827e-08j, 10.91184139+4.91373839e-08j,\n",
       "             11.12330341+5.90128266e-08j, 11.354702  -6.27054533e-08j,\n",
       "             11.60766792+2.27314274e-08j, 11.88397884+5.51134463e-08j,\n",
       "             12.1856451 +5.52680319e-08j, 12.51486397-8.04642752e-08j,\n",
       "             12.87410545-4.47180355e-08j, 13.26611328+1.05058007e-07j,\n",
       "             13.693964  +2.30871308e-07j, 14.16103077-2.00284518e-08j,\n",
       "             14.67108917+1.94476797e-07j, 15.22834396-6.11799749e-08j,\n",
       "             15.83739281-2.38292387e-07j, 16.50337219-4.05563014e-08j,\n",
       "             17.2318573 +1.16743877e-07j, 18.02891922-2.05821493e-07j,\n",
       "             18.90111732-8.09942264e-08j, 19.85533905+1.11612252e-07j,\n",
       "             20.89879608-1.94425297e-07j, 22.03864098+3.06789843e-07j,\n",
       "             23.28175163-2.64777839e-07j, 24.63400841+1.28258307e-07j,\n",
       "             26.09967804-2.55146176e-07j, 27.68008423+1.69357463e-07j,\n",
       "             29.37219048+3.03605134e-07j, 31.16650009-4.13302473e-07j,\n",
       "             33.04470825+6.52204335e-08j, 34.97673035-4.12389682e-07j,\n",
       "             36.91784668+8.84929250e-08j, 38.80677032+3.90933224e-08j,\n",
       "             40.56457901-8.28885618e-08j, 42.09707642+1.25310521e-07j,\n",
       "             43.30123138+1.45755450e-07j, 44.07515717+5.82440975e-08j,\n",
       "             44.33343506-7.79111531e-09j, 44.02140808-1.00291686e-09j,\n",
       "             43.1272049 +1.56487033e-07j, 41.68648911+4.91667151e-09j,\n",
       "             39.77761078-2.49911011e-07j, 37.50878143-1.56731403e-07j,\n",
       "             35.00102997+1.07119945e-07j, 32.37280273+1.10601491e-07j,\n",
       "             29.72708511+3.13995884e-07j, 27.1454277 -2.55000487e-07j,\n",
       "             24.68637466-1.68381575e-08j, 22.38706779-2.17165052e-07j,\n",
       "             20.26737213+2.22022095e-07j, 18.33377075+3.48566289e-07j,\n",
       "             16.5836792 -4.78656830e-08j, 12.05149937+0.00000000e+00j,\n",
       "             10.89224815+2.09585451e-08j,  9.43158817+7.95889576e-09j,\n",
       "              8.62688446+3.85212218e-09j,  8.2036972 -4.42293668e-09j,\n",
       "              7.95739174-1.89731963e-08j,  7.7957139 -1.78584436e-08j,\n",
       "              7.67700481+2.06803676e-08j,  7.58117151-2.29826469e-08j,\n",
       "              7.49784756-3.99671478e-08j,  7.4214201 +3.67438986e-08j,\n",
       "              7.34872627-3.36204096e-08j,  7.27796555+2.40114559e-08j,\n",
       "              7.20811558-1.58065063e-08j,  7.13862467+2.12040590e-08j,\n",
       "              7.06922817-4.42258710e-08j,  6.99984264-5.09045179e-08j,\n",
       "              6.93049765+2.51223753e-09j,  6.86129379+6.48181953e-09j,\n",
       "              6.79237127-2.43970675e-08j,  6.72389603+2.02405772e-08j,\n",
       "              6.65604401-1.92627709e-08j,  6.58899689+1.46803245e-08j,\n",
       "              6.52292776+2.17244533e-08j,  6.45800924-4.16723154e-08j,\n",
       "              6.3944025 +6.61331967e-09j,  6.33225965+5.85287552e-08j,\n",
       "              6.27172184-3.15957251e-08j,  6.21291733-6.10739903e-09j,\n",
       "              6.15597153+2.54996735e-09j,  6.10099077+2.21673275e-08j,\n",
       "              6.0480814 +4.22329549e-08j,  5.99733162+1.74752302e-08j,\n",
       "              5.9488306 -5.32315596e-08j,  5.90265846+1.17966295e-08j,\n",
       "              5.85888243-3.00780130e-08j,  5.81757689-8.05908940e-09j,\n",
       "              5.77880287+6.25950634e-08j,  5.74262285-2.09490167e-08j,\n",
       "              5.70909023-2.85496355e-08j,  5.67826271-2.23716157e-08j,\n",
       "              5.65019035-6.48925891e-08j,  5.62493229+4.51069582e-08j,\n",
       "              5.60253525-6.34378239e-09j,  5.5830555 -3.72937876e-08j,\n",
       "              5.56653976+1.44631258e-08j,  5.55305004-2.91413826e-08j,\n",
       "              5.54263639-4.46749979e-08j,  5.53535891-3.28447314e-08j,\n",
       "              5.53128052-8.76369199e-09j,  5.5304594 +7.22905042e-08j,\n",
       "              5.5329628 +1.69850125e-08j,  5.53886509-6.09098265e-08j,\n",
       "              5.54823303+2.15654694e-08j,  5.56114674-1.02636477e-08j,\n",
       "              5.57769012-1.96742889e-08j,  5.59794283-3.86285137e-09j,\n",
       "              5.62199593+6.40534665e-08j,  5.64994717-5.67636675e-08j,\n",
       "              5.68189049+1.83259630e-08j,  5.71792507+4.66446295e-08j,\n",
       "              5.75816441+4.17954169e-08j,  5.80270815+3.66469806e-08j,\n",
       "              5.85167074+2.36420092e-08j,  5.90516758-9.59414876e-08j,\n",
       "              5.96330452+2.85771478e-08j,  6.02619171-2.80105752e-08j,\n",
       "              6.09394598+7.00140390e-09j,  6.16666222-7.09860473e-08j,\n",
       "              6.24444008+1.14230176e-07j,  6.32736111-2.91104527e-08j,\n",
       "              6.4154911 +1.33075062e-08j,  6.50888109+1.09748726e-07j,\n",
       "              6.60754824-7.95831028e-08j,  6.71148539+1.40101548e-07j,\n",
       "              6.8206501 -9.60829709e-08j,  6.93492842+1.66411695e-07j,\n",
       "              7.05416679+1.07890372e-08j,  7.17813492-5.02722060e-08j,\n",
       "              7.3065114 +4.16087573e-08j,  7.43888474-2.89857951e-08j,\n",
       "              7.57473183-4.81392703e-08j,  7.71338463-4.95665944e-08j,\n",
       "              7.85403967-3.25695737e-09j,  7.99572754+8.84835458e-08j,\n",
       "              8.13729095+6.24698373e-08j,  8.27738953+7.54026530e-09j,\n",
       "              8.41447067-9.85595108e-08j,  8.54677868-7.61648096e-08j,\n",
       "              8.67236137+5.44235661e-08j,  8.78907681+6.32823571e-09j,\n",
       "              8.89461231-8.52124913e-08j,  8.98652935+3.40868738e-08j,\n",
       "              9.06233692-3.04742542e-08j,  9.11952782+4.69449617e-08j,\n",
       "              9.15569115-1.57986904e-08j,  9.16858482+2.86124191e-08j,\n",
       "              9.15625572-1.47665542e-08j,  9.11715221-7.66090835e-09j,\n",
       "              9.05013466+1.63266911e-08j,  8.95468616+1.25854598e-08j],\n",
       "            dtype=complex64)"
      ]
     },
     "execution_count": 294,
     "metadata": {},
     "output_type": "execute_result"
    }
   ],
   "source": [
    "np.squeeze(np.matmul(y_conj, y))"
   ]
  },
  {
   "cell_type": "code",
   "execution_count": 289,
   "metadata": {},
   "outputs": [
    {
     "data": {
      "text/plain": [
       "DeviceArray([[0.+0.j],\n",
       "             [0.+0.j],\n",
       "             [0.+0.j],\n",
       "             [0.+0.j],\n",
       "             [0.+0.j],\n",
       "             [0.+0.j]], dtype=complex64)"
      ]
     },
     "execution_count": 289,
     "metadata": {},
     "output_type": "execute_result"
    }
   ],
   "source": [
    "(iGf[403] @ cuE[403]) - x[403]"
   ]
  },
  {
   "cell_type": "code",
   "execution_count": 271,
   "metadata": {},
   "outputs": [
    {
     "data": {
      "text/plain": [
       "DeviceArray([[ 2.02596545+0.00523263j, -1.38562214-0.00588392j,\n",
       "               0.75048965+0.43859053j, -1.00262594-0.60973394j,\n",
       "               1.02608693-0.00072046j, -1.38500178-0.02327667j],\n",
       "             [ 1.02632082-0.01361023j, -0.38597748+0.01295893j,\n",
       "               0.75048971+0.43859062j, -1.00262606-0.609734j  ,\n",
       "               1.02608693-0.00072046j, -1.3850019 -0.02327668j],\n",
       "             [ 0.08338774+0.04873229j, -0.11140289-0.06774823j,\n",
       "               0.75615603+0.52226734j, -0.05121355-0.09782675j,\n",
       "               0.08274308+0.04975992j, -0.11050843-0.06912006j],\n",
       "             [ 0.08338774+0.04873229j, -0.11140289-0.06774823j,\n",
       "               0.03919928+0.0717901j ,  0.66574323+0.35265046j,\n",
       "               0.08274307+0.04975992j, -0.11050843-0.06912005j],\n",
       "             [-1.49702525-0.07363215j,  0.67005605+0.08570754j,\n",
       "              -1.05383956-0.70756078j,  0.4486399 +0.35496598j,\n",
       "              -0.49649641-0.06101178j,  0.66871572+0.0940856j ],\n",
       "             [-0.49082792-0.02414169j,  0.2196905 +0.02810083j,\n",
       "              -0.34552115-0.23198715j,  0.14709502+0.11638229j,\n",
       "              -0.49033129-0.03029401j,  1.21826506+0.06223269j]],\n",
       "            dtype=complex64)"
      ]
     },
     "execution_count": 271,
     "metadata": {},
     "output_type": "execute_result"
    }
   ],
   "source": [
    "np.linalg.inv(Gf[102])"
   ]
  },
  {
   "cell_type": "code",
   "execution_count": 270,
   "metadata": {},
   "outputs": [
    {
     "data": {
      "text/plain": [
       "DeviceArray([[-0.67567706-0.01884956j,  0.        +0.j        ,\n",
       "              -1.67567706+0.j        ,  0.        +0.j        ,\n",
       "              -1.67567706+0.j        ,  0.        +0.j        ],\n",
       "             [-1.67567706+0.j        ,  1.        -0.01884956j,\n",
       "              -1.67567706+0.j        ,  0.        +0.j        ,\n",
       "              -1.67567706+0.j        ,  0.        +0.j        ],\n",
       "             [-0.18618634+0.j        ,  0.        +0.j        ,\n",
       "               0.81381369-0.62831855j,  0.        +0.j        ,\n",
       "              -0.18618634+0.j        ,  0.        +0.j        ],\n",
       "             [-0.18618634+0.j        ,  0.        +0.j        ,\n",
       "              -0.18618634+0.j        ,  1.        -0.62831855j,\n",
       "              -0.18618634+0.j        ,  0.        +0.j        ],\n",
       "             [ 0.        +0.j        ,  2.42266154+0.j        ,\n",
       "               0.        +0.j        ,  2.42266154+0.j        ,\n",
       "               1.        -0.03141593j,  2.42266154+0.j        ],\n",
       "             [ 0.        +0.j        ,  0.79431528+0.j        ,\n",
       "               0.        +0.j        ,  0.79431528+0.j        ,\n",
       "               0.        +0.j        ,  1.79431534-0.03141593j]],\n",
       "            dtype=complex64)"
      ]
     },
     "execution_count": 270,
     "metadata": {},
     "output_type": "execute_result"
    }
   ],
   "source": [
    "Gf[102]"
   ]
  },
  {
   "cell_type": "code",
   "execution_count": null,
   "metadata": {},
   "outputs": [],
   "source": []
  }
 ],
 "metadata": {
  "kernelspec": {
   "display_name": "Python 3",
   "language": "python",
   "name": "python3"
  },
  "language_info": {
   "codemirror_mode": {
    "name": "ipython",
    "version": 3
   },
   "file_extension": ".py",
   "mimetype": "text/x-python",
   "name": "python",
   "nbconvert_exporter": "python",
   "pygments_lexer": "ipython3",
   "version": "3.7.4"
  }
 },
 "nbformat": 4,
 "nbformat_minor": 4
}
